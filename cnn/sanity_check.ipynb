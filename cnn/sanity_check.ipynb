{
 "cells": [
  {
   "cell_type": "code",
   "execution_count": 59,
   "metadata": {},
   "outputs": [],
   "source": [
    "import geopandas as gpd\n",
    "import pandas as pd\n",
    "import numpy as np"
   ]
  },
  {
   "cell_type": "code",
   "execution_count": 60,
   "metadata": {},
   "outputs": [],
   "source": [
    "df_geo = gpd.read_file('../data/malawi/grid/grid.shp')"
   ]
  },
  {
   "cell_type": "code",
   "execution_count": 61,
   "metadata": {},
   "outputs": [],
   "source": [
    "clusters = pd.read_csv('cluster_data.csv')"
   ]
  },
  {
   "cell_type": "code",
   "execution_count": 62,
   "metadata": {},
   "outputs": [],
   "source": [
    "def find_idx(point):\n",
    "    for i, poly in enumerate(df_geo['geometry']):\n",
    "        if poly.contains(point):\n",
    "            return i\n",
    "    return np.nan\n",
    "\n",
    "from shapely.geometry.point import Point\n",
    "points = clusters.apply(lambda x: Point(x.lon, x.lat), axis=1)\n",
    "\n",
    "clusters['geo_idx'] = points.apply(find_idx)"
   ]
  },
  {
   "cell_type": "code",
   "execution_count": 63,
   "metadata": {},
   "outputs": [
    {
     "data": {
      "text/html": [
       "<div>\n",
       "<style scoped>\n",
       "    .dataframe tbody tr th:only-of-type {\n",
       "        vertical-align: middle;\n",
       "    }\n",
       "\n",
       "    .dataframe tbody tr th {\n",
       "        vertical-align: top;\n",
       "    }\n",
       "\n",
       "    .dataframe thead th {\n",
       "        text-align: right;\n",
       "    }\n",
       "</style>\n",
       "<table border=\"1\" class=\"dataframe\">\n",
       "  <thead>\n",
       "    <tr style=\"text-align: right;\">\n",
       "      <th></th>\n",
       "      <th>lat</th>\n",
       "      <th>lon</th>\n",
       "      <th>cluster_cons</th>\n",
       "      <th>cluster_phone_cons</th>\n",
       "      <th>cluster_hh_f34</th>\n",
       "      <th>cluster_hh_f35</th>\n",
       "      <th>cluster_phone_na</th>\n",
       "      <th>cluster_hh_f34_na</th>\n",
       "      <th>cluster_hh_f35_na</th>\n",
       "      <th>cluster_count</th>\n",
       "      <th>nightlights</th>\n",
       "      <th>geo_idx</th>\n",
       "    </tr>\n",
       "  </thead>\n",
       "  <tbody>\n",
       "    <tr>\n",
       "      <th>0</th>\n",
       "      <td>-17.095150</td>\n",
       "      <td>35.217213</td>\n",
       "      <td>965.33620</td>\n",
       "      <td>235.160630</td>\n",
       "      <td>0.8750</td>\n",
       "      <td>36.388459</td>\n",
       "      <td>0.0</td>\n",
       "      <td>0.0</td>\n",
       "      <td>0.5000</td>\n",
       "      <td>16</td>\n",
       "      <td>0.000000</td>\n",
       "      <td>1039.0</td>\n",
       "    </tr>\n",
       "    <tr>\n",
       "      <th>1</th>\n",
       "      <td>-17.092351</td>\n",
       "      <td>35.114643</td>\n",
       "      <td>1048.07580</td>\n",
       "      <td>13.954665</td>\n",
       "      <td>0.1250</td>\n",
       "      <td>9.803922</td>\n",
       "      <td>0.0</td>\n",
       "      <td>0.0</td>\n",
       "      <td>0.8750</td>\n",
       "      <td>16</td>\n",
       "      <td>0.000000</td>\n",
       "      <td>1001.0</td>\n",
       "    </tr>\n",
       "    <tr>\n",
       "      <th>2</th>\n",
       "      <td>-17.016698</td>\n",
       "      <td>35.079629</td>\n",
       "      <td>1096.28700</td>\n",
       "      <td>9.645964</td>\n",
       "      <td>0.1250</td>\n",
       "      <td>6.449948</td>\n",
       "      <td>0.0</td>\n",
       "      <td>0.0</td>\n",
       "      <td>0.8750</td>\n",
       "      <td>16</td>\n",
       "      <td>0.000000</td>\n",
       "      <td>960.0</td>\n",
       "    </tr>\n",
       "    <tr>\n",
       "      <th>3</th>\n",
       "      <td>-16.977243</td>\n",
       "      <td>35.205706</td>\n",
       "      <td>1213.12650</td>\n",
       "      <td>35.603516</td>\n",
       "      <td>0.1875</td>\n",
       "      <td>15.766541</td>\n",
       "      <td>0.0</td>\n",
       "      <td>0.0</td>\n",
       "      <td>0.8125</td>\n",
       "      <td>16</td>\n",
       "      <td>0.121212</td>\n",
       "      <td>1038.0</td>\n",
       "    </tr>\n",
       "    <tr>\n",
       "      <th>4</th>\n",
       "      <td>-16.956385</td>\n",
       "      <td>35.168967</td>\n",
       "      <td>862.61523</td>\n",
       "      <td>19.372486</td>\n",
       "      <td>0.2500</td>\n",
       "      <td>6.449948</td>\n",
       "      <td>0.0</td>\n",
       "      <td>0.0</td>\n",
       "      <td>0.7500</td>\n",
       "      <td>16</td>\n",
       "      <td>0.502674</td>\n",
       "      <td>1000.0</td>\n",
       "    </tr>\n",
       "  </tbody>\n",
       "</table>\n",
       "</div>"
      ],
      "text/plain": [
       "         lat        lon  cluster_cons  cluster_phone_cons  cluster_hh_f34  \\\n",
       "0 -17.095150  35.217213     965.33620          235.160630          0.8750   \n",
       "1 -17.092351  35.114643    1048.07580           13.954665          0.1250   \n",
       "2 -17.016698  35.079629    1096.28700            9.645964          0.1250   \n",
       "3 -16.977243  35.205706    1213.12650           35.603516          0.1875   \n",
       "4 -16.956385  35.168967     862.61523           19.372486          0.2500   \n",
       "\n",
       "   cluster_hh_f35  cluster_phone_na  cluster_hh_f34_na  cluster_hh_f35_na  \\\n",
       "0       36.388459               0.0                0.0             0.5000   \n",
       "1        9.803922               0.0                0.0             0.8750   \n",
       "2        6.449948               0.0                0.0             0.8750   \n",
       "3       15.766541               0.0                0.0             0.8125   \n",
       "4        6.449948               0.0                0.0             0.7500   \n",
       "\n",
       "   cluster_count  nightlights  geo_idx  \n",
       "0             16     0.000000   1039.0  \n",
       "1             16     0.000000   1001.0  \n",
       "2             16     0.000000    960.0  \n",
       "3             16     0.121212   1038.0  \n",
       "4             16     0.502674   1000.0  "
      ]
     },
     "execution_count": 63,
     "metadata": {},
     "output_type": "execute_result"
    }
   ],
   "source": [
    "clusters.head()"
   ]
  },
  {
   "cell_type": "code",
   "execution_count": 64,
   "metadata": {},
   "outputs": [],
   "source": [
    "preds = pd.read_csv('../results/malawi/ridge_phone_density/predictions.csv')"
   ]
  },
  {
   "cell_type": "code",
   "execution_count": 65,
   "metadata": {},
   "outputs": [
    {
     "data": {
      "text/plain": [
       "((1203, 17), (1203, 5))"
      ]
     },
     "execution_count": 65,
     "metadata": {},
     "output_type": "execute_result"
    }
   ],
   "source": [
    "df_geo['geo_idx'] = np.arange(len(df_geo))\n",
    "df_geo['centroid'] = df_geo['geometry'].centroid\n",
    "\n",
    "df_geo['centroid_lat'] = df_geo['centroid'].apply(lambda point: point.y)\n",
    "df_geo['centroid_lon'] = df_geo['centroid'].apply(lambda point: point.x)\n",
    "\n",
    "preds['centroid_lat'] = preds['centroid_lat'].astype(np.float64)\n",
    "preds['centroid_lon'] = preds['centroid_lon'].astype(np.float64)\n",
    "\n",
    "df_geo['centroid_lat'] = df_geo['centroid_lat'].astype(np.float64)\n",
    "df_geo['centroid_lon'] = df_geo['centroid_lon'].astype(np.float64)\n",
    "\n",
    "# must use ints for merging\n",
    "df_geo['merge_lat'] = (10000 * df_geo['centroid_lat']).astype(int)\n",
    "df_geo['merge_lon'] = (10000 * df_geo['centroid_lon']).astype(int)\n",
    "\n",
    "preds['merge_lat'] = (10000 * preds['centroid_lat']).astype(int)\n",
    "preds['merge_lon'] = (10000 * preds['centroid_lon']).astype(int)\n",
    "\n",
    "df_geo.shape, preds.shape"
   ]
  },
  {
   "cell_type": "code",
   "execution_count": 66,
   "metadata": {},
   "outputs": [],
   "source": [
    "merged = pd.merge(df_geo, preds.drop(['centroid_lat', 'centroid_lon'], axis=1), on=['merge_lat', 'merge_lon'])"
   ]
  },
  {
   "cell_type": "code",
   "execution_count": 67,
   "metadata": {},
   "outputs": [
    {
     "data": {
      "text/plain": [
       "(1203, 18)"
      ]
     },
     "execution_count": 67,
     "metadata": {},
     "output_type": "execute_result"
    }
   ],
   "source": [
    "merged.shape"
   ]
  },
  {
   "cell_type": "code",
   "execution_count": 68,
   "metadata": {},
   "outputs": [],
   "source": [
    "clusters = clusters[['lat', 'lon', 'cluster_hh_f34', 'geo_idx']].dropna(subset=['geo_idx'])\n",
    "clusters['geo_idx'] = clusters['geo_idx'].astype(int)"
   ]
  },
  {
   "cell_type": "code",
   "execution_count": 69,
   "metadata": {},
   "outputs": [
    {
     "data": {
      "text/plain": [
       "(773, 4)"
      ]
     },
     "execution_count": 69,
     "metadata": {},
     "output_type": "execute_result"
    }
   ],
   "source": [
    "clusters.shape"
   ]
  },
  {
   "cell_type": "code",
   "execution_count": 70,
   "metadata": {},
   "outputs": [],
   "source": [
    "merged = pd.merge(merged, clusters[['lat', 'lon', 'cluster_hh_f34', 'geo_idx']], on='geo_idx')"
   ]
  },
  {
   "cell_type": "code",
   "execution_count": 71,
   "metadata": {},
   "outputs": [
    {
     "data": {
      "text/plain": [
       "(773, 21)"
      ]
     },
     "execution_count": 71,
     "metadata": {},
     "output_type": "execute_result"
    }
   ],
   "source": [
    "merged.shape"
   ]
  },
  {
   "cell_type": "code",
   "execution_count": 72,
   "metadata": {},
   "outputs": [
    {
     "data": {
      "text/html": [
       "<div>\n",
       "<style scoped>\n",
       "    .dataframe tbody tr th:only-of-type {\n",
       "        vertical-align: middle;\n",
       "    }\n",
       "\n",
       "    .dataframe tbody tr th {\n",
       "        vertical-align: top;\n",
       "    }\n",
       "\n",
       "    .dataframe thead th {\n",
       "        text-align: right;\n",
       "    }\n",
       "</style>\n",
       "<table border=\"1\" class=\"dataframe\">\n",
       "  <thead>\n",
       "    <tr style=\"text-align: right;\">\n",
       "      <th></th>\n",
       "      <th>Shape_Leng</th>\n",
       "      <th>Shape_Area</th>\n",
       "      <th>ADM0_EN</th>\n",
       "      <th>ADM0_PCODE</th>\n",
       "      <th>ADM0_REF</th>\n",
       "      <th>ADM0ALT1EN</th>\n",
       "      <th>ADM0ALT2EN</th>\n",
       "      <th>date</th>\n",
       "      <th>validOn</th>\n",
       "      <th>validTo</th>\n",
       "      <th>...</th>\n",
       "      <th>geo_idx</th>\n",
       "      <th>centroid</th>\n",
       "      <th>centroid_lat</th>\n",
       "      <th>centroid_lon</th>\n",
       "      <th>merge_lat</th>\n",
       "      <th>merge_lon</th>\n",
       "      <th>predicted_phone_density</th>\n",
       "      <th>lat</th>\n",
       "      <th>lon</th>\n",
       "      <th>cluster_hh_f34</th>\n",
       "    </tr>\n",
       "  </thead>\n",
       "  <tbody>\n",
       "    <tr>\n",
       "      <th>0</th>\n",
       "      <td>31.909743</td>\n",
       "      <td>8.001588</td>\n",
       "      <td>Malawi</td>\n",
       "      <td>MW</td>\n",
       "      <td>None</td>\n",
       "      <td>None</td>\n",
       "      <td>None</td>\n",
       "      <td>2018-09-03</td>\n",
       "      <td>2018-10-16</td>\n",
       "      <td>None</td>\n",
       "      <td>...</td>\n",
       "      <td>10</td>\n",
       "      <td>POINT (32.89619 -13.53158)</td>\n",
       "      <td>-13.531576</td>\n",
       "      <td>32.896189</td>\n",
       "      <td>-135315</td>\n",
       "      <td>328961</td>\n",
       "      <td>0.436867</td>\n",
       "      <td>-13.572201</td>\n",
       "      <td>32.859582</td>\n",
       "      <td>0.3750</td>\n",
       "    </tr>\n",
       "    <tr>\n",
       "      <th>1</th>\n",
       "      <td>31.909743</td>\n",
       "      <td>8.001588</td>\n",
       "      <td>Malawi</td>\n",
       "      <td>MW</td>\n",
       "      <td>None</td>\n",
       "      <td>None</td>\n",
       "      <td>None</td>\n",
       "      <td>2018-09-03</td>\n",
       "      <td>2018-10-16</td>\n",
       "      <td>None</td>\n",
       "      <td>...</td>\n",
       "      <td>10</td>\n",
       "      <td>POINT (32.89619 -13.53158)</td>\n",
       "      <td>-13.531576</td>\n",
       "      <td>32.896189</td>\n",
       "      <td>-135315</td>\n",
       "      <td>328961</td>\n",
       "      <td>0.436867</td>\n",
       "      <td>-13.557205</td>\n",
       "      <td>32.897253</td>\n",
       "      <td>0.7500</td>\n",
       "    </tr>\n",
       "    <tr>\n",
       "      <th>2</th>\n",
       "      <td>31.909743</td>\n",
       "      <td>8.001588</td>\n",
       "      <td>Malawi</td>\n",
       "      <td>MW</td>\n",
       "      <td>None</td>\n",
       "      <td>None</td>\n",
       "      <td>None</td>\n",
       "      <td>2018-09-03</td>\n",
       "      <td>2018-10-16</td>\n",
       "      <td>None</td>\n",
       "      <td>...</td>\n",
       "      <td>13</td>\n",
       "      <td>POINT (32.90195 -13.78705)</td>\n",
       "      <td>-13.787053</td>\n",
       "      <td>32.901946</td>\n",
       "      <td>-137870</td>\n",
       "      <td>329019</td>\n",
       "      <td>0.533423</td>\n",
       "      <td>-13.803408</td>\n",
       "      <td>32.901011</td>\n",
       "      <td>1.6875</td>\n",
       "    </tr>\n",
       "    <tr>\n",
       "      <th>3</th>\n",
       "      <td>31.909743</td>\n",
       "      <td>8.001588</td>\n",
       "      <td>Malawi</td>\n",
       "      <td>MW</td>\n",
       "      <td>None</td>\n",
       "      <td>None</td>\n",
       "      <td>None</td>\n",
       "      <td>2018-09-03</td>\n",
       "      <td>2018-10-16</td>\n",
       "      <td>None</td>\n",
       "      <td>...</td>\n",
       "      <td>13</td>\n",
       "      <td>POINT (32.90195 -13.78705)</td>\n",
       "      <td>-13.787053</td>\n",
       "      <td>32.901946</td>\n",
       "      <td>-137870</td>\n",
       "      <td>329019</td>\n",
       "      <td>0.533423</td>\n",
       "      <td>-13.785994</td>\n",
       "      <td>32.860543</td>\n",
       "      <td>0.9375</td>\n",
       "    </tr>\n",
       "    <tr>\n",
       "      <th>4</th>\n",
       "      <td>31.909743</td>\n",
       "      <td>8.001588</td>\n",
       "      <td>Malawi</td>\n",
       "      <td>MW</td>\n",
       "      <td>None</td>\n",
       "      <td>None</td>\n",
       "      <td>None</td>\n",
       "      <td>2018-09-03</td>\n",
       "      <td>2018-10-16</td>\n",
       "      <td>None</td>\n",
       "      <td>...</td>\n",
       "      <td>28</td>\n",
       "      <td>POINT (32.98602 -13.53158)</td>\n",
       "      <td>-13.531576</td>\n",
       "      <td>32.986020</td>\n",
       "      <td>-135315</td>\n",
       "      <td>329860</td>\n",
       "      <td>0.510487</td>\n",
       "      <td>-13.543769</td>\n",
       "      <td>32.993232</td>\n",
       "      <td>0.6250</td>\n",
       "    </tr>\n",
       "  </tbody>\n",
       "</table>\n",
       "<p>5 rows × 21 columns</p>\n",
       "</div>"
      ],
      "text/plain": [
       "   Shape_Leng  Shape_Area ADM0_EN ADM0_PCODE ADM0_REF ADM0ALT1EN ADM0ALT2EN  \\\n",
       "0   31.909743    8.001588  Malawi         MW     None       None       None   \n",
       "1   31.909743    8.001588  Malawi         MW     None       None       None   \n",
       "2   31.909743    8.001588  Malawi         MW     None       None       None   \n",
       "3   31.909743    8.001588  Malawi         MW     None       None       None   \n",
       "4   31.909743    8.001588  Malawi         MW     None       None       None   \n",
       "\n",
       "         date     validOn validTo  ... geo_idx                    centroid  \\\n",
       "0  2018-09-03  2018-10-16    None  ...      10  POINT (32.89619 -13.53158)   \n",
       "1  2018-09-03  2018-10-16    None  ...      10  POINT (32.89619 -13.53158)   \n",
       "2  2018-09-03  2018-10-16    None  ...      13  POINT (32.90195 -13.78705)   \n",
       "3  2018-09-03  2018-10-16    None  ...      13  POINT (32.90195 -13.78705)   \n",
       "4  2018-09-03  2018-10-16    None  ...      28  POINT (32.98602 -13.53158)   \n",
       "\n",
       "  centroid_lat  centroid_lon  merge_lat  merge_lon  predicted_phone_density  \\\n",
       "0   -13.531576     32.896189    -135315     328961                 0.436867   \n",
       "1   -13.531576     32.896189    -135315     328961                 0.436867   \n",
       "2   -13.787053     32.901946    -137870     329019                 0.533423   \n",
       "3   -13.787053     32.901946    -137870     329019                 0.533423   \n",
       "4   -13.531576     32.986020    -135315     329860                 0.510487   \n",
       "\n",
       "         lat        lon  cluster_hh_f34  \n",
       "0 -13.572201  32.859582          0.3750  \n",
       "1 -13.557205  32.897253          0.7500  \n",
       "2 -13.803408  32.901011          1.6875  \n",
       "3 -13.785994  32.860543          0.9375  \n",
       "4 -13.543769  32.993232          0.6250  \n",
       "\n",
       "[5 rows x 21 columns]"
      ]
     },
     "execution_count": 72,
     "metadata": {},
     "output_type": "execute_result"
    }
   ],
   "source": [
    "merged.head()"
   ]
  },
  {
   "cell_type": "code",
   "execution_count": 84,
   "metadata": {},
   "outputs": [
    {
     "data": {
      "text/html": [
       "<div>\n",
       "<style scoped>\n",
       "    .dataframe tbody tr th:only-of-type {\n",
       "        vertical-align: middle;\n",
       "    }\n",
       "\n",
       "    .dataframe tbody tr th {\n",
       "        vertical-align: top;\n",
       "    }\n",
       "\n",
       "    .dataframe thead th {\n",
       "        text-align: right;\n",
       "    }\n",
       "</style>\n",
       "<table border=\"1\" class=\"dataframe\">\n",
       "  <thead>\n",
       "    <tr style=\"text-align: right;\">\n",
       "      <th></th>\n",
       "      <th>centroid_lat</th>\n",
       "      <th>centroid_lon</th>\n",
       "      <th>predicted_phone_density</th>\n",
       "    </tr>\n",
       "  </thead>\n",
       "  <tbody>\n",
       "    <tr>\n",
       "      <th>604</th>\n",
       "      <td>-17.083036</td>\n",
       "      <td>35.142291</td>\n",
       "      <td>0.462886</td>\n",
       "    </tr>\n",
       "    <tr>\n",
       "      <th>645</th>\n",
       "      <td>-17.082668</td>\n",
       "      <td>35.231750</td>\n",
       "      <td>0.910419</td>\n",
       "    </tr>\n",
       "    <tr>\n",
       "      <th>566</th>\n",
       "      <td>-17.013450</td>\n",
       "      <td>35.078743</td>\n",
       "      <td>0.249965</td>\n",
       "    </tr>\n",
       "    <tr>\n",
       "      <th>603</th>\n",
       "      <td>-17.001294</td>\n",
       "      <td>35.144901</td>\n",
       "      <td>-0.012614</td>\n",
       "    </tr>\n",
       "    <tr>\n",
       "      <th>643</th>\n",
       "      <td>-16.997621</td>\n",
       "      <td>35.231649</td>\n",
       "      <td>0.948566</td>\n",
       "    </tr>\n",
       "    <tr>\n",
       "      <th>...</th>\n",
       "      <td>...</td>\n",
       "      <td>...</td>\n",
       "      <td>...</td>\n",
       "    </tr>\n",
       "    <tr>\n",
       "      <th>28</th>\n",
       "      <td>-9.660247</td>\n",
       "      <td>33.261537</td>\n",
       "      <td>0.260305</td>\n",
       "    </tr>\n",
       "    <tr>\n",
       "      <th>25</th>\n",
       "      <td>-9.571847</td>\n",
       "      <td>33.255562</td>\n",
       "      <td>0.524360</td>\n",
       "    </tr>\n",
       "    <tr>\n",
       "      <th>9</th>\n",
       "      <td>-9.571341</td>\n",
       "      <td>33.075232</td>\n",
       "      <td>0.583145</td>\n",
       "    </tr>\n",
       "    <tr>\n",
       "      <th>24</th>\n",
       "      <td>-9.509371</td>\n",
       "      <td>33.257111</td>\n",
       "      <td>0.204284</td>\n",
       "    </tr>\n",
       "    <tr>\n",
       "      <th>15</th>\n",
       "      <td>-9.508237</td>\n",
       "      <td>33.160050</td>\n",
       "      <td>0.372068</td>\n",
       "    </tr>\n",
       "  </tbody>\n",
       "</table>\n",
       "<p>773 rows × 3 columns</p>\n",
       "</div>"
      ],
      "text/plain": [
       "     centroid_lat  centroid_lon  predicted_phone_density\n",
       "604    -17.083036     35.142291                 0.462886\n",
       "645    -17.082668     35.231750                 0.910419\n",
       "566    -17.013450     35.078743                 0.249965\n",
       "603    -17.001294     35.144901                -0.012614\n",
       "643    -16.997621     35.231649                 0.948566\n",
       "..            ...           ...                      ...\n",
       "28      -9.660247     33.261537                 0.260305\n",
       "25      -9.571847     33.255562                 0.524360\n",
       "9       -9.571341     33.075232                 0.583145\n",
       "24      -9.509371     33.257111                 0.204284\n",
       "15      -9.508237     33.160050                 0.372068\n",
       "\n",
       "[773 rows x 3 columns]"
      ]
     },
     "execution_count": 84,
     "metadata": {},
     "output_type": "execute_result"
    }
   ],
   "source": [
    "merged[['centroid_lat', 'centroid_lon', 'predicted_phone_density']].sort_values(['centroid_lat', 'centroid_lon'], ascending=True)"
   ]
  },
  {
   "cell_type": "code",
   "execution_count": 73,
   "metadata": {},
   "outputs": [
    {
     "data": {
      "text/html": [
       "<div>\n",
       "<style scoped>\n",
       "    .dataframe tbody tr th:only-of-type {\n",
       "        vertical-align: middle;\n",
       "    }\n",
       "\n",
       "    .dataframe tbody tr th {\n",
       "        vertical-align: top;\n",
       "    }\n",
       "\n",
       "    .dataframe thead th {\n",
       "        text-align: right;\n",
       "    }\n",
       "</style>\n",
       "<table border=\"1\" class=\"dataframe\">\n",
       "  <thead>\n",
       "    <tr style=\"text-align: right;\">\n",
       "      <th></th>\n",
       "      <th>predicted_phone_density</th>\n",
       "      <th>cluster_hh_f34</th>\n",
       "    </tr>\n",
       "  </thead>\n",
       "  <tbody>\n",
       "    <tr>\n",
       "      <th>0</th>\n",
       "      <td>0.436867</td>\n",
       "      <td>0.3750</td>\n",
       "    </tr>\n",
       "    <tr>\n",
       "      <th>1</th>\n",
       "      <td>0.436867</td>\n",
       "      <td>0.7500</td>\n",
       "    </tr>\n",
       "    <tr>\n",
       "      <th>2</th>\n",
       "      <td>0.533423</td>\n",
       "      <td>1.6875</td>\n",
       "    </tr>\n",
       "    <tr>\n",
       "      <th>3</th>\n",
       "      <td>0.533423</td>\n",
       "      <td>0.9375</td>\n",
       "    </tr>\n",
       "    <tr>\n",
       "      <th>4</th>\n",
       "      <td>0.510487</td>\n",
       "      <td>0.6250</td>\n",
       "    </tr>\n",
       "    <tr>\n",
       "      <th>...</th>\n",
       "      <td>...</td>\n",
       "      <td>...</td>\n",
       "    </tr>\n",
       "    <tr>\n",
       "      <th>768</th>\n",
       "      <td>0.983924</td>\n",
       "      <td>0.4375</td>\n",
       "    </tr>\n",
       "    <tr>\n",
       "      <th>769</th>\n",
       "      <td>0.189803</td>\n",
       "      <td>0.4375</td>\n",
       "    </tr>\n",
       "    <tr>\n",
       "      <th>770</th>\n",
       "      <td>0.999779</td>\n",
       "      <td>0.5000</td>\n",
       "    </tr>\n",
       "    <tr>\n",
       "      <th>771</th>\n",
       "      <td>0.474291</td>\n",
       "      <td>0.0625</td>\n",
       "    </tr>\n",
       "    <tr>\n",
       "      <th>772</th>\n",
       "      <td>0.154773</td>\n",
       "      <td>0.0000</td>\n",
       "    </tr>\n",
       "  </tbody>\n",
       "</table>\n",
       "<p>773 rows × 2 columns</p>\n",
       "</div>"
      ],
      "text/plain": [
       "     predicted_phone_density  cluster_hh_f34\n",
       "0                   0.436867          0.3750\n",
       "1                   0.436867          0.7500\n",
       "2                   0.533423          1.6875\n",
       "3                   0.533423          0.9375\n",
       "4                   0.510487          0.6250\n",
       "..                       ...             ...\n",
       "768                 0.983924          0.4375\n",
       "769                 0.189803          0.4375\n",
       "770                 0.999779          0.5000\n",
       "771                 0.474291          0.0625\n",
       "772                 0.154773          0.0000\n",
       "\n",
       "[773 rows x 2 columns]"
      ]
     },
     "execution_count": 73,
     "metadata": {},
     "output_type": "execute_result"
    }
   ],
   "source": [
    "merged[['predicted_phone_density', 'cluster_hh_f34']]"
   ]
  },
  {
   "cell_type": "code",
   "execution_count": null,
   "metadata": {},
   "outputs": [],
   "source": []
  },
  {
   "cell_type": "code",
   "execution_count": 76,
   "metadata": {},
   "outputs": [],
   "source": [
    "from sklearn.metrics import r2_score"
   ]
  },
  {
   "cell_type": "code",
   "execution_count": 78,
   "metadata": {},
   "outputs": [
    {
     "data": {
      "text/plain": [
       "-0.0011573543329623792"
      ]
     },
     "execution_count": 78,
     "metadata": {},
     "output_type": "execute_result"
    }
   ],
   "source": [
    "r2_score(merged['cluster_hh_f34'], merged['predicted_phone_density'])"
   ]
  },
  {
   "cell_type": "code",
   "execution_count": 80,
   "metadata": {},
   "outputs": [
    {
     "data": {
      "text/plain": [
       "0.41017174906174"
      ]
     },
     "execution_count": 80,
     "metadata": {},
     "output_type": "execute_result"
    }
   ],
   "source": [
    "merged['predicted_phone_density'].corr(merged['cluster_hh_f34'])"
   ]
  },
  {
   "cell_type": "code",
   "execution_count": null,
   "metadata": {},
   "outputs": [],
   "source": []
  },
  {
   "cell_type": "code",
   "execution_count": null,
   "metadata": {},
   "outputs": [],
   "source": []
  }
 ],
 "metadata": {
  "kernelspec": {
   "display_name": "taddle",
   "language": "python",
   "name": "taddle"
  },
  "language_info": {
   "codemirror_mode": {
    "name": "ipython",
    "version": 3
   },
   "file_extension": ".py",
   "mimetype": "text/x-python",
   "name": "python",
   "nbconvert_exporter": "python",
   "pygments_lexer": "ipython3",
   "version": "3.6.10"
  }
 },
 "nbformat": 4,
 "nbformat_minor": 2
}
