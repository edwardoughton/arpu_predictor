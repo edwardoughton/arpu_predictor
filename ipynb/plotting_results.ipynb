{
 "cells": [
  {
   "cell_type": "code",
   "execution_count": 74,
   "metadata": {},
   "outputs": [],
   "source": [
    "import matplotlib.pyplot as plt\n",
    "import numpy as np\n",
    "import pandas as pd\n",
    "import geopandas as gpd\n",
    "from shapely.geometry.point import Point\n",
    "\n",
    "import sys\n",
    "sys.path.append('..')\n",
    "from utils import merge_on_lat_lon"
   ]
  },
  {
   "cell_type": "code",
   "execution_count": 75,
   "metadata": {},
   "outputs": [],
   "source": [
    "df_geo = gpd.read_file('../data/malawi/grid/grid.shp')"
   ]
  },
  {
   "cell_type": "code",
   "execution_count": 76,
   "metadata": {},
   "outputs": [
    {
     "data": {
      "text/plain": [
       "<matplotlib.axes._subplots.AxesSubplot at 0x13a54f358>"
      ]
     },
     "execution_count": 76,
     "metadata": {},
     "output_type": "execute_result"
    },
    {
     "data": {
      "image/png": "[encoded data removed]",
      "text/plain": [
       "<Figure size 432x288 with 1 Axes>"
      ]
     },
     "metadata": {
      "needs_background": "light"
     },
     "output_type": "display_data"
    }
   ],
   "source": [
    "df_geo['geometry'].plot()"
   ]
  },
  {
   "cell_type": "code",
   "execution_count": 77,
   "metadata": {},
   "outputs": [],
   "source": [
    "metric = 'consumption'"
   ]
  },
  {
   "cell_type": "code",
   "execution_count": 78,
   "metadata": {},
   "outputs": [],
   "source": [
    "preds = pd.read_csv(f'../results/malawi/ridge_{metric}/predictions.csv')"
   ]
  },
  {
   "cell_type": "code",
   "execution_count": 79,
   "metadata": {},
   "outputs": [
    {
     "data": {
      "text/html": [
       "<div>\n",
       "<style scoped>\n",
       "    .dataframe tbody tr th:only-of-type {\n",
       "        vertical-align: middle;\n",
       "    }\n",
       "\n",
       "    .dataframe tbody tr th {\n",
       "        vertical-align: top;\n",
       "    }\n",
       "\n",
       "    .dataframe thead th {\n",
       "        text-align: right;\n",
       "    }\n",
       "</style>\n",
       "<table border=\"1\" class=\"dataframe\">\n",
       "  <thead>\n",
       "    <tr style=\"text-align: right;\">\n",
       "      <th></th>\n",
       "      <th>centroid_lat</th>\n",
       "      <th>centroid_lon</th>\n",
       "      <th>predicted_consumption_pc</th>\n",
       "    </tr>\n",
       "  </thead>\n",
       "  <tbody>\n",
       "    <tr>\n",
       "      <th>0</th>\n",
       "      <td>-17.083471</td>\n",
       "      <td>35.291291</td>\n",
       "      <td>3866.381213</td>\n",
       "    </tr>\n",
       "    <tr>\n",
       "      <th>1</th>\n",
       "      <td>-17.083036</td>\n",
       "      <td>35.142291</td>\n",
       "      <td>1489.973121</td>\n",
       "    </tr>\n",
       "    <tr>\n",
       "      <th>2</th>\n",
       "      <td>-17.082668</td>\n",
       "      <td>35.231750</td>\n",
       "      <td>3017.756208</td>\n",
       "    </tr>\n",
       "    <tr>\n",
       "      <th>3</th>\n",
       "      <td>-17.068863</td>\n",
       "      <td>35.084458</td>\n",
       "      <td>1396.099027</td>\n",
       "    </tr>\n",
       "    <tr>\n",
       "      <th>4</th>\n",
       "      <td>-17.013450</td>\n",
       "      <td>35.078743</td>\n",
       "      <td>1549.717568</td>\n",
       "    </tr>\n",
       "    <tr>\n",
       "      <th>...</th>\n",
       "      <td>...</td>\n",
       "      <td>...</td>\n",
       "      <td>...</td>\n",
       "    </tr>\n",
       "    <tr>\n",
       "      <th>1198</th>\n",
       "      <td>-9.509490</td>\n",
       "      <td>33.326193</td>\n",
       "      <td>1395.339455</td>\n",
       "    </tr>\n",
       "    <tr>\n",
       "      <th>1199</th>\n",
       "      <td>-9.509371</td>\n",
       "      <td>33.257111</td>\n",
       "      <td>2306.405471</td>\n",
       "    </tr>\n",
       "    <tr>\n",
       "      <th>1200</th>\n",
       "      <td>-9.508237</td>\n",
       "      <td>33.160050</td>\n",
       "      <td>1984.603675</td>\n",
       "    </tr>\n",
       "    <tr>\n",
       "      <th>1201</th>\n",
       "      <td>-9.486041</td>\n",
       "      <td>33.073519</td>\n",
       "      <td>1991.548988</td>\n",
       "    </tr>\n",
       "    <tr>\n",
       "      <th>1202</th>\n",
       "      <td>-9.464613</td>\n",
       "      <td>32.991657</td>\n",
       "      <td>2041.656486</td>\n",
       "    </tr>\n",
       "  </tbody>\n",
       "</table>\n",
       "<p>1203 rows × 3 columns</p>\n",
       "</div>"
      ],
      "text/plain": [
       "      centroid_lat  centroid_lon  predicted_consumption_pc\n",
       "0       -17.083471     35.291291               3866.381213\n",
       "1       -17.083036     35.142291               1489.973121\n",
       "2       -17.082668     35.231750               3017.756208\n",
       "3       -17.068863     35.084458               1396.099027\n",
       "4       -17.013450     35.078743               1549.717568\n",
       "...            ...           ...                       ...\n",
       "1198     -9.509490     33.326193               1395.339455\n",
       "1199     -9.509371     33.257111               2306.405471\n",
       "1200     -9.508237     33.160050               1984.603675\n",
       "1201     -9.486041     33.073519               1991.548988\n",
       "1202     -9.464613     32.991657               2041.656486\n",
       "\n",
       "[1203 rows x 3 columns]"
      ]
     },
     "execution_count": 79,
     "metadata": {},
     "output_type": "execute_result"
    }
   ],
   "source": [
    "preds"
   ]
  },
  {
   "cell_type": "code",
   "execution_count": 80,
   "metadata": {},
   "outputs": [],
   "source": [
    "df_geo['centroid'] = df_geo['geometry'].centroid"
   ]
  },
  {
   "cell_type": "code",
   "execution_count": 81,
   "metadata": {},
   "outputs": [],
   "source": [
    "df_geo['centroid_lat'] = df_geo['centroid'].apply(lambda point: point.y)\n",
    "df_geo['centroid_lon'] = df_geo['centroid'].apply(lambda point: point.x)"
   ]
  },
  {
   "cell_type": "code",
   "execution_count": 82,
   "metadata": {},
   "outputs": [],
   "source": [
    "df_geo = merge_on_lat_lon(df_geo, preds, keys=['centroid_lat', 'centroid_lon'])"
   ]
  },
  {
   "cell_type": "code",
   "execution_count": 83,
   "metadata": {},
   "outputs": [
    {
     "data": {
      "text/html": [
       "<div>\n",
       "<style scoped>\n",
       "    .dataframe tbody tr th:only-of-type {\n",
       "        vertical-align: middle;\n",
       "    }\n",
       "\n",
       "    .dataframe tbody tr th {\n",
       "        vertical-align: top;\n",
       "    }\n",
       "\n",
       "    .dataframe thead th {\n",
       "        text-align: right;\n",
       "    }\n",
       "</style>\n",
       "<table border=\"1\" class=\"dataframe\">\n",
       "  <thead>\n",
       "    <tr style=\"text-align: right;\">\n",
       "      <th></th>\n",
       "      <th>Shape_Leng</th>\n",
       "      <th>Shape_Area</th>\n",
       "      <th>ADM0_EN</th>\n",
       "      <th>ADM0_PCODE</th>\n",
       "      <th>ADM0_REF</th>\n",
       "      <th>ADM0ALT1EN</th>\n",
       "      <th>ADM0ALT2EN</th>\n",
       "      <th>date</th>\n",
       "      <th>validOn</th>\n",
       "      <th>validTo</th>\n",
       "      <th>geometry</th>\n",
       "      <th>centroid</th>\n",
       "      <th>centroid_lat</th>\n",
       "      <th>centroid_lon</th>\n",
       "      <th>predicted_consumption_pc</th>\n",
       "    </tr>\n",
       "  </thead>\n",
       "  <tbody>\n",
       "    <tr>\n",
       "      <th>0</th>\n",
       "      <td>31.909743</td>\n",
       "      <td>8.001588</td>\n",
       "      <td>Malawi</td>\n",
       "      <td>MW</td>\n",
       "      <td>None</td>\n",
       "      <td>None</td>\n",
       "      <td>None</td>\n",
       "      <td>2018-09-03</td>\n",
       "      <td>2018-10-16</td>\n",
       "      <td>None</td>\n",
       "      <td>MULTIPOLYGON (((32.76144 -13.56848, 32.76144 -...</td>\n",
       "      <td>POINT (32.71033 -13.57114)</td>\n",
       "      <td>-13.571136</td>\n",
       "      <td>32.710327</td>\n",
       "      <td>2621.612080</td>\n",
       "    </tr>\n",
       "    <tr>\n",
       "      <th>1</th>\n",
       "      <td>31.909743</td>\n",
       "      <td>8.001588</td>\n",
       "      <td>Malawi</td>\n",
       "      <td>MW</td>\n",
       "      <td>None</td>\n",
       "      <td>None</td>\n",
       "      <td>None</td>\n",
       "      <td>2018-09-03</td>\n",
       "      <td>2018-10-16</td>\n",
       "      <td>None</td>\n",
       "      <td>POLYGON ((32.69409 -13.57524, 32.72029 -13.575...</td>\n",
       "      <td>POINT (32.72372 -13.60814)</td>\n",
       "      <td>-13.608144</td>\n",
       "      <td>32.723719</td>\n",
       "      <td>2307.384377</td>\n",
       "    </tr>\n",
       "    <tr>\n",
       "      <th>2</th>\n",
       "      <td>31.909743</td>\n",
       "      <td>8.001588</td>\n",
       "      <td>Malawi</td>\n",
       "      <td>MW</td>\n",
       "      <td>None</td>\n",
       "      <td>None</td>\n",
       "      <td>None</td>\n",
       "      <td>2018-09-03</td>\n",
       "      <td>2018-10-16</td>\n",
       "      <td>None</td>\n",
       "      <td>POLYGON ((32.85127 -13.45789, 32.85127 -13.487...</td>\n",
       "      <td>POINT (32.84735 -13.47177)</td>\n",
       "      <td>-13.471766</td>\n",
       "      <td>32.847355</td>\n",
       "      <td>1705.541213</td>\n",
       "    </tr>\n",
       "    <tr>\n",
       "      <th>3</th>\n",
       "      <td>31.909743</td>\n",
       "      <td>8.001588</td>\n",
       "      <td>Malawi</td>\n",
       "      <td>MW</td>\n",
       "      <td>None</td>\n",
       "      <td>None</td>\n",
       "      <td>None</td>\n",
       "      <td>2018-09-03</td>\n",
       "      <td>2018-10-16</td>\n",
       "      <td>None</td>\n",
       "      <td>POLYGON ((32.84497 -13.48791, 32.85127 -13.487...</td>\n",
       "      <td>POINT (32.81763 -13.55146)</td>\n",
       "      <td>-13.551465</td>\n",
       "      <td>32.817625</td>\n",
       "      <td>1663.271286</td>\n",
       "    </tr>\n",
       "    <tr>\n",
       "      <th>4</th>\n",
       "      <td>31.909743</td>\n",
       "      <td>8.001588</td>\n",
       "      <td>Malawi</td>\n",
       "      <td>MW</td>\n",
       "      <td>None</td>\n",
       "      <td>None</td>\n",
       "      <td>None</td>\n",
       "      <td>2018-09-03</td>\n",
       "      <td>2018-10-16</td>\n",
       "      <td>None</td>\n",
       "      <td>POLYGON ((32.76144 -13.57524, 32.85127 -13.575...</td>\n",
       "      <td>POINT (32.80909 -13.61563)</td>\n",
       "      <td>-13.615633</td>\n",
       "      <td>32.809090</td>\n",
       "      <td>2009.376192</td>\n",
       "    </tr>\n",
       "  </tbody>\n",
       "</table>\n",
       "</div>"
      ],
      "text/plain": [
       "   Shape_Leng  Shape_Area ADM0_EN ADM0_PCODE ADM0_REF ADM0ALT1EN ADM0ALT2EN  \\\n",
       "0   31.909743    8.001588  Malawi         MW     None       None       None   \n",
       "1   31.909743    8.001588  Malawi         MW     None       None       None   \n",
       "2   31.909743    8.001588  Malawi         MW     None       None       None   \n",
       "3   31.909743    8.001588  Malawi         MW     None       None       None   \n",
       "4   31.909743    8.001588  Malawi         MW     None       None       None   \n",
       "\n",
       "         date     validOn validTo  \\\n",
       "0  2018-09-03  2018-10-16    None   \n",
       "1  2018-09-03  2018-10-16    None   \n",
       "2  2018-09-03  2018-10-16    None   \n",
       "3  2018-09-03  2018-10-16    None   \n",
       "4  2018-09-03  2018-10-16    None   \n",
       "\n",
       "                                            geometry  \\\n",
       "0  MULTIPOLYGON (((32.76144 -13.56848, 32.76144 -...   \n",
       "1  POLYGON ((32.69409 -13.57524, 32.72029 -13.575...   \n",
       "2  POLYGON ((32.85127 -13.45789, 32.85127 -13.487...   \n",
       "3  POLYGON ((32.84497 -13.48791, 32.85127 -13.487...   \n",
       "4  POLYGON ((32.76144 -13.57524, 32.85127 -13.575...   \n",
       "\n",
       "                     centroid  centroid_lat  centroid_lon  \\\n",
       "0  POINT (32.71033 -13.57114)    -13.571136     32.710327   \n",
       "1  POINT (32.72372 -13.60814)    -13.608144     32.723719   \n",
       "2  POINT (32.84735 -13.47177)    -13.471766     32.847355   \n",
       "3  POINT (32.81763 -13.55146)    -13.551465     32.817625   \n",
       "4  POINT (32.80909 -13.61563)    -13.615633     32.809090   \n",
       "\n",
       "   predicted_consumption_pc  \n",
       "0               2621.612080  \n",
       "1               2307.384377  \n",
       "2               1705.541213  \n",
       "3               1663.271286  \n",
       "4               2009.376192  "
      ]
     },
     "execution_count": 83,
     "metadata": {},
     "output_type": "execute_result"
    }
   ],
   "source": [
    "df_geo.head()"
   ]
  },
  {
   "cell_type": "code",
   "execution_count": 84,
   "metadata": {},
   "outputs": [
    {
     "data": {
      "text/plain": [
       "((1203, 15), (1203, 3))"
      ]
     },
     "execution_count": 84,
     "metadata": {},
     "output_type": "execute_result"
    }
   ],
   "source": [
    "df_geo.shape, preds.shape"
   ]
  },
  {
   "cell_type": "code",
   "execution_count": 85,
   "metadata": {},
   "outputs": [
    {
     "name": "stderr",
     "output_type": "stream",
     "text": [
      "/Applications/anaconda3/envs/taddle/lib/python3.6/site-packages/pandas/core/indexing.py:205: SettingWithCopyWarning: \n",
      "A value is trying to be set on a copy of a slice from a DataFrame\n",
      "\n",
      "See the caveats in the documentation: http://pandas.pydata.org/pandas-docs/stable/user_guide/indexing.html#returning-a-view-versus-a-copy\n",
      "  self._setitem_with_indexer(indexer, value)\n"
     ]
    }
   ],
   "source": [
    "geometry = df_geo['geometry']\n",
    "\n",
    "# if prediction is under 0, set to 0\n",
    "coloring_guide = df_geo[f'predicted_{metric}_pc']\n",
    "coloring_guide.loc[coloring_guide < 0] = 0\n",
    "\n",
    "cmap = 'inferno'\n",
    "vmin = coloring_guide.min()\n",
    "vmax = coloring_guide.max()\n",
    "\n",
    "kwargs = {'vmin': vmin,\n",
    "         'vmax': vmax,\n",
    "         'cmap': cmap}\n"
   ]
  },
  {
   "cell_type": "code",
   "execution_count": 86,
   "metadata": {},
   "outputs": [
    {
     "data": {
      "image/png": "[encoded data removed]",
      "text/plain": [
       "<Figure size 720x720 with 2 Axes>"
      ]
     },
     "metadata": {
      "needs_background": "light"
     },
     "output_type": "display_data"
    }
   ],
   "source": [
    "import matplotlib.cm as cm\n",
    "import matplotlib.colors as colors\n",
    "\n",
    "fig, ax = plt.subplots(figsize=(10,10))\n",
    "ax.set_aspect(\"equal\")\n",
    "norm = colors.Normalize(vmin, vmax)\n",
    "fig.colorbar(cm.ScalarMappable(norm=norm, cmap=cmap), ax=ax)\n",
    "gpd.plotting.plot_polygon_collection(ax, geometry, values=coloring_guide, **kwargs)\n",
    "\n",
    "units = ''\n",
    "if metric in ['consumption', 'phone_consumption']:\n",
    "    units = '($/year)'\n",
    "\n",
    "label = (metric +' per capita').replace('_', ' ')\n",
    "ax.set_title(f'Malawi Predicted {label.title() + units} Map', fontsize=20)\n",
    "\n",
    "plt.savefig(f'../results/malawi/figures/predicted_{metric}_per_capita.png')\n",
    "plt.show()"
   ]
  },
  {
   "cell_type": "code",
   "execution_count": null,
   "metadata": {},
   "outputs": [],
   "source": []
  },
  {
   "cell_type": "code",
   "execution_count": null,
   "metadata": {},
   "outputs": [],
   "source": []
  },
  {
   "cell_type": "code",
   "execution_count": null,
   "metadata": {},
   "outputs": [],
   "source": []
  }
 ],
 "metadata": {
  "kernelspec": {
   "display_name": "taddle",
   "language": "python",
   "name": "taddle"
  },
  "language_info": {
   "codemirror_mode": {
    "name": "ipython",
    "version": 3
   },
   "file_extension": ".py",
   "mimetype": "text/x-python",
   "name": "python",
   "nbconvert_exporter": "python",
   "pygments_lexer": "ipython3",
   "version": "3.6.7"
  }
 },
 "nbformat": 4,
 "nbformat_minor": 2
}
