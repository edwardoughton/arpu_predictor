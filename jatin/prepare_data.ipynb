{
 "cells": [
  {
   "cell_type": "code",
   "execution_count": 30,
   "metadata": {},
   "outputs": [],
   "source": [
    "import pandas as pd\n",
    "import numpy as np\n",
    "import os"
   ]
  },
  {
   "cell_type": "code",
   "execution_count": 45,
   "metadata": {},
   "outputs": [
    {
     "name": "stderr",
     "output_type": "stream",
     "text": [
      "/Applications/anaconda3/envs/predicting-poverty-replication/lib/python3.7/site-packages/pandas/core/frame.py:4238: SettingWithCopyWarning: \n",
      "A value is trying to be set on a copy of a slice from a DataFrame\n",
      "\n",
      "See the caveats in the documentation: http://pandas.pydata.org/pandas-docs/stable/user_guide/indexing.html#returning-a-view-versus-a-copy\n",
      "  return super().rename(**kwargs)\n"
     ]
    }
   ],
   "source": [
    "df = pd.read_stata('data/LSMS/malawi_2016/IHS4 Consumption Aggregate.dta')\n",
    "df['cons'] = df['rexpagg']\n",
    "df['cons'] = df['cons']/116.28 # accounting for purchasing power parity\n",
    "df['phone_cons'] = df['rexp_cat083']\n",
    "df['phone_cons'] = df['phone_cons']/100 # specific good so do not need to adjust for PPP\n",
    "\n",
    "df.rename(columns={'hh_wgt': 'weight'}, inplace=True)\n",
    "df = df[['case_id', 'cons', 'phone_cons']] # grab these columns\n",
    "\n",
    "df_geo = pd.read_stata('data/LSMS/malawi_2016/HouseholdGeovariables_stata11/HouseholdGeovariablesIHS4.dta')\n",
    "df_cords = df_geo[['case_id', 'HHID', 'lat_modified', 'lon_modified']]\n",
    "df_cords.rename(columns={'lat_modified': 'lat', 'lon_modified': 'lon'}, inplace=True)\n",
    "\n",
    "df_hhf = pd.read_stata('data/LSMS/malawi_2016/HH_MOD_F.dta')\n",
    "df_hhf = df_hhf[['case_id', 'HHID', 'hh_f34', 'hh_f35']]\n",
    "df_hhf['hh_f35'] /= 100\n"
   ]
  },
  {
   "cell_type": "code",
   "execution_count": 46,
   "metadata": {},
   "outputs": [],
   "source": [
    "df = pd.merge(df, df_cords[['case_id', 'HHID']], on='case_id')"
   ]
  },
  {
   "cell_type": "code",
   "execution_count": 47,
   "metadata": {
    "scrolled": true
   },
   "outputs": [],
   "source": [
    "df_combined = pd.merge(df, df_cords, on=['case_id', 'HHID'])\n",
    "df_combined = pd.merge(df_combined, df_hhf, on=['case_id', 'HHID'])"
   ]
  },
  {
   "cell_type": "code",
   "execution_count": 48,
   "metadata": {
    "scrolled": true
   },
   "outputs": [
    {
     "data": {
      "text/plain": [
       "(12447, 8)"
      ]
     },
     "execution_count": 48,
     "metadata": {},
     "output_type": "execute_result"
    }
   ],
   "source": [
    "df_combined.shape"
   ]
  },
  {
   "cell_type": "code",
   "execution_count": 49,
   "metadata": {},
   "outputs": [
    {
     "data": {
      "text/html": [
       "<div>\n",
       "<style scoped>\n",
       "    .dataframe tbody tr th:only-of-type {\n",
       "        vertical-align: middle;\n",
       "    }\n",
       "\n",
       "    .dataframe tbody tr th {\n",
       "        vertical-align: top;\n",
       "    }\n",
       "\n",
       "    .dataframe thead th {\n",
       "        text-align: right;\n",
       "    }\n",
       "</style>\n",
       "<table border=\"1\" class=\"dataframe\">\n",
       "  <thead>\n",
       "    <tr style=\"text-align: right;\">\n",
       "      <th></th>\n",
       "      <th>case_id</th>\n",
       "      <th>cons</th>\n",
       "      <th>phone_cons</th>\n",
       "      <th>HHID</th>\n",
       "      <th>lat</th>\n",
       "      <th>lon</th>\n",
       "      <th>hh_f34</th>\n",
       "      <th>hh_f35</th>\n",
       "    </tr>\n",
       "  </thead>\n",
       "  <tbody>\n",
       "    <tr>\n",
       "      <th>0</th>\n",
       "      <td>301025230225</td>\n",
       "      <td>2560.039551</td>\n",
       "      <td>0.000000</td>\n",
       "      <td>0001c970eecf473099368557e2080b3e</td>\n",
       "      <td>-14.683761</td>\n",
       "      <td>34.915074</td>\n",
       "      <td>0.0</td>\n",
       "      <td>NaN</td>\n",
       "    </tr>\n",
       "    <tr>\n",
       "      <th>1</th>\n",
       "      <td>210374850204</td>\n",
       "      <td>14897.992188</td>\n",
       "      <td>162.633820</td>\n",
       "      <td>000509f5cfcc4b078a09672b09425e95</td>\n",
       "      <td>-14.005029</td>\n",
       "      <td>33.794591</td>\n",
       "      <td>1.0</td>\n",
       "      <td>15.0</td>\n",
       "    </tr>\n",
       "    <tr>\n",
       "      <th>2</th>\n",
       "      <td>311057710075</td>\n",
       "      <td>4022.653809</td>\n",
       "      <td>258.500214</td>\n",
       "      <td>000bc107780044e59327dbf7ec960ac1</td>\n",
       "      <td>-16.826165</td>\n",
       "      <td>35.269503</td>\n",
       "      <td>2.0</td>\n",
       "      <td>20.0</td>\n",
       "    </tr>\n",
       "    <tr>\n",
       "      <th>3</th>\n",
       "      <td>312048040073</td>\n",
       "      <td>3325.028320</td>\n",
       "      <td>0.000000</td>\n",
       "      <td>000d1d26325d4f73a2ffbb8a99ab4752</td>\n",
       "      <td>-15.004730</td>\n",
       "      <td>35.163219</td>\n",
       "      <td>0.0</td>\n",
       "      <td>NaN</td>\n",
       "    </tr>\n",
       "    <tr>\n",
       "      <th>4</th>\n",
       "      <td>311097790117</td>\n",
       "      <td>7148.121094</td>\n",
       "      <td>119.640808</td>\n",
       "      <td>00104e33315844fdb2b8c6fdd35912a1</td>\n",
       "      <td>-17.016698</td>\n",
       "      <td>35.079629</td>\n",
       "      <td>1.0</td>\n",
       "      <td>10.0</td>\n",
       "    </tr>\n",
       "  </tbody>\n",
       "</table>\n",
       "</div>"
      ],
      "text/plain": [
       "        case_id          cons  phone_cons                              HHID  \\\n",
       "0  301025230225   2560.039551    0.000000  0001c970eecf473099368557e2080b3e   \n",
       "1  210374850204  14897.992188  162.633820  000509f5cfcc4b078a09672b09425e95   \n",
       "2  311057710075   4022.653809  258.500214  000bc107780044e59327dbf7ec960ac1   \n",
       "3  312048040073   3325.028320    0.000000  000d1d26325d4f73a2ffbb8a99ab4752   \n",
       "4  311097790117   7148.121094  119.640808  00104e33315844fdb2b8c6fdd35912a1   \n",
       "\n",
       "         lat        lon  hh_f34  hh_f35  \n",
       "0 -14.683761  34.915074     0.0     NaN  \n",
       "1 -14.005029  33.794591     1.0    15.0  \n",
       "2 -16.826165  35.269503     2.0    20.0  \n",
       "3 -15.004730  35.163219     0.0     NaN  \n",
       "4 -17.016698  35.079629     1.0    10.0  "
      ]
     },
     "execution_count": 49,
     "metadata": {},
     "output_type": "execute_result"
    }
   ],
   "source": [
    "df_combined.head()"
   ]
  },
  {
   "cell_type": "code",
   "execution_count": 50,
   "metadata": {},
   "outputs": [
    {
     "data": {
      "text/plain": [
       "<matplotlib.axes._subplots.AxesSubplot at 0x119cf6860>"
      ]
     },
     "execution_count": 50,
     "metadata": {},
     "output_type": "execute_result"
    },
    {
     "data": {
      "image/png": "[encoded data removed]",
      "text/plain": [
       "<Figure size 432x288 with 1 Axes>"
      ]
     },
     "metadata": {
      "needs_background": "light"
     },
     "output_type": "display_data"
    }
   ],
   "source": [
    "df_combined['hh_f34'].hist()"
   ]
  },
  {
   "cell_type": "code",
   "execution_count": 51,
   "metadata": {},
   "outputs": [
    {
     "data": {
      "text/plain": [
       "<matplotlib.axes._subplots.AxesSubplot at 0x11a97f908>"
      ]
     },
     "execution_count": 51,
     "metadata": {},
     "output_type": "execute_result"
    },
    {
     "data": {
      "image/png": "[encoded data removed]",
      "text/plain": [
       "<Figure size 432x288 with 1 Axes>"
      ]
     },
     "metadata": {
      "needs_background": "light"
     },
     "output_type": "display_data"
    }
   ],
   "source": [
    "df_combined['hh_f35'].hist()"
   ]
  },
  {
   "cell_type": "code",
   "execution_count": 52,
   "metadata": {},
   "outputs": [
    {
     "data": {
      "text/plain": [
       "<matplotlib.axes._subplots.AxesSubplot at 0x11e4bfd30>"
      ]
     },
     "execution_count": 52,
     "metadata": {},
     "output_type": "execute_result"
    },
    {
     "data": {
      "image/png": "[encoded data removed]",
      "text/plain": [
       "<Figure size 432x288 with 1 Axes>"
      ]
     },
     "metadata": {
      "needs_background": "light"
     },
     "output_type": "display_data"
    }
   ],
   "source": [
    "df_combined['phone_cons'].hist()"
   ]
  },
  {
   "cell_type": "code",
   "execution_count": 53,
   "metadata": {},
   "outputs": [],
   "source": [
    "df_stats = df_combined.copy()"
   ]
  },
  {
   "cell_type": "code",
   "execution_count": 54,
   "metadata": {},
   "outputs": [],
   "source": [
    "df_stats['cons_na'] = df_stats['cons'].isna()\n",
    "df_stats['phone_na'] = df_stats['phone_cons'].isna()\n",
    "df_stats['hh_f34_na'] = df_stats['hh_f34'].isna()\n",
    "df_stats['hh_f35_na'] = df_stats['hh_f35'].isna()"
   ]
  },
  {
   "cell_type": "code",
   "execution_count": 55,
   "metadata": {},
   "outputs": [
    {
     "data": {
      "text/html": [
       "<div>\n",
       "<style scoped>\n",
       "    .dataframe tbody tr th:only-of-type {\n",
       "        vertical-align: middle;\n",
       "    }\n",
       "\n",
       "    .dataframe tbody tr th {\n",
       "        vertical-align: top;\n",
       "    }\n",
       "\n",
       "    .dataframe thead th {\n",
       "        text-align: right;\n",
       "    }\n",
       "</style>\n",
       "<table border=\"1\" class=\"dataframe\">\n",
       "  <thead>\n",
       "    <tr style=\"text-align: right;\">\n",
       "      <th></th>\n",
       "      <th>case_id</th>\n",
       "      <th>cons</th>\n",
       "      <th>phone_cons</th>\n",
       "      <th>HHID</th>\n",
       "      <th>lat</th>\n",
       "      <th>lon</th>\n",
       "      <th>hh_f34</th>\n",
       "      <th>hh_f35</th>\n",
       "      <th>cons_na</th>\n",
       "      <th>phone_na</th>\n",
       "      <th>hh_f34_na</th>\n",
       "      <th>hh_f35_na</th>\n",
       "    </tr>\n",
       "  </thead>\n",
       "  <tbody>\n",
       "    <tr>\n",
       "      <th>0</th>\n",
       "      <td>301025230225</td>\n",
       "      <td>2560.039551</td>\n",
       "      <td>0.000000</td>\n",
       "      <td>0001c970eecf473099368557e2080b3e</td>\n",
       "      <td>-14.683761</td>\n",
       "      <td>34.915074</td>\n",
       "      <td>0.0</td>\n",
       "      <td>NaN</td>\n",
       "      <td>False</td>\n",
       "      <td>False</td>\n",
       "      <td>False</td>\n",
       "      <td>True</td>\n",
       "    </tr>\n",
       "    <tr>\n",
       "      <th>1</th>\n",
       "      <td>210374850204</td>\n",
       "      <td>14897.992188</td>\n",
       "      <td>162.633820</td>\n",
       "      <td>000509f5cfcc4b078a09672b09425e95</td>\n",
       "      <td>-14.005029</td>\n",
       "      <td>33.794591</td>\n",
       "      <td>1.0</td>\n",
       "      <td>15.0</td>\n",
       "      <td>False</td>\n",
       "      <td>False</td>\n",
       "      <td>False</td>\n",
       "      <td>False</td>\n",
       "    </tr>\n",
       "    <tr>\n",
       "      <th>2</th>\n",
       "      <td>311057710075</td>\n",
       "      <td>4022.653809</td>\n",
       "      <td>258.500214</td>\n",
       "      <td>000bc107780044e59327dbf7ec960ac1</td>\n",
       "      <td>-16.826165</td>\n",
       "      <td>35.269503</td>\n",
       "      <td>2.0</td>\n",
       "      <td>20.0</td>\n",
       "      <td>False</td>\n",
       "      <td>False</td>\n",
       "      <td>False</td>\n",
       "      <td>False</td>\n",
       "    </tr>\n",
       "    <tr>\n",
       "      <th>3</th>\n",
       "      <td>312048040073</td>\n",
       "      <td>3325.028320</td>\n",
       "      <td>0.000000</td>\n",
       "      <td>000d1d26325d4f73a2ffbb8a99ab4752</td>\n",
       "      <td>-15.004730</td>\n",
       "      <td>35.163219</td>\n",
       "      <td>0.0</td>\n",
       "      <td>NaN</td>\n",
       "      <td>False</td>\n",
       "      <td>False</td>\n",
       "      <td>False</td>\n",
       "      <td>True</td>\n",
       "    </tr>\n",
       "    <tr>\n",
       "      <th>4</th>\n",
       "      <td>311097790117</td>\n",
       "      <td>7148.121094</td>\n",
       "      <td>119.640808</td>\n",
       "      <td>00104e33315844fdb2b8c6fdd35912a1</td>\n",
       "      <td>-17.016698</td>\n",
       "      <td>35.079629</td>\n",
       "      <td>1.0</td>\n",
       "      <td>10.0</td>\n",
       "      <td>False</td>\n",
       "      <td>False</td>\n",
       "      <td>False</td>\n",
       "      <td>False</td>\n",
       "    </tr>\n",
       "    <tr>\n",
       "      <th>...</th>\n",
       "      <td>...</td>\n",
       "      <td>...</td>\n",
       "      <td>...</td>\n",
       "      <td>...</td>\n",
       "      <td>...</td>\n",
       "      <td>...</td>\n",
       "      <td>...</td>\n",
       "      <td>...</td>\n",
       "      <td>...</td>\n",
       "      <td>...</td>\n",
       "      <td>...</td>\n",
       "      <td>...</td>\n",
       "    </tr>\n",
       "    <tr>\n",
       "      <th>12442</th>\n",
       "      <td>205053630064</td>\n",
       "      <td>4161.387207</td>\n",
       "      <td>0.000000</td>\n",
       "      <td>ffe8b3cb44e646c4ba7e444c810b5262</td>\n",
       "      <td>-14.038697</td>\n",
       "      <td>34.511056</td>\n",
       "      <td>0.0</td>\n",
       "      <td>NaN</td>\n",
       "      <td>False</td>\n",
       "      <td>False</td>\n",
       "      <td>False</td>\n",
       "      <td>True</td>\n",
       "    </tr>\n",
       "    <tr>\n",
       "      <th>12443</th>\n",
       "      <td>307106820173</td>\n",
       "      <td>4508.041016</td>\n",
       "      <td>56.935036</td>\n",
       "      <td>ffe9da89ba74465ba9be8a7e8cbd77ce</td>\n",
       "      <td>-15.959665</td>\n",
       "      <td>35.034930</td>\n",
       "      <td>1.0</td>\n",
       "      <td>5.0</td>\n",
       "      <td>False</td>\n",
       "      <td>False</td>\n",
       "      <td>False</td>\n",
       "      <td>False</td>\n",
       "    </tr>\n",
       "    <tr>\n",
       "      <th>12444</th>\n",
       "      <td>208074540130</td>\n",
       "      <td>3620.645264</td>\n",
       "      <td>0.000000</td>\n",
       "      <td>ffe9e824c41f45c4aa5efb80d3ee9603</td>\n",
       "      <td>-14.263875</td>\n",
       "      <td>34.518640</td>\n",
       "      <td>0.0</td>\n",
       "      <td>NaN</td>\n",
       "      <td>False</td>\n",
       "      <td>False</td>\n",
       "      <td>False</td>\n",
       "      <td>True</td>\n",
       "    </tr>\n",
       "    <tr>\n",
       "      <th>12445</th>\n",
       "      <td>312048040036</td>\n",
       "      <td>2899.364258</td>\n",
       "      <td>0.000000</td>\n",
       "      <td>fffaa977174c43d79793cf945b57f948</td>\n",
       "      <td>-15.004730</td>\n",
       "      <td>35.163219</td>\n",
       "      <td>0.0</td>\n",
       "      <td>NaN</td>\n",
       "      <td>False</td>\n",
       "      <td>False</td>\n",
       "      <td>False</td>\n",
       "      <td>True</td>\n",
       "    </tr>\n",
       "    <tr>\n",
       "      <th>12446</th>\n",
       "      <td>305016150137</td>\n",
       "      <td>3354.946777</td>\n",
       "      <td>0.000000</td>\n",
       "      <td>fffeb745ef814983b85ed37694fb0033</td>\n",
       "      <td>-15.558742</td>\n",
       "      <td>35.010733</td>\n",
       "      <td>0.0</td>\n",
       "      <td>NaN</td>\n",
       "      <td>False</td>\n",
       "      <td>False</td>\n",
       "      <td>False</td>\n",
       "      <td>True</td>\n",
       "    </tr>\n",
       "  </tbody>\n",
       "</table>\n",
       "<p>12447 rows × 12 columns</p>\n",
       "</div>"
      ],
      "text/plain": [
       "            case_id          cons  phone_cons  \\\n",
       "0      301025230225   2560.039551    0.000000   \n",
       "1      210374850204  14897.992188  162.633820   \n",
       "2      311057710075   4022.653809  258.500214   \n",
       "3      312048040073   3325.028320    0.000000   \n",
       "4      311097790117   7148.121094  119.640808   \n",
       "...             ...           ...         ...   \n",
       "12442  205053630064   4161.387207    0.000000   \n",
       "12443  307106820173   4508.041016   56.935036   \n",
       "12444  208074540130   3620.645264    0.000000   \n",
       "12445  312048040036   2899.364258    0.000000   \n",
       "12446  305016150137   3354.946777    0.000000   \n",
       "\n",
       "                                   HHID        lat        lon  hh_f34  hh_f35  \\\n",
       "0      0001c970eecf473099368557e2080b3e -14.683761  34.915074     0.0     NaN   \n",
       "1      000509f5cfcc4b078a09672b09425e95 -14.005029  33.794591     1.0    15.0   \n",
       "2      000bc107780044e59327dbf7ec960ac1 -16.826165  35.269503     2.0    20.0   \n",
       "3      000d1d26325d4f73a2ffbb8a99ab4752 -15.004730  35.163219     0.0     NaN   \n",
       "4      00104e33315844fdb2b8c6fdd35912a1 -17.016698  35.079629     1.0    10.0   \n",
       "...                                 ...        ...        ...     ...     ...   \n",
       "12442  ffe8b3cb44e646c4ba7e444c810b5262 -14.038697  34.511056     0.0     NaN   \n",
       "12443  ffe9da89ba74465ba9be8a7e8cbd77ce -15.959665  35.034930     1.0     5.0   \n",
       "12444  ffe9e824c41f45c4aa5efb80d3ee9603 -14.263875  34.518640     0.0     NaN   \n",
       "12445  fffaa977174c43d79793cf945b57f948 -15.004730  35.163219     0.0     NaN   \n",
       "12446  fffeb745ef814983b85ed37694fb0033 -15.558742  35.010733     0.0     NaN   \n",
       "\n",
       "       cons_na  phone_na  hh_f34_na  hh_f35_na  \n",
       "0        False     False      False       True  \n",
       "1        False     False      False      False  \n",
       "2        False     False      False      False  \n",
       "3        False     False      False       True  \n",
       "4        False     False      False      False  \n",
       "...        ...       ...        ...        ...  \n",
       "12442    False     False      False       True  \n",
       "12443    False     False      False      False  \n",
       "12444    False     False      False       True  \n",
       "12445    False     False      False       True  \n",
       "12446    False     False      False       True  \n",
       "\n",
       "[12447 rows x 12 columns]"
      ]
     },
     "execution_count": 55,
     "metadata": {},
     "output_type": "execute_result"
    }
   ],
   "source": [
    "df_stats"
   ]
  },
  {
   "cell_type": "code",
   "execution_count": 56,
   "metadata": {},
   "outputs": [],
   "source": [
    "clust_nas = df_stats.groupby(['lat', 'lon']).mean().reset_index()[['lat', 'lon', 'phone_na', 'hh_f34_na', 'hh_f35_na']]\n"
   ]
  },
  {
   "cell_type": "code",
   "execution_count": 57,
   "metadata": {},
   "outputs": [],
   "source": [
    "clust_counts = df_stats.groupby(['lat', 'lon']).count().reset_index()[['lat', 'lon', 'cons']].rename(columns={'cons': 'count'})\n"
   ]
  },
  {
   "cell_type": "code",
   "execution_count": 58,
   "metadata": {},
   "outputs": [],
   "source": [
    "df_clusters = df_combined.groupby(['lat', 'lon']).mean().reset_index()"
   ]
  },
  {
   "cell_type": "code",
   "execution_count": 59,
   "metadata": {},
   "outputs": [
    {
     "data": {
      "text/html": [
       "<div>\n",
       "<style scoped>\n",
       "    .dataframe tbody tr th:only-of-type {\n",
       "        vertical-align: middle;\n",
       "    }\n",
       "\n",
       "    .dataframe tbody tr th {\n",
       "        vertical-align: top;\n",
       "    }\n",
       "\n",
       "    .dataframe thead th {\n",
       "        text-align: right;\n",
       "    }\n",
       "</style>\n",
       "<table border=\"1\" class=\"dataframe\">\n",
       "  <thead>\n",
       "    <tr style=\"text-align: right;\">\n",
       "      <th></th>\n",
       "      <th>lat</th>\n",
       "      <th>lon</th>\n",
       "      <th>cons</th>\n",
       "      <th>phone_cons</th>\n",
       "      <th>hh_f34</th>\n",
       "      <th>hh_f35</th>\n",
       "    </tr>\n",
       "  </thead>\n",
       "  <tbody>\n",
       "    <tr>\n",
       "      <th>0</th>\n",
       "      <td>-17.095150</td>\n",
       "      <td>35.217213</td>\n",
       "      <td>4746.557129</td>\n",
       "      <td>273.444763</td>\n",
       "      <td>0.8750</td>\n",
       "      <td>42.312500</td>\n",
       "    </tr>\n",
       "    <tr>\n",
       "      <th>1</th>\n",
       "      <td>-17.092351</td>\n",
       "      <td>35.114643</td>\n",
       "      <td>3741.755859</td>\n",
       "      <td>16.226484</td>\n",
       "      <td>0.1250</td>\n",
       "      <td>11.400000</td>\n",
       "    </tr>\n",
       "    <tr>\n",
       "      <th>2</th>\n",
       "      <td>-17.016698</td>\n",
       "      <td>35.079629</td>\n",
       "      <td>5159.424316</td>\n",
       "      <td>11.216326</td>\n",
       "      <td>0.1250</td>\n",
       "      <td>7.500000</td>\n",
       "    </tr>\n",
       "    <tr>\n",
       "      <th>3</th>\n",
       "      <td>-16.977243</td>\n",
       "      <td>35.205706</td>\n",
       "      <td>4650.909180</td>\n",
       "      <td>41.399769</td>\n",
       "      <td>0.1875</td>\n",
       "      <td>18.333333</td>\n",
       "    </tr>\n",
       "    <tr>\n",
       "      <th>4</th>\n",
       "      <td>-16.956385</td>\n",
       "      <td>35.168967</td>\n",
       "      <td>2806.638916</td>\n",
       "      <td>22.526325</td>\n",
       "      <td>0.2500</td>\n",
       "      <td>7.500000</td>\n",
       "    </tr>\n",
       "  </tbody>\n",
       "</table>\n",
       "</div>"
      ],
      "text/plain": [
       "         lat        lon         cons  phone_cons  hh_f34     hh_f35\n",
       "0 -17.095150  35.217213  4746.557129  273.444763  0.8750  42.312500\n",
       "1 -17.092351  35.114643  3741.755859   16.226484  0.1250  11.400000\n",
       "2 -17.016698  35.079629  5159.424316   11.216326  0.1250   7.500000\n",
       "3 -16.977243  35.205706  4650.909180   41.399769  0.1875  18.333333\n",
       "4 -16.956385  35.168967  2806.638916   22.526325  0.2500   7.500000"
      ]
     },
     "execution_count": 59,
     "metadata": {},
     "output_type": "execute_result"
    }
   ],
   "source": [
    "df_clusters.head()"
   ]
  },
  {
   "cell_type": "code",
   "execution_count": 60,
   "metadata": {},
   "outputs": [
    {
     "data": {
      "text/plain": [
       "(780, 6)"
      ]
     },
     "execution_count": 60,
     "metadata": {},
     "output_type": "execute_result"
    }
   ],
   "source": [
    "df_clusters.shape"
   ]
  },
  {
   "cell_type": "code",
   "execution_count": 61,
   "metadata": {},
   "outputs": [],
   "source": [
    "df_clusters = pd.merge(df_clusters, clust_nas, on=['lat', 'lon'])\n",
    "df_clusters = pd.merge(df_clusters, clust_counts, on=['lat', 'lon'])"
   ]
  },
  {
   "cell_type": "code",
   "execution_count": 62,
   "metadata": {},
   "outputs": [
    {
     "data": {
      "text/html": [
       "<div>\n",
       "<style scoped>\n",
       "    .dataframe tbody tr th:only-of-type {\n",
       "        vertical-align: middle;\n",
       "    }\n",
       "\n",
       "    .dataframe tbody tr th {\n",
       "        vertical-align: top;\n",
       "    }\n",
       "\n",
       "    .dataframe thead th {\n",
       "        text-align: right;\n",
       "    }\n",
       "</style>\n",
       "<table border=\"1\" class=\"dataframe\">\n",
       "  <thead>\n",
       "    <tr style=\"text-align: right;\">\n",
       "      <th></th>\n",
       "      <th>lat</th>\n",
       "      <th>lon</th>\n",
       "      <th>cons</th>\n",
       "      <th>phone_cons</th>\n",
       "      <th>hh_f34</th>\n",
       "      <th>hh_f35</th>\n",
       "      <th>phone_na</th>\n",
       "      <th>hh_f34_na</th>\n",
       "      <th>hh_f35_na</th>\n",
       "      <th>count</th>\n",
       "    </tr>\n",
       "  </thead>\n",
       "  <tbody>\n",
       "    <tr>\n",
       "      <th>0</th>\n",
       "      <td>-17.095150</td>\n",
       "      <td>35.217213</td>\n",
       "      <td>4746.557129</td>\n",
       "      <td>273.444763</td>\n",
       "      <td>0.8750</td>\n",
       "      <td>42.312500</td>\n",
       "      <td>0.0</td>\n",
       "      <td>0.0</td>\n",
       "      <td>0.5000</td>\n",
       "      <td>16</td>\n",
       "    </tr>\n",
       "    <tr>\n",
       "      <th>1</th>\n",
       "      <td>-17.092351</td>\n",
       "      <td>35.114643</td>\n",
       "      <td>3741.755859</td>\n",
       "      <td>16.226484</td>\n",
       "      <td>0.1250</td>\n",
       "      <td>11.400000</td>\n",
       "      <td>0.0</td>\n",
       "      <td>0.0</td>\n",
       "      <td>0.8750</td>\n",
       "      <td>16</td>\n",
       "    </tr>\n",
       "    <tr>\n",
       "      <th>2</th>\n",
       "      <td>-17.016698</td>\n",
       "      <td>35.079629</td>\n",
       "      <td>5159.424316</td>\n",
       "      <td>11.216326</td>\n",
       "      <td>0.1250</td>\n",
       "      <td>7.500000</td>\n",
       "      <td>0.0</td>\n",
       "      <td>0.0</td>\n",
       "      <td>0.8750</td>\n",
       "      <td>16</td>\n",
       "    </tr>\n",
       "    <tr>\n",
       "      <th>3</th>\n",
       "      <td>-16.977243</td>\n",
       "      <td>35.205706</td>\n",
       "      <td>4650.909180</td>\n",
       "      <td>41.399769</td>\n",
       "      <td>0.1875</td>\n",
       "      <td>18.333333</td>\n",
       "      <td>0.0</td>\n",
       "      <td>0.0</td>\n",
       "      <td>0.8125</td>\n",
       "      <td>16</td>\n",
       "    </tr>\n",
       "    <tr>\n",
       "      <th>4</th>\n",
       "      <td>-16.956385</td>\n",
       "      <td>35.168967</td>\n",
       "      <td>2806.638916</td>\n",
       "      <td>22.526325</td>\n",
       "      <td>0.2500</td>\n",
       "      <td>7.500000</td>\n",
       "      <td>0.0</td>\n",
       "      <td>0.0</td>\n",
       "      <td>0.7500</td>\n",
       "      <td>16</td>\n",
       "    </tr>\n",
       "  </tbody>\n",
       "</table>\n",
       "</div>"
      ],
      "text/plain": [
       "         lat        lon         cons  phone_cons  hh_f34     hh_f35  phone_na  \\\n",
       "0 -17.095150  35.217213  4746.557129  273.444763  0.8750  42.312500       0.0   \n",
       "1 -17.092351  35.114643  3741.755859   16.226484  0.1250  11.400000       0.0   \n",
       "2 -17.016698  35.079629  5159.424316   11.216326  0.1250   7.500000       0.0   \n",
       "3 -16.977243  35.205706  4650.909180   41.399769  0.1875  18.333333       0.0   \n",
       "4 -16.956385  35.168967  2806.638916   22.526325  0.2500   7.500000       0.0   \n",
       "\n",
       "   hh_f34_na  hh_f35_na  count  \n",
       "0        0.0     0.5000     16  \n",
       "1        0.0     0.8750     16  \n",
       "2        0.0     0.8750     16  \n",
       "3        0.0     0.8125     16  \n",
       "4        0.0     0.7500     16  "
      ]
     },
     "execution_count": 62,
     "metadata": {},
     "output_type": "execute_result"
    }
   ],
   "source": [
    "df_clusters.head()"
   ]
  },
  {
   "cell_type": "code",
   "execution_count": 63,
   "metadata": {},
   "outputs": [
    {
     "data": {
      "text/plain": [
       "0      273.444763\n",
       "1       16.226484\n",
       "2       11.216326\n",
       "3       41.399769\n",
       "4       22.526325\n",
       "          ...    \n",
       "775      6.542647\n",
       "776    105.980751\n",
       "777    185.438538\n",
       "778    125.800255\n",
       "779     89.273575\n",
       "Name: phone_cons, Length: 780, dtype: float32"
      ]
     },
     "execution_count": 63,
     "metadata": {},
     "output_type": "execute_result"
    }
   ],
   "source": [
    "df_clusters['phone_cons']"
   ]
  },
  {
   "cell_type": "code",
   "execution_count": 64,
   "metadata": {},
   "outputs": [
    {
     "data": {
      "text/plain": [
       "(780, 10)"
      ]
     },
     "execution_count": 64,
     "metadata": {},
     "output_type": "execute_result"
    }
   ],
   "source": [
    "df_clusters.shape"
   ]
  },
  {
   "cell_type": "code",
   "execution_count": 65,
   "metadata": {},
   "outputs": [],
   "source": [
    "rename = {c: 'cluster_' + c if c not in ['lat', 'lon'] else c for c in df_clusters.columns}\n",
    "df_clusters.rename(columns=rename, inplace=True)"
   ]
  },
  {
   "cell_type": "code",
   "execution_count": 66,
   "metadata": {},
   "outputs": [],
   "source": [
    "import geoio\n",
    "filename = 'data/Nightlights/2013/F182013.v4c_web.stable_lights.avg_vis.tif'\n",
    "img = geoio.GeoImage(filename)"
   ]
  },
  {
   "cell_type": "code",
   "execution_count": 67,
   "metadata": {},
   "outputs": [],
   "source": [
    "im_array = np.squeeze(img.get_data())"
   ]
  },
  {
   "cell_type": "code",
   "execution_count": 68,
   "metadata": {},
   "outputs": [],
   "source": [
    "import math\n",
    "\n",
    "def create_space(lat, lon):\n",
    "    # these are pulled from the paper to make the 10km^2 area\n",
    "    return lat - (180/math.pi)*(5000/6378137), lon - (180/math.pi)*(5000/6378137)/math.cos(lat), \\\n",
    "            lat + (180/math.pi)*(5000/6378137), lon + (180/math.pi)*(5000/6378137)/math.cos(lat)"
   ]
  },
  {
   "cell_type": "code",
   "execution_count": 69,
   "metadata": {
    "scrolled": true
   },
   "outputs": [],
   "source": [
    "household_nightlights = []\n",
    "for i,r in df_clusters.iterrows():\n",
    "    min_lat, min_lon, max_lat, max_lon = create_space(r.lat, r.lon)\n",
    "    xminPixel, yminPixel = img.proj_to_raster(min_lon, min_lat)\n",
    "    xmaxPixel, ymaxPixel = img.proj_to_raster(max_lon, max_lat)\n",
    "    \n",
    "    xminPixel, xmaxPixel = min(xminPixel, xmaxPixel), max(xminPixel, xmaxPixel)\n",
    "    yminPixel, ymaxPixel = min(yminPixel, ymaxPixel), max(yminPixel, ymaxPixel)\n",
    "    \n",
    "    xminPixel, yminPixel, xmaxPixel, ymaxPixel = int(xminPixel), int(yminPixel), int(xmaxPixel), int(ymaxPixel)\n",
    "    household_nightlights.append(im_array[yminPixel:ymaxPixel,xminPixel:xmaxPixel].mean())"
   ]
  },
  {
   "cell_type": "code",
   "execution_count": 70,
   "metadata": {},
   "outputs": [],
   "source": [
    "df_clusters['nightlights'] = household_nightlights"
   ]
  },
  {
   "cell_type": "code",
   "execution_count": 71,
   "metadata": {},
   "outputs": [
    {
     "data": {
      "text/html": [
       "<div>\n",
       "<style scoped>\n",
       "    .dataframe tbody tr th:only-of-type {\n",
       "        vertical-align: middle;\n",
       "    }\n",
       "\n",
       "    .dataframe tbody tr th {\n",
       "        vertical-align: top;\n",
       "    }\n",
       "\n",
       "    .dataframe thead th {\n",
       "        text-align: right;\n",
       "    }\n",
       "</style>\n",
       "<table border=\"1\" class=\"dataframe\">\n",
       "  <thead>\n",
       "    <tr style=\"text-align: right;\">\n",
       "      <th></th>\n",
       "      <th>lat</th>\n",
       "      <th>lon</th>\n",
       "      <th>cluster_cons</th>\n",
       "      <th>cluster_phone_cons</th>\n",
       "      <th>cluster_hh_f34</th>\n",
       "      <th>cluster_hh_f35</th>\n",
       "      <th>cluster_phone_na</th>\n",
       "      <th>cluster_hh_f34_na</th>\n",
       "      <th>cluster_hh_f35_na</th>\n",
       "      <th>cluster_count</th>\n",
       "      <th>nightlights</th>\n",
       "    </tr>\n",
       "  </thead>\n",
       "  <tbody>\n",
       "    <tr>\n",
       "      <th>0</th>\n",
       "      <td>-17.095150</td>\n",
       "      <td>35.217213</td>\n",
       "      <td>4746.557129</td>\n",
       "      <td>273.444763</td>\n",
       "      <td>0.8750</td>\n",
       "      <td>42.312500</td>\n",
       "      <td>0.0</td>\n",
       "      <td>0.0</td>\n",
       "      <td>0.5000</td>\n",
       "      <td>16</td>\n",
       "      <td>0.000000</td>\n",
       "    </tr>\n",
       "    <tr>\n",
       "      <th>1</th>\n",
       "      <td>-17.092351</td>\n",
       "      <td>35.114643</td>\n",
       "      <td>3741.755859</td>\n",
       "      <td>16.226484</td>\n",
       "      <td>0.1250</td>\n",
       "      <td>11.400000</td>\n",
       "      <td>0.0</td>\n",
       "      <td>0.0</td>\n",
       "      <td>0.8750</td>\n",
       "      <td>16</td>\n",
       "      <td>0.000000</td>\n",
       "    </tr>\n",
       "    <tr>\n",
       "      <th>2</th>\n",
       "      <td>-17.016698</td>\n",
       "      <td>35.079629</td>\n",
       "      <td>5159.424316</td>\n",
       "      <td>11.216326</td>\n",
       "      <td>0.1250</td>\n",
       "      <td>7.500000</td>\n",
       "      <td>0.0</td>\n",
       "      <td>0.0</td>\n",
       "      <td>0.8750</td>\n",
       "      <td>16</td>\n",
       "      <td>0.000000</td>\n",
       "    </tr>\n",
       "    <tr>\n",
       "      <th>3</th>\n",
       "      <td>-16.977243</td>\n",
       "      <td>35.205706</td>\n",
       "      <td>4650.909180</td>\n",
       "      <td>41.399769</td>\n",
       "      <td>0.1875</td>\n",
       "      <td>18.333333</td>\n",
       "      <td>0.0</td>\n",
       "      <td>0.0</td>\n",
       "      <td>0.8125</td>\n",
       "      <td>16</td>\n",
       "      <td>0.121212</td>\n",
       "    </tr>\n",
       "    <tr>\n",
       "      <th>4</th>\n",
       "      <td>-16.956385</td>\n",
       "      <td>35.168967</td>\n",
       "      <td>2806.638916</td>\n",
       "      <td>22.526325</td>\n",
       "      <td>0.2500</td>\n",
       "      <td>7.500000</td>\n",
       "      <td>0.0</td>\n",
       "      <td>0.0</td>\n",
       "      <td>0.7500</td>\n",
       "      <td>16</td>\n",
       "      <td>0.502674</td>\n",
       "    </tr>\n",
       "  </tbody>\n",
       "</table>\n",
       "</div>"
      ],
      "text/plain": [
       "         lat        lon  cluster_cons  cluster_phone_cons  cluster_hh_f34  \\\n",
       "0 -17.095150  35.217213   4746.557129          273.444763          0.8750   \n",
       "1 -17.092351  35.114643   3741.755859           16.226484          0.1250   \n",
       "2 -17.016698  35.079629   5159.424316           11.216326          0.1250   \n",
       "3 -16.977243  35.205706   4650.909180           41.399769          0.1875   \n",
       "4 -16.956385  35.168967   2806.638916           22.526325          0.2500   \n",
       "\n",
       "   cluster_hh_f35  cluster_phone_na  cluster_hh_f34_na  cluster_hh_f35_na  \\\n",
       "0       42.312500               0.0                0.0             0.5000   \n",
       "1       11.400000               0.0                0.0             0.8750   \n",
       "2        7.500000               0.0                0.0             0.8750   \n",
       "3       18.333333               0.0                0.0             0.8125   \n",
       "4        7.500000               0.0                0.0             0.7500   \n",
       "\n",
       "   cluster_count  nightlights  \n",
       "0             16     0.000000  \n",
       "1             16     0.000000  \n",
       "2             16     0.000000  \n",
       "3             16     0.121212  \n",
       "4             16     0.502674  "
      ]
     },
     "execution_count": 71,
     "metadata": {},
     "output_type": "execute_result"
    }
   ],
   "source": [
    "df_clusters.head()"
   ]
  },
  {
   "cell_type": "code",
   "execution_count": 72,
   "metadata": {},
   "outputs": [
    {
     "data": {
      "text/html": [
       "<div>\n",
       "<style scoped>\n",
       "    .dataframe tbody tr th:only-of-type {\n",
       "        vertical-align: middle;\n",
       "    }\n",
       "\n",
       "    .dataframe tbody tr th {\n",
       "        vertical-align: top;\n",
       "    }\n",
       "\n",
       "    .dataframe thead th {\n",
       "        text-align: right;\n",
       "    }\n",
       "</style>\n",
       "<table border=\"1\" class=\"dataframe\">\n",
       "  <thead>\n",
       "    <tr style=\"text-align: right;\">\n",
       "      <th></th>\n",
       "      <th>cluster_cons</th>\n",
       "      <th>cluster_phone_cons</th>\n",
       "      <th>cluster_hh_f34</th>\n",
       "      <th>cluster_hh_f35</th>\n",
       "      <th>nightlights</th>\n",
       "    </tr>\n",
       "  </thead>\n",
       "  <tbody>\n",
       "    <tr>\n",
       "      <th>cluster_cons</th>\n",
       "      <td>1.000000</td>\n",
       "      <td>0.553713</td>\n",
       "      <td>0.497991</td>\n",
       "      <td>0.447005</td>\n",
       "      <td>0.387807</td>\n",
       "    </tr>\n",
       "    <tr>\n",
       "      <th>cluster_phone_cons</th>\n",
       "      <td>0.553713</td>\n",
       "      <td>1.000000</td>\n",
       "      <td>0.873184</td>\n",
       "      <td>0.858742</td>\n",
       "      <td>0.537487</td>\n",
       "    </tr>\n",
       "    <tr>\n",
       "      <th>cluster_hh_f34</th>\n",
       "      <td>0.497991</td>\n",
       "      <td>0.873184</td>\n",
       "      <td>1.000000</td>\n",
       "      <td>0.640965</td>\n",
       "      <td>0.535621</td>\n",
       "    </tr>\n",
       "    <tr>\n",
       "      <th>cluster_hh_f35</th>\n",
       "      <td>0.447005</td>\n",
       "      <td>0.858742</td>\n",
       "      <td>0.640965</td>\n",
       "      <td>1.000000</td>\n",
       "      <td>0.417294</td>\n",
       "    </tr>\n",
       "    <tr>\n",
       "      <th>nightlights</th>\n",
       "      <td>0.387807</td>\n",
       "      <td>0.537487</td>\n",
       "      <td>0.535621</td>\n",
       "      <td>0.417294</td>\n",
       "      <td>1.000000</td>\n",
       "    </tr>\n",
       "  </tbody>\n",
       "</table>\n",
       "</div>"
      ],
      "text/plain": [
       "                    cluster_cons  cluster_phone_cons  cluster_hh_f34  \\\n",
       "cluster_cons            1.000000            0.553713        0.497991   \n",
       "cluster_phone_cons      0.553713            1.000000        0.873184   \n",
       "cluster_hh_f34          0.497991            0.873184        1.000000   \n",
       "cluster_hh_f35          0.447005            0.858742        0.640965   \n",
       "nightlights             0.387807            0.537487        0.535621   \n",
       "\n",
       "                    cluster_hh_f35  nightlights  \n",
       "cluster_cons              0.447005     0.387807  \n",
       "cluster_phone_cons        0.858742     0.537487  \n",
       "cluster_hh_f34            0.640965     0.535621  \n",
       "cluster_hh_f35            1.000000     0.417294  \n",
       "nightlights               0.417294     1.000000  "
      ]
     },
     "execution_count": 72,
     "metadata": {},
     "output_type": "execute_result"
    }
   ],
   "source": [
    "df_clusters[['cluster_cons', 'cluster_phone_cons', 'cluster_hh_f34', 'cluster_hh_f35', 'nightlights']].corr()"
   ]
  },
  {
   "cell_type": "code",
   "execution_count": 73,
   "metadata": {},
   "outputs": [],
   "source": [
    "df_clusters.to_csv('cluster_data.csv', index=False)"
   ]
  },
  {
   "cell_type": "code",
   "execution_count": null,
   "metadata": {},
   "outputs": [],
   "source": []
  }
 ],
 "metadata": {
  "kernelspec": {
   "display_name": "predicting-poverty-replication",
   "language": "python",
   "name": "predicting-poverty-replication"
  },
  "language_info": {
   "codemirror_mode": {
    "name": "ipython",
    "version": 3
   },
   "file_extension": ".py",
   "mimetype": "text/x-python",
   "name": "python",
   "nbconvert_exporter": "python",
   "pygments_lexer": "ipython3",
   "version": "3.7.3"
  }
 },
 "nbformat": 4,
 "nbformat_minor": 2
}
