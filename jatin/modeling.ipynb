{
 "cells": [
  {
   "cell_type": "code",
   "execution_count": 1,
   "metadata": {},
   "outputs": [],
   "source": [
    "import pandas as pd\n",
    "import numpy as np"
   ]
  },
  {
   "cell_type": "code",
   "execution_count": 2,
   "metadata": {},
   "outputs": [],
   "source": [
    "# from CNN, these match the cluster_data.csv latitudes and longitudes one-to-one\n",
    "feats = np.load('aggregated_feats.npy')"
   ]
  },
  {
   "cell_type": "code",
   "execution_count": 3,
   "metadata": {},
   "outputs": [],
   "source": [
    "clusters = pd.read_csv('cluster_data.csv')"
   ]
  },
  {
   "cell_type": "code",
   "execution_count": 4,
   "metadata": {},
   "outputs": [
    {
     "data": {
      "text/html": [
       "<div>\n",
       "<style scoped>\n",
       "    .dataframe tbody tr th:only-of-type {\n",
       "        vertical-align: middle;\n",
       "    }\n",
       "\n",
       "    .dataframe tbody tr th {\n",
       "        vertical-align: top;\n",
       "    }\n",
       "\n",
       "    .dataframe thead th {\n",
       "        text-align: right;\n",
       "    }\n",
       "</style>\n",
       "<table border=\"1\" class=\"dataframe\">\n",
       "  <thead>\n",
       "    <tr style=\"text-align: right;\">\n",
       "      <th></th>\n",
       "      <th>lat</th>\n",
       "      <th>lon</th>\n",
       "      <th>cluster_cons</th>\n",
       "      <th>cluster_phone_cons</th>\n",
       "      <th>cluster_hh_f34</th>\n",
       "      <th>cluster_hh_f35</th>\n",
       "      <th>cluster_phone_na</th>\n",
       "      <th>cluster_hh_f34_na</th>\n",
       "      <th>cluster_hh_f35_na</th>\n",
       "      <th>cluster_count</th>\n",
       "      <th>nightlights</th>\n",
       "    </tr>\n",
       "  </thead>\n",
       "  <tbody>\n",
       "    <tr>\n",
       "      <td>0</td>\n",
       "      <td>-17.095150</td>\n",
       "      <td>35.217213</td>\n",
       "      <td>4746.5570</td>\n",
       "      <td>273.444760</td>\n",
       "      <td>0.8750</td>\n",
       "      <td>42.312500</td>\n",
       "      <td>0.0</td>\n",
       "      <td>0.0</td>\n",
       "      <td>0.5000</td>\n",
       "      <td>16</td>\n",
       "      <td>0.000000</td>\n",
       "    </tr>\n",
       "    <tr>\n",
       "      <td>1</td>\n",
       "      <td>-17.092351</td>\n",
       "      <td>35.114643</td>\n",
       "      <td>3741.7559</td>\n",
       "      <td>16.226484</td>\n",
       "      <td>0.1250</td>\n",
       "      <td>11.400000</td>\n",
       "      <td>0.0</td>\n",
       "      <td>0.0</td>\n",
       "      <td>0.8750</td>\n",
       "      <td>16</td>\n",
       "      <td>0.000000</td>\n",
       "    </tr>\n",
       "    <tr>\n",
       "      <td>2</td>\n",
       "      <td>-17.016698</td>\n",
       "      <td>35.079629</td>\n",
       "      <td>5159.4243</td>\n",
       "      <td>11.216326</td>\n",
       "      <td>0.1250</td>\n",
       "      <td>7.500000</td>\n",
       "      <td>0.0</td>\n",
       "      <td>0.0</td>\n",
       "      <td>0.8750</td>\n",
       "      <td>16</td>\n",
       "      <td>0.000000</td>\n",
       "    </tr>\n",
       "    <tr>\n",
       "      <td>3</td>\n",
       "      <td>-16.977243</td>\n",
       "      <td>35.205706</td>\n",
       "      <td>4650.9090</td>\n",
       "      <td>41.399770</td>\n",
       "      <td>0.1875</td>\n",
       "      <td>18.333333</td>\n",
       "      <td>0.0</td>\n",
       "      <td>0.0</td>\n",
       "      <td>0.8125</td>\n",
       "      <td>16</td>\n",
       "      <td>0.121212</td>\n",
       "    </tr>\n",
       "    <tr>\n",
       "      <td>4</td>\n",
       "      <td>-16.956385</td>\n",
       "      <td>35.168967</td>\n",
       "      <td>2806.6390</td>\n",
       "      <td>22.526325</td>\n",
       "      <td>0.2500</td>\n",
       "      <td>7.500000</td>\n",
       "      <td>0.0</td>\n",
       "      <td>0.0</td>\n",
       "      <td>0.7500</td>\n",
       "      <td>16</td>\n",
       "      <td>0.502674</td>\n",
       "    </tr>\n",
       "  </tbody>\n",
       "</table>\n",
       "</div>"
      ],
      "text/plain": [
       "         lat        lon  cluster_cons  cluster_phone_cons  cluster_hh_f34  \\\n",
       "0 -17.095150  35.217213     4746.5570          273.444760          0.8750   \n",
       "1 -17.092351  35.114643     3741.7559           16.226484          0.1250   \n",
       "2 -17.016698  35.079629     5159.4243           11.216326          0.1250   \n",
       "3 -16.977243  35.205706     4650.9090           41.399770          0.1875   \n",
       "4 -16.956385  35.168967     2806.6390           22.526325          0.2500   \n",
       "\n",
       "   cluster_hh_f35  cluster_phone_na  cluster_hh_f34_na  cluster_hh_f35_na  \\\n",
       "0       42.312500               0.0                0.0             0.5000   \n",
       "1       11.400000               0.0                0.0             0.8750   \n",
       "2        7.500000               0.0                0.0             0.8750   \n",
       "3       18.333333               0.0                0.0             0.8125   \n",
       "4        7.500000               0.0                0.0             0.7500   \n",
       "\n",
       "   cluster_count  nightlights  \n",
       "0             16     0.000000  \n",
       "1             16     0.000000  \n",
       "2             16     0.000000  \n",
       "3             16     0.121212  \n",
       "4             16     0.502674  "
      ]
     },
     "execution_count": 4,
     "metadata": {},
     "output_type": "execute_result"
    }
   ],
   "source": [
    "clusters.head()"
   ]
  },
  {
   "cell_type": "code",
   "execution_count": 48,
   "metadata": {},
   "outputs": [],
   "source": [
    "total_country = pd.read_csv('../results/malawi/ridge_phone_density/predictions.csv')"
   ]
  },
  {
   "cell_type": "code",
   "execution_count": 49,
   "metadata": {},
   "outputs": [
    {
     "data": {
      "text/html": [
       "<div>\n",
       "<style scoped>\n",
       "    .dataframe tbody tr th:only-of-type {\n",
       "        vertical-align: middle;\n",
       "    }\n",
       "\n",
       "    .dataframe tbody tr th {\n",
       "        vertical-align: top;\n",
       "    }\n",
       "\n",
       "    .dataframe thead th {\n",
       "        text-align: right;\n",
       "    }\n",
       "</style>\n",
       "<table border=\"1\" class=\"dataframe\">\n",
       "  <thead>\n",
       "    <tr style=\"text-align: right;\">\n",
       "      <th></th>\n",
       "      <th>centroid_lat</th>\n",
       "      <th>centroid_lon</th>\n",
       "      <th>predicted_phone_density</th>\n",
       "    </tr>\n",
       "  </thead>\n",
       "  <tbody>\n",
       "    <tr>\n",
       "      <td>0</td>\n",
       "      <td>-17.083471</td>\n",
       "      <td>35.291291</td>\n",
       "      <td>1.510037</td>\n",
       "    </tr>\n",
       "    <tr>\n",
       "      <td>1</td>\n",
       "      <td>-17.083036</td>\n",
       "      <td>35.142291</td>\n",
       "      <td>1.349357</td>\n",
       "    </tr>\n",
       "    <tr>\n",
       "      <td>2</td>\n",
       "      <td>-17.082668</td>\n",
       "      <td>35.231750</td>\n",
       "      <td>1.513969</td>\n",
       "    </tr>\n",
       "    <tr>\n",
       "      <td>3</td>\n",
       "      <td>-17.068863</td>\n",
       "      <td>35.084458</td>\n",
       "      <td>0.698982</td>\n",
       "    </tr>\n",
       "    <tr>\n",
       "      <td>4</td>\n",
       "      <td>-17.013450</td>\n",
       "      <td>35.078743</td>\n",
       "      <td>0.632675</td>\n",
       "    </tr>\n",
       "  </tbody>\n",
       "</table>\n",
       "</div>"
      ],
      "text/plain": [
       "   centroid_lat  centroid_lon  predicted_phone_density\n",
       "0    -17.083471     35.291291                 1.510037\n",
       "1    -17.083036     35.142291                 1.349357\n",
       "2    -17.082668     35.231750                 1.513969\n",
       "3    -17.068863     35.084458                 0.698982\n",
       "4    -17.013450     35.078743                 0.632675"
      ]
     },
     "execution_count": 49,
     "metadata": {},
     "output_type": "execute_result"
    }
   ],
   "source": [
    "total_country.head()"
   ]
  },
  {
   "cell_type": "code",
   "execution_count": 53,
   "metadata": {},
   "outputs": [
    {
     "data": {
      "text/plain": [
       "0.7891634173393223"
      ]
     },
     "execution_count": 53,
     "metadata": {},
     "output_type": "execute_result"
    }
   ],
   "source": [
    "clusters['cluster_hh_f34'].mean()"
   ]
  },
  {
   "cell_type": "code",
   "execution_count": 51,
   "metadata": {},
   "outputs": [
    {
     "data": {
      "text/plain": [
       "centroid_lat              -13.529790\n",
       "centroid_lon               34.276004\n",
       "predicted_phone_density     0.994067\n",
       "dtype: float64"
      ]
     },
     "execution_count": 51,
     "metadata": {},
     "output_type": "execute_result"
    }
   ],
   "source": [
    "total_country.mean()"
   ]
  },
  {
   "cell_type": "code",
   "execution_count": 54,
   "metadata": {},
   "outputs": [],
   "source": [
    "def find_nearest(x):\n",
    "    lat = x.centroid_lat\n",
    "    lon = x.centroid_lon\n",
    "    \n",
    "    return ((clusters['lat'] - lat)**2 + (clusters['lon'] - lon)**2).idxmin()\n",
    "    \n",
    "    "
   ]
  },
  {
   "cell_type": "code",
   "execution_count": 55,
   "metadata": {},
   "outputs": [],
   "source": [
    "total_country['nearest'] = total_country.apply(lambda x: find_nearest(x), axis=1)"
   ]
  },
  {
   "cell_type": "code",
   "execution_count": 56,
   "metadata": {},
   "outputs": [
    {
     "data": {
      "text/html": [
       "<div>\n",
       "<style scoped>\n",
       "    .dataframe tbody tr th:only-of-type {\n",
       "        vertical-align: middle;\n",
       "    }\n",
       "\n",
       "    .dataframe tbody tr th {\n",
       "        vertical-align: top;\n",
       "    }\n",
       "\n",
       "    .dataframe thead th {\n",
       "        text-align: right;\n",
       "    }\n",
       "</style>\n",
       "<table border=\"1\" class=\"dataframe\">\n",
       "  <thead>\n",
       "    <tr style=\"text-align: right;\">\n",
       "      <th></th>\n",
       "      <th>centroid_lat</th>\n",
       "      <th>centroid_lon</th>\n",
       "      <th>predicted_phone_density</th>\n",
       "      <th>nearest</th>\n",
       "    </tr>\n",
       "  </thead>\n",
       "  <tbody>\n",
       "    <tr>\n",
       "      <td>0</td>\n",
       "      <td>-17.083471</td>\n",
       "      <td>35.291291</td>\n",
       "      <td>1.510037</td>\n",
       "      <td>0</td>\n",
       "    </tr>\n",
       "    <tr>\n",
       "      <td>1</td>\n",
       "      <td>-17.083036</td>\n",
       "      <td>35.142291</td>\n",
       "      <td>1.349357</td>\n",
       "      <td>1</td>\n",
       "    </tr>\n",
       "    <tr>\n",
       "      <td>2</td>\n",
       "      <td>-17.082668</td>\n",
       "      <td>35.231750</td>\n",
       "      <td>1.513969</td>\n",
       "      <td>0</td>\n",
       "    </tr>\n",
       "    <tr>\n",
       "      <td>3</td>\n",
       "      <td>-17.068863</td>\n",
       "      <td>35.084458</td>\n",
       "      <td>0.698982</td>\n",
       "      <td>1</td>\n",
       "    </tr>\n",
       "    <tr>\n",
       "      <td>4</td>\n",
       "      <td>-17.013450</td>\n",
       "      <td>35.078743</td>\n",
       "      <td>0.632675</td>\n",
       "      <td>2</td>\n",
       "    </tr>\n",
       "    <tr>\n",
       "      <td>...</td>\n",
       "      <td>...</td>\n",
       "      <td>...</td>\n",
       "      <td>...</td>\n",
       "      <td>...</td>\n",
       "    </tr>\n",
       "    <tr>\n",
       "      <td>1198</td>\n",
       "      <td>-9.509490</td>\n",
       "      <td>33.326193</td>\n",
       "      <td>1.757166</td>\n",
       "      <td>776</td>\n",
       "    </tr>\n",
       "    <tr>\n",
       "      <td>1199</td>\n",
       "      <td>-9.509371</td>\n",
       "      <td>33.257111</td>\n",
       "      <td>0.536651</td>\n",
       "      <td>778</td>\n",
       "    </tr>\n",
       "    <tr>\n",
       "      <td>1200</td>\n",
       "      <td>-9.508237</td>\n",
       "      <td>33.160050</td>\n",
       "      <td>0.978699</td>\n",
       "      <td>777</td>\n",
       "    </tr>\n",
       "    <tr>\n",
       "      <td>1201</td>\n",
       "      <td>-9.486041</td>\n",
       "      <td>33.073519</td>\n",
       "      <td>1.206587</td>\n",
       "      <td>777</td>\n",
       "    </tr>\n",
       "    <tr>\n",
       "      <td>1202</td>\n",
       "      <td>-9.464613</td>\n",
       "      <td>32.991657</td>\n",
       "      <td>0.597374</td>\n",
       "      <td>779</td>\n",
       "    </tr>\n",
       "  </tbody>\n",
       "</table>\n",
       "<p>1203 rows × 4 columns</p>\n",
       "</div>"
      ],
      "text/plain": [
       "      centroid_lat  centroid_lon  predicted_phone_density  nearest\n",
       "0       -17.083471     35.291291                 1.510037        0\n",
       "1       -17.083036     35.142291                 1.349357        1\n",
       "2       -17.082668     35.231750                 1.513969        0\n",
       "3       -17.068863     35.084458                 0.698982        1\n",
       "4       -17.013450     35.078743                 0.632675        2\n",
       "...            ...           ...                      ...      ...\n",
       "1198     -9.509490     33.326193                 1.757166      776\n",
       "1199     -9.509371     33.257111                 0.536651      778\n",
       "1200     -9.508237     33.160050                 0.978699      777\n",
       "1201     -9.486041     33.073519                 1.206587      777\n",
       "1202     -9.464613     32.991657                 0.597374      779\n",
       "\n",
       "[1203 rows x 4 columns]"
      ]
     },
     "execution_count": 56,
     "metadata": {},
     "output_type": "execute_result"
    }
   ],
   "source": [
    "total_country"
   ]
  },
  {
   "cell_type": "code",
   "execution_count": 57,
   "metadata": {
    "scrolled": false
   },
   "outputs": [],
   "source": [
    "res = pd.merge(total_country, clusters[['lat', 'lon', 'cluster_hh_f34']].reset_index().rename(columns={'index': 'nearest'}), on='nearest')\n",
    "\n"
   ]
  },
  {
   "cell_type": "code",
   "execution_count": 58,
   "metadata": {},
   "outputs": [
    {
     "data": {
      "text/html": [
       "<div>\n",
       "<style scoped>\n",
       "    .dataframe tbody tr th:only-of-type {\n",
       "        vertical-align: middle;\n",
       "    }\n",
       "\n",
       "    .dataframe tbody tr th {\n",
       "        vertical-align: top;\n",
       "    }\n",
       "\n",
       "    .dataframe thead th {\n",
       "        text-align: right;\n",
       "    }\n",
       "</style>\n",
       "<table border=\"1\" class=\"dataframe\">\n",
       "  <thead>\n",
       "    <tr style=\"text-align: right;\">\n",
       "      <th></th>\n",
       "      <th>centroid_lat</th>\n",
       "      <th>centroid_lon</th>\n",
       "      <th>predicted_phone_density</th>\n",
       "      <th>nearest</th>\n",
       "      <th>lat</th>\n",
       "      <th>lon</th>\n",
       "      <th>cluster_hh_f34</th>\n",
       "    </tr>\n",
       "  </thead>\n",
       "  <tbody>\n",
       "    <tr>\n",
       "      <td>0</td>\n",
       "      <td>-17.083471</td>\n",
       "      <td>35.291291</td>\n",
       "      <td>1.510037</td>\n",
       "      <td>0</td>\n",
       "      <td>-17.095150</td>\n",
       "      <td>35.217213</td>\n",
       "      <td>0.8750</td>\n",
       "    </tr>\n",
       "    <tr>\n",
       "      <td>1</td>\n",
       "      <td>-17.082668</td>\n",
       "      <td>35.231750</td>\n",
       "      <td>1.513969</td>\n",
       "      <td>0</td>\n",
       "      <td>-17.095150</td>\n",
       "      <td>35.217213</td>\n",
       "      <td>0.8750</td>\n",
       "    </tr>\n",
       "    <tr>\n",
       "      <td>2</td>\n",
       "      <td>-17.083036</td>\n",
       "      <td>35.142291</td>\n",
       "      <td>1.349357</td>\n",
       "      <td>1</td>\n",
       "      <td>-17.092351</td>\n",
       "      <td>35.114643</td>\n",
       "      <td>0.1250</td>\n",
       "    </tr>\n",
       "    <tr>\n",
       "      <td>3</td>\n",
       "      <td>-17.068863</td>\n",
       "      <td>35.084458</td>\n",
       "      <td>0.698982</td>\n",
       "      <td>1</td>\n",
       "      <td>-17.092351</td>\n",
       "      <td>35.114643</td>\n",
       "      <td>0.1250</td>\n",
       "    </tr>\n",
       "    <tr>\n",
       "      <td>4</td>\n",
       "      <td>-17.013450</td>\n",
       "      <td>35.078743</td>\n",
       "      <td>0.632675</td>\n",
       "      <td>2</td>\n",
       "      <td>-17.016698</td>\n",
       "      <td>35.079629</td>\n",
       "      <td>0.1250</td>\n",
       "    </tr>\n",
       "    <tr>\n",
       "      <td>...</td>\n",
       "      <td>...</td>\n",
       "      <td>...</td>\n",
       "      <td>...</td>\n",
       "      <td>...</td>\n",
       "      <td>...</td>\n",
       "      <td>...</td>\n",
       "      <td>...</td>\n",
       "    </tr>\n",
       "    <tr>\n",
       "      <td>1198</td>\n",
       "      <td>-9.565807</td>\n",
       "      <td>33.165787</td>\n",
       "      <td>0.993352</td>\n",
       "      <td>777</td>\n",
       "      <td>-9.519230</td>\n",
       "      <td>33.139193</td>\n",
       "      <td>0.7500</td>\n",
       "    </tr>\n",
       "    <tr>\n",
       "      <td>1199</td>\n",
       "      <td>-9.508237</td>\n",
       "      <td>33.160050</td>\n",
       "      <td>0.978699</td>\n",
       "      <td>777</td>\n",
       "      <td>-9.519230</td>\n",
       "      <td>33.139193</td>\n",
       "      <td>0.7500</td>\n",
       "    </tr>\n",
       "    <tr>\n",
       "      <td>1200</td>\n",
       "      <td>-9.486041</td>\n",
       "      <td>33.073519</td>\n",
       "      <td>1.206587</td>\n",
       "      <td>777</td>\n",
       "      <td>-9.519230</td>\n",
       "      <td>33.139193</td>\n",
       "      <td>0.7500</td>\n",
       "    </tr>\n",
       "    <tr>\n",
       "      <td>1201</td>\n",
       "      <td>-9.509371</td>\n",
       "      <td>33.257111</td>\n",
       "      <td>0.536651</td>\n",
       "      <td>778</td>\n",
       "      <td>-9.507538</td>\n",
       "      <td>33.259649</td>\n",
       "      <td>0.6250</td>\n",
       "    </tr>\n",
       "    <tr>\n",
       "      <td>1202</td>\n",
       "      <td>-9.464613</td>\n",
       "      <td>32.991657</td>\n",
       "      <td>0.597374</td>\n",
       "      <td>779</td>\n",
       "      <td>-9.429667</td>\n",
       "      <td>33.022118</td>\n",
       "      <td>0.5625</td>\n",
       "    </tr>\n",
       "  </tbody>\n",
       "</table>\n",
       "<p>1203 rows × 7 columns</p>\n",
       "</div>"
      ],
      "text/plain": [
       "      centroid_lat  centroid_lon  predicted_phone_density  nearest        lat  \\\n",
       "0       -17.083471     35.291291                 1.510037        0 -17.095150   \n",
       "1       -17.082668     35.231750                 1.513969        0 -17.095150   \n",
       "2       -17.083036     35.142291                 1.349357        1 -17.092351   \n",
       "3       -17.068863     35.084458                 0.698982        1 -17.092351   \n",
       "4       -17.013450     35.078743                 0.632675        2 -17.016698   \n",
       "...            ...           ...                      ...      ...        ...   \n",
       "1198     -9.565807     33.165787                 0.993352      777  -9.519230   \n",
       "1199     -9.508237     33.160050                 0.978699      777  -9.519230   \n",
       "1200     -9.486041     33.073519                 1.206587      777  -9.519230   \n",
       "1201     -9.509371     33.257111                 0.536651      778  -9.507538   \n",
       "1202     -9.464613     32.991657                 0.597374      779  -9.429667   \n",
       "\n",
       "            lon  cluster_hh_f34  \n",
       "0     35.217213          0.8750  \n",
       "1     35.217213          0.8750  \n",
       "2     35.114643          0.1250  \n",
       "3     35.114643          0.1250  \n",
       "4     35.079629          0.1250  \n",
       "...         ...             ...  \n",
       "1198  33.139193          0.7500  \n",
       "1199  33.139193          0.7500  \n",
       "1200  33.139193          0.7500  \n",
       "1201  33.259649          0.6250  \n",
       "1202  33.022118          0.5625  \n",
       "\n",
       "[1203 rows x 7 columns]"
      ]
     },
     "execution_count": 58,
     "metadata": {},
     "output_type": "execute_result"
    }
   ],
   "source": [
    "res"
   ]
  },
  {
   "cell_type": "code",
   "execution_count": null,
   "metadata": {},
   "outputs": [],
   "source": []
  },
  {
   "cell_type": "code",
   "execution_count": null,
   "metadata": {},
   "outputs": [],
   "source": []
  },
  {
   "cell_type": "code",
   "execution_count": null,
   "metadata": {},
   "outputs": [],
   "source": []
  },
  {
   "cell_type": "code",
   "execution_count": 7,
   "metadata": {},
   "outputs": [],
   "source": [
    "# This is a bunch of code from the Jean et al Github that is modified to work with Python3 and our data\n",
    "\n",
    "import numpy as np\n",
    "import pandas as pd\n",
    "import random\n",
    "from scipy import stats\n",
    "from sklearn.decomposition import PCA\n",
    "from sklearn.preprocessing import StandardScaler\n",
    "from sklearn.model_selection import KFold\n",
    "import sklearn.linear_model as linear_model\n",
    "import matplotlib.pyplot as plt\n",
    "from matplotlib.collections import EllipseCollection\n",
    "import seaborn as sns\n",
    "import joblib\n",
    "from sklearn import metrics\n",
    "\n",
    "def predict_consumption(\n",
    "    X, y, k=5, k_inner=5, points=10,\n",
    "        alpha_low=1, alpha_high=5, margin=0.25):\n",
    "    \"\"\"\n",
    "    Plots predicted consumption\n",
    "    \"\"\"\n",
    "    y_hat, r2 = run_cv(X, y, k, k_inner, points, alpha_low, alpha_high)\n",
    "    return X, y, y_hat, r2\n",
    "\n",
    "\n",
    "def run_cv(X, y, k, k_inner, points, alpha_low, alpha_high, randomize=False):\n",
    "    \"\"\"\n",
    "    Runs nested cross-validation to make predictions and compute r-squared.\n",
    "    \"\"\"\n",
    "    alphas = np.logspace(alpha_low, alpha_high, points)\n",
    "    r2s = np.zeros((k,))\n",
    "    y_hat = np.zeros_like(y)\n",
    "    kf = KFold(n_splits=k, shuffle=True)\n",
    "    fold = 0\n",
    "    for train_idx, test_idx in kf.split(X):\n",
    "        r2s, y_hat, fold = evaluate_fold(\n",
    "            X, y, train_idx, test_idx, k_inner, alphas, r2s, y_hat, fold,\n",
    "            randomize)\n",
    "    return y_hat, r2s.mean()\n",
    "\n",
    "\n",
    "def scale_features(X_train, X_test):\n",
    "    \"\"\"\n",
    "    Scales features using StandardScaler.\n",
    "    \"\"\"\n",
    "    X_scaler = StandardScaler(with_mean=True, with_std=False)\n",
    "    X_train = X_scaler.fit_transform(X_train)\n",
    "    X_test = X_scaler.transform(X_test)\n",
    "    return X_train, X_test\n",
    "\n",
    "\n",
    "def train_and_predict_ridge(alpha, X_train, y_train, X_test):\n",
    "    \"\"\"\n",
    "    Trains ridge model and predicts test set.\n",
    "    \"\"\"\n",
    "    ridge = linear_model.Ridge(alpha)\n",
    "    ridge.fit(X_train, y_train)\n",
    "    y_hat = ridge.predict(X_test)\n",
    "    return y_hat\n",
    "\n",
    "\n",
    "def predict_inner_test_fold(X, y, y_hat, train_idx, test_idx, alpha):\n",
    "    \"\"\"\n",
    "    Predicts inner test fold.\n",
    "    \"\"\"\n",
    "    X_train, X_test = X[train_idx], X[test_idx]\n",
    "    y_train, y_test = y[train_idx], y[test_idx]\n",
    "    X_train, X_test = scale_features(X_train, X_test)\n",
    "    y_hat[test_idx] = train_and_predict_ridge(alpha, X_train, y_train, X_test)\n",
    "    return y_hat\n",
    "\n",
    "\n",
    "def find_best_alpha(X, y, k_inner, alphas):\n",
    "    \"\"\"\n",
    "    Finds the best alpha in an inner CV loop.\n",
    "    \"\"\"\n",
    "    kf = KFold(n_splits=k_inner, shuffle=True)\n",
    "    best_alpha = 0\n",
    "    best_r2 = 0\n",
    "    for idx, alpha in enumerate(alphas):\n",
    "        y_hat = np.zeros_like(y)\n",
    "        for train_idx, test_idx in kf.split(X):\n",
    "            y_hat = predict_inner_test_fold(\n",
    "                X, y, y_hat, train_idx, test_idx, alpha)\n",
    "        r2 = stats.pearsonr(y, y_hat)[0] ** 2\n",
    "        if r2 > best_r2:\n",
    "            best_alpha = alpha\n",
    "            best_r2 = r2\n",
    "    print('best alpha', best_alpha)\n",
    "    return best_alpha\n",
    "\n",
    "\n",
    "def evaluate_fold(\n",
    "    X, y, train_idx, test_idx, k_inner, alphas, r2s, y_hat, fold,\n",
    "        randomize):\n",
    "    \"\"\"\n",
    "    Evaluates one fold of outer CV.\n",
    "    \"\"\"\n",
    "    X_train, X_test = X[train_idx], X[test_idx]\n",
    "    y_train, y_test = y[train_idx], y[test_idx]\n",
    "    if randomize:\n",
    "        random.shuffle(y_train)\n",
    "    best_alpha = find_best_alpha(X_train, y_train, k_inner, alphas)\n",
    "    X_train, X_test = scale_features(X_train, X_test)\n",
    "    y_test_hat = train_and_predict_ridge(best_alpha, X_train, y_train, X_test)\n",
    "    r2 = stats.pearsonr(y_test, y_test_hat)[0] ** 2\n",
    "    r2s[fold] = r2\n",
    "    y_hat[test_idx] = y_test_hat\n",
    "    return r2s, y_hat, fold + 1\n"
   ]
  },
  {
   "cell_type": "code",
   "execution_count": 8,
   "metadata": {},
   "outputs": [],
   "source": [
    "y = clusters['cluster_cons'].values\n",
    "y_log = np.log(y + 0.0001)"
   ]
  },
  {
   "cell_type": "code",
   "execution_count": 9,
   "metadata": {},
   "outputs": [
    {
     "name": "stdout",
     "output_type": "stream",
     "text": [
      "best alpha 27.825594022071243\n",
      "best alpha 77.4263682681127\n",
      "best alpha 77.4263682681127\n",
      "best alpha 10.0\n",
      "best alpha 77.4263682681127\n"
     ]
    },
    {
     "data": {
      "text/plain": [
       "0.42159020164005884"
      ]
     },
     "execution_count": 9,
     "metadata": {},
     "output_type": "execute_result"
    }
   ],
   "source": [
    "_, _, y_hat_log, r2 = predict_consumption(feats, y_log)\n",
    "r2"
   ]
  },
  {
   "cell_type": "code",
   "execution_count": 10,
   "metadata": {},
   "outputs": [
    {
     "name": "stdout",
     "output_type": "stream",
     "text": [
      "best alpha 599.4842503189409\n",
      "best alpha 599.4842503189409\n",
      "best alpha 599.4842503189409\n",
      "best alpha 1668.100537200059\n",
      "best alpha 599.4842503189409\n"
     ]
    },
    {
     "data": {
      "text/plain": [
       "0.29743908591587404"
      ]
     },
     "execution_count": 10,
     "metadata": {},
     "output_type": "execute_result"
    }
   ],
   "source": [
    "_, _, y_hat, r2 = predict_consumption(feats, y)\n",
    "r2"
   ]
  },
  {
   "cell_type": "code",
   "execution_count": 11,
   "metadata": {},
   "outputs": [],
   "source": [
    "clusters['predicted_cons'] = y_hat\n",
    "clusters['predicted_log_cons'] = y_hat_log"
   ]
  },
  {
   "cell_type": "code",
   "execution_count": 12,
   "metadata": {},
   "outputs": [],
   "source": [
    "ss = StandardScaler()\n",
    "scaled_feats = ss.fit_transform(feats)"
   ]
  },
  {
   "cell_type": "code",
   "execution_count": 13,
   "metadata": {},
   "outputs": [
    {
     "data": {
      "text/plain": [
       "['scaler.joblib']"
      ]
     },
     "execution_count": 13,
     "metadata": {},
     "output_type": "execute_result"
    }
   ],
   "source": [
    "joblib.dump(ss, 'scaler.joblib')"
   ]
  },
  {
   "cell_type": "code",
   "execution_count": 14,
   "metadata": {},
   "outputs": [
    {
     "data": {
      "text/plain": [
       "0.21655987457377524"
      ]
     },
     "execution_count": 14,
     "metadata": {},
     "output_type": "execute_result"
    }
   ],
   "source": [
    "chosen_alpha = 600\n",
    "consumption_ridge = linear_model.Ridge(alpha=chosen_alpha)\n",
    "consumption_ridge.fit(scaled_feats, y)\n",
    "\n",
    "preds = consumption_ridge.predict(scaled_feats)\n",
    "metrics.r2_score(y, preds)"
   ]
  },
  {
   "cell_type": "code",
   "execution_count": 15,
   "metadata": {},
   "outputs": [
    {
     "data": {
      "text/plain": [
       "['ridge_consumption.joblib']"
      ]
     },
     "execution_count": 15,
     "metadata": {},
     "output_type": "execute_result"
    }
   ],
   "source": [
    "joblib.dump(consumption_ridge, 'ridge_consumption.joblib')"
   ]
  },
  {
   "cell_type": "code",
   "execution_count": null,
   "metadata": {},
   "outputs": [],
   "source": []
  },
  {
   "cell_type": "code",
   "execution_count": 16,
   "metadata": {},
   "outputs": [],
   "source": [
    "y = clusters['cluster_phone_cons'].values\n",
    "y_log = np.log(y + 0.0001)"
   ]
  },
  {
   "cell_type": "code",
   "execution_count": 72,
   "metadata": {},
   "outputs": [
    {
     "name": "stdout",
     "output_type": "stream",
     "text": [
      "best alpha 77.4263682681127\n",
      "best alpha 599.4842503189409\n",
      "best alpha 599.4842503189409\n",
      "best alpha 10.0\n",
      "best alpha 77.4263682681127\n"
     ]
    },
    {
     "data": {
      "text/plain": [
       "0.15467627308491724"
      ]
     },
     "execution_count": 72,
     "metadata": {},
     "output_type": "execute_result"
    }
   ],
   "source": [
    "_, _, y_hat_log, r2 = predict_consumption(feats, y_log)\n",
    "r2"
   ]
  },
  {
   "cell_type": "code",
   "execution_count": 73,
   "metadata": {},
   "outputs": [
    {
     "name": "stdout",
     "output_type": "stream",
     "text": [
      "best alpha 77.4263682681127\n",
      "best alpha 77.4263682681127\n",
      "best alpha 215.44346900318823\n",
      "best alpha 27.825594022071243\n",
      "best alpha 77.4263682681127\n"
     ]
    },
    {
     "data": {
      "text/plain": [
       "0.37513281729799025"
      ]
     },
     "execution_count": 73,
     "metadata": {},
     "output_type": "execute_result"
    }
   ],
   "source": [
    "_, _, y_hat, r2 = predict_consumption(feats, y)\n",
    "r2"
   ]
  },
  {
   "cell_type": "code",
   "execution_count": 13,
   "metadata": {},
   "outputs": [],
   "source": [
    "clusters['predicted_phone_cons'] = y_hat\n",
    "clusters['predicted_log_phone_cons'] = y_hat_log"
   ]
  },
  {
   "cell_type": "code",
   "execution_count": 17,
   "metadata": {},
   "outputs": [
    {
     "data": {
      "text/plain": [
       "0.5276008343926226"
      ]
     },
     "execution_count": 17,
     "metadata": {},
     "output_type": "execute_result"
    }
   ],
   "source": [
    "chosen_alpha = 77\n",
    "phone_consumption_ridge = linear_model.Ridge(alpha=chosen_alpha)\n",
    "phone_consumption_ridge.fit(scaled_feats, y)\n",
    "\n",
    "preds = phone_consumption_ridge.predict(scaled_feats)\n",
    "metrics.r2_score(y, preds)"
   ]
  },
  {
   "cell_type": "code",
   "execution_count": 18,
   "metadata": {},
   "outputs": [
    {
     "data": {
      "text/plain": [
       "['ridge_phone_consumption.joblib']"
      ]
     },
     "execution_count": 18,
     "metadata": {},
     "output_type": "execute_result"
    }
   ],
   "source": [
    "joblib.dump(phone_consumption_ridge, 'ridge_phone_consumption.joblib')"
   ]
  },
  {
   "cell_type": "code",
   "execution_count": null,
   "metadata": {},
   "outputs": [],
   "source": []
  },
  {
   "cell_type": "code",
   "execution_count": 19,
   "metadata": {},
   "outputs": [],
   "source": [
    "y = clusters['cluster_hh_f34'].values\n",
    "y_log = np.log(y + 0.0001)"
   ]
  },
  {
   "cell_type": "code",
   "execution_count": 13,
   "metadata": {},
   "outputs": [
    {
     "name": "stdout",
     "output_type": "stream",
     "text": [
      "best alpha 215.44346900318823\n",
      "best alpha 27.825594022071243\n",
      "best alpha 27.825594022071243\n",
      "best alpha 27.825594022071243\n",
      "best alpha 77.4263682681127\n"
     ]
    },
    {
     "data": {
      "text/plain": [
       "0.20867570759489765"
      ]
     },
     "execution_count": 13,
     "metadata": {},
     "output_type": "execute_result"
    }
   ],
   "source": [
    "_, _, y_hat_log, r2 = predict_consumption(feats, y_log)\n",
    "r2"
   ]
  },
  {
   "cell_type": "code",
   "execution_count": 14,
   "metadata": {},
   "outputs": [
    {
     "name": "stdout",
     "output_type": "stream",
     "text": [
      "best alpha 10.0\n",
      "best alpha 27.825594022071243\n",
      "best alpha 77.4263682681127\n",
      "best alpha 27.825594022071243\n",
      "best alpha 27.825594022071243\n"
     ]
    },
    {
     "data": {
      "text/plain": [
       "0.5093559275936034"
      ]
     },
     "execution_count": 14,
     "metadata": {},
     "output_type": "execute_result"
    }
   ],
   "source": [
    "_, _, y_hat, r2 = predict_consumption(feats, y)\n",
    "r2"
   ]
  },
  {
   "cell_type": "code",
   "execution_count": 17,
   "metadata": {},
   "outputs": [],
   "source": [
    "clusters['predicted_cluster_hh_f34'] = y_hat\n",
    "clusters['predicted_log_cluster_hh_f34'] = y_hat_log"
   ]
  },
  {
   "cell_type": "code",
   "execution_count": 20,
   "metadata": {},
   "outputs": [
    {
     "data": {
      "text/plain": [
       "0.6654651350951115"
      ]
     },
     "execution_count": 20,
     "metadata": {},
     "output_type": "execute_result"
    }
   ],
   "source": [
    "chosen_alpha = 77\n",
    "phone_density_ridge = linear_model.Ridge(alpha=chosen_alpha)\n",
    "phone_density_ridge.fit(scaled_feats, y)\n",
    "\n",
    "preds = phone_density_ridge.predict(scaled_feats)\n",
    "metrics.r2_score(y, preds)"
   ]
  },
  {
   "cell_type": "code",
   "execution_count": 21,
   "metadata": {},
   "outputs": [
    {
     "data": {
      "text/plain": [
       "['ridge_phone_density.joblib']"
      ]
     },
     "execution_count": 21,
     "metadata": {},
     "output_type": "execute_result"
    }
   ],
   "source": [
    "joblib.dump(phone_density_ridge, 'ridge_phone_density.joblib')"
   ]
  },
  {
   "cell_type": "code",
   "execution_count": null,
   "metadata": {},
   "outputs": [],
   "source": []
  },
  {
   "cell_type": "code",
   "execution_count": 15,
   "metadata": {},
   "outputs": [],
   "source": [
    "not_nas = ~clusters['cluster_hh_f35'].isna()"
   ]
  },
  {
   "cell_type": "code",
   "execution_count": 16,
   "metadata": {},
   "outputs": [],
   "source": [
    "y = clusters['cluster_hh_f35'].values[not_nas]\n",
    "y_log = np.log(y + 0.0001)"
   ]
  },
  {
   "cell_type": "code",
   "execution_count": 17,
   "metadata": {},
   "outputs": [
    {
     "name": "stdout",
     "output_type": "stream",
     "text": [
      "best alpha 599.4842503189409\n",
      "best alpha 215.44346900318823\n",
      "best alpha 215.44346900318823\n",
      "best alpha 599.4842503189409\n",
      "best alpha 215.44346900318823\n"
     ]
    },
    {
     "data": {
      "text/plain": [
       "0.24400354816527306"
      ]
     },
     "execution_count": 17,
     "metadata": {},
     "output_type": "execute_result"
    }
   ],
   "source": [
    "_, _, y_hat_log, r2 = predict_consumption(feats[not_nas], y_log)\n",
    "r2"
   ]
  },
  {
   "cell_type": "code",
   "execution_count": 18,
   "metadata": {},
   "outputs": [
    {
     "name": "stdout",
     "output_type": "stream",
     "text": [
      "best alpha 77.4263682681127\n",
      "best alpha 215.44346900318823\n",
      "best alpha 215.44346900318823\n",
      "best alpha 215.44346900318823\n",
      "best alpha 599.4842503189409\n"
     ]
    },
    {
     "data": {
      "text/plain": [
       "0.22691466124246557"
      ]
     },
     "execution_count": 18,
     "metadata": {},
     "output_type": "execute_result"
    }
   ],
   "source": [
    "_, _, y_hat, r2 = predict_consumption(feats[not_nas], y)\n",
    "r2"
   ]
  },
  {
   "cell_type": "code",
   "execution_count": null,
   "metadata": {},
   "outputs": [],
   "source": []
  },
  {
   "cell_type": "code",
   "execution_count": 22,
   "metadata": {},
   "outputs": [
    {
     "name": "stderr",
     "output_type": "stream",
     "text": [
      "/Applications/anaconda3/lib/python3.7/site-packages/pandas/core/indexing.py:205: SettingWithCopyWarning: \n",
      "A value is trying to be set on a copy of a slice from a DataFrame\n",
      "\n",
      "See the caveats in the documentation: http://pandas.pydata.org/pandas-docs/stable/user_guide/indexing.html#returning-a-view-versus-a-copy\n",
      "  self._setitem_with_indexer(indexer, value)\n"
     ]
    }
   ],
   "source": [
    "clusters['predicted_cluster_hh_f35'] = np.nan\n",
    "clusters['predicted_log_cluster_hh_f35'] = np.nan\n",
    "\n",
    "clusters['predicted_cluster_hh_f35'].loc[not_nas] = y_hat\n",
    "clusters['predicted_log_cluster_hh_f35'].loc[not_nas] = y_hat_log"
   ]
  },
  {
   "cell_type": "code",
   "execution_count": null,
   "metadata": {},
   "outputs": [],
   "source": []
  },
  {
   "cell_type": "code",
   "execution_count": 23,
   "metadata": {},
   "outputs": [
    {
     "data": {
      "text/html": [
       "<div>\n",
       "<style scoped>\n",
       "    .dataframe tbody tr th:only-of-type {\n",
       "        vertical-align: middle;\n",
       "    }\n",
       "\n",
       "    .dataframe tbody tr th {\n",
       "        vertical-align: top;\n",
       "    }\n",
       "\n",
       "    .dataframe thead th {\n",
       "        text-align: right;\n",
       "    }\n",
       "</style>\n",
       "<table border=\"1\" class=\"dataframe\">\n",
       "  <thead>\n",
       "    <tr style=\"text-align: right;\">\n",
       "      <th></th>\n",
       "      <th>lat</th>\n",
       "      <th>lon</th>\n",
       "      <th>cluster_cons</th>\n",
       "      <th>cluster_phone_cons</th>\n",
       "      <th>cluster_hh_f34</th>\n",
       "      <th>cluster_hh_f35</th>\n",
       "      <th>cluster_phone_na</th>\n",
       "      <th>cluster_hh_f34_na</th>\n",
       "      <th>cluster_hh_f35_na</th>\n",
       "      <th>cluster_count</th>\n",
       "      <th>nightlights</th>\n",
       "      <th>predicted_cons</th>\n",
       "      <th>predicted_log_cons</th>\n",
       "      <th>predicted_phone_cons</th>\n",
       "      <th>predicted_log_phone_cons</th>\n",
       "      <th>predicted_cluster_hh_f34</th>\n",
       "      <th>predicted_log_cluster_hh_f34</th>\n",
       "      <th>predicted_cluster_hh_f35</th>\n",
       "      <th>predicted_log_cluster_hh_f35</th>\n",
       "    </tr>\n",
       "  </thead>\n",
       "  <tbody>\n",
       "    <tr>\n",
       "      <td>0</td>\n",
       "      <td>-17.095150</td>\n",
       "      <td>35.217213</td>\n",
       "      <td>4746.5570</td>\n",
       "      <td>273.444760</td>\n",
       "      <td>0.8750</td>\n",
       "      <td>42.312500</td>\n",
       "      <td>0.0</td>\n",
       "      <td>0.0</td>\n",
       "      <td>0.5000</td>\n",
       "      <td>16</td>\n",
       "      <td>0.000000</td>\n",
       "      <td>5224.726467</td>\n",
       "      <td>8.364173</td>\n",
       "      <td>197.011657</td>\n",
       "      <td>4.670097</td>\n",
       "      <td>0.641980</td>\n",
       "      <td>-0.879296</td>\n",
       "      <td>33.253433</td>\n",
       "      <td>3.236180</td>\n",
       "    </tr>\n",
       "    <tr>\n",
       "      <td>1</td>\n",
       "      <td>-17.092351</td>\n",
       "      <td>35.114643</td>\n",
       "      <td>3741.7559</td>\n",
       "      <td>16.226484</td>\n",
       "      <td>0.1250</td>\n",
       "      <td>11.400000</td>\n",
       "      <td>0.0</td>\n",
       "      <td>0.0</td>\n",
       "      <td>0.8750</td>\n",
       "      <td>16</td>\n",
       "      <td>0.000000</td>\n",
       "      <td>5253.604672</td>\n",
       "      <td>8.346371</td>\n",
       "      <td>77.659524</td>\n",
       "      <td>4.100761</td>\n",
       "      <td>0.445353</td>\n",
       "      <td>-1.013334</td>\n",
       "      <td>31.185990</td>\n",
       "      <td>3.114704</td>\n",
       "    </tr>\n",
       "    <tr>\n",
       "      <td>2</td>\n",
       "      <td>-17.016698</td>\n",
       "      <td>35.079629</td>\n",
       "      <td>5159.4243</td>\n",
       "      <td>11.216326</td>\n",
       "      <td>0.1250</td>\n",
       "      <td>7.500000</td>\n",
       "      <td>0.0</td>\n",
       "      <td>0.0</td>\n",
       "      <td>0.8750</td>\n",
       "      <td>16</td>\n",
       "      <td>0.000000</td>\n",
       "      <td>4885.964223</td>\n",
       "      <td>8.295663</td>\n",
       "      <td>76.161017</td>\n",
       "      <td>4.388805</td>\n",
       "      <td>0.369442</td>\n",
       "      <td>-1.074152</td>\n",
       "      <td>27.663547</td>\n",
       "      <td>2.994574</td>\n",
       "    </tr>\n",
       "    <tr>\n",
       "      <td>3</td>\n",
       "      <td>-16.977243</td>\n",
       "      <td>35.205706</td>\n",
       "      <td>4650.9090</td>\n",
       "      <td>41.399770</td>\n",
       "      <td>0.1875</td>\n",
       "      <td>18.333333</td>\n",
       "      <td>0.0</td>\n",
       "      <td>0.0</td>\n",
       "      <td>0.8125</td>\n",
       "      <td>16</td>\n",
       "      <td>0.121212</td>\n",
       "      <td>7068.678551</td>\n",
       "      <td>8.611166</td>\n",
       "      <td>220.232924</td>\n",
       "      <td>4.533100</td>\n",
       "      <td>0.668825</td>\n",
       "      <td>-0.673597</td>\n",
       "      <td>34.025161</td>\n",
       "      <td>3.221873</td>\n",
       "    </tr>\n",
       "    <tr>\n",
       "      <td>4</td>\n",
       "      <td>-16.956385</td>\n",
       "      <td>35.168967</td>\n",
       "      <td>2806.6390</td>\n",
       "      <td>22.526325</td>\n",
       "      <td>0.2500</td>\n",
       "      <td>7.500000</td>\n",
       "      <td>0.0</td>\n",
       "      <td>0.0</td>\n",
       "      <td>0.7500</td>\n",
       "      <td>16</td>\n",
       "      <td>0.502674</td>\n",
       "      <td>6762.347993</td>\n",
       "      <td>8.331267</td>\n",
       "      <td>141.260136</td>\n",
       "      <td>4.161146</td>\n",
       "      <td>0.509615</td>\n",
       "      <td>-1.200498</td>\n",
       "      <td>33.721625</td>\n",
       "      <td>3.072632</td>\n",
       "    </tr>\n",
       "  </tbody>\n",
       "</table>\n",
       "</div>"
      ],
      "text/plain": [
       "         lat        lon  cluster_cons  cluster_phone_cons  cluster_hh_f34  \\\n",
       "0 -17.095150  35.217213     4746.5570          273.444760          0.8750   \n",
       "1 -17.092351  35.114643     3741.7559           16.226484          0.1250   \n",
       "2 -17.016698  35.079629     5159.4243           11.216326          0.1250   \n",
       "3 -16.977243  35.205706     4650.9090           41.399770          0.1875   \n",
       "4 -16.956385  35.168967     2806.6390           22.526325          0.2500   \n",
       "\n",
       "   cluster_hh_f35  cluster_phone_na  cluster_hh_f34_na  cluster_hh_f35_na  \\\n",
       "0       42.312500               0.0                0.0             0.5000   \n",
       "1       11.400000               0.0                0.0             0.8750   \n",
       "2        7.500000               0.0                0.0             0.8750   \n",
       "3       18.333333               0.0                0.0             0.8125   \n",
       "4        7.500000               0.0                0.0             0.7500   \n",
       "\n",
       "   cluster_count  nightlights  predicted_cons  predicted_log_cons  \\\n",
       "0             16     0.000000     5224.726467            8.364173   \n",
       "1             16     0.000000     5253.604672            8.346371   \n",
       "2             16     0.000000     4885.964223            8.295663   \n",
       "3             16     0.121212     7068.678551            8.611166   \n",
       "4             16     0.502674     6762.347993            8.331267   \n",
       "\n",
       "   predicted_phone_cons  predicted_log_phone_cons  predicted_cluster_hh_f34  \\\n",
       "0            197.011657                  4.670097                  0.641980   \n",
       "1             77.659524                  4.100761                  0.445353   \n",
       "2             76.161017                  4.388805                  0.369442   \n",
       "3            220.232924                  4.533100                  0.668825   \n",
       "4            141.260136                  4.161146                  0.509615   \n",
       "\n",
       "   predicted_log_cluster_hh_f34  predicted_cluster_hh_f35  \\\n",
       "0                     -0.879296                 33.253433   \n",
       "1                     -1.013334                 31.185990   \n",
       "2                     -1.074152                 27.663547   \n",
       "3                     -0.673597                 34.025161   \n",
       "4                     -1.200498                 33.721625   \n",
       "\n",
       "   predicted_log_cluster_hh_f35  \n",
       "0                      3.236180  \n",
       "1                      3.114704  \n",
       "2                      2.994574  \n",
       "3                      3.221873  \n",
       "4                      3.072632  "
      ]
     },
     "execution_count": 23,
     "metadata": {},
     "output_type": "execute_result"
    }
   ],
   "source": [
    "clusters.head()"
   ]
  },
  {
   "cell_type": "code",
   "execution_count": null,
   "metadata": {},
   "outputs": [],
   "source": []
  },
  {
   "cell_type": "code",
   "execution_count": 28,
   "metadata": {},
   "outputs": [],
   "source": [
    "clusters.drop(['cluster_phone_na', 'cluster_hh_f34_na', 'cluster_hh_f35_na'], axis=1).to_csv('cluster_cnn_predictions.csv', index=False)\n"
   ]
  },
  {
   "cell_type": "code",
   "execution_count": null,
   "metadata": {},
   "outputs": [],
   "source": []
  }
 ],
 "metadata": {
  "kernelspec": {
   "display_name": "Python 3",
   "language": "python",
   "name": "python3"
  },
  "language_info": {
   "codemirror_mode": {
    "name": "ipython",
    "version": 3
   },
   "file_extension": ".py",
   "mimetype": "text/x-python",
   "name": "python",
   "nbconvert_exporter": "python",
   "pygments_lexer": "ipython3",
   "version": "3.7.3"
  }
 },
 "nbformat": 4,
 "nbformat_minor": 2
}
