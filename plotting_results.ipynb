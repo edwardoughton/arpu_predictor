{
 "cells": [
  {
   "cell_type": "code",
   "execution_count": 1,
   "metadata": {},
   "outputs": [],
   "source": [
    "import matplotlib.pyplot as plt\n",
    "import numpy as np\n",
    "import pandas as pd\n",
    "import geopandas as gpd\n",
    "from shapely.geometry.point import Point"
   ]
  },
  {
   "cell_type": "code",
   "execution_count": 2,
   "metadata": {},
   "outputs": [],
   "source": [
    "df_geo = gpd.read_file('data/malawi/grid/grid.shp')"
   ]
  },
  {
   "cell_type": "code",
   "execution_count": 3,
   "metadata": {},
   "outputs": [
    {
     "data": {
      "text/plain": [
       "<matplotlib.axes._subplots.AxesSubplot at 0x1250523c8>"
      ]
     },
     "execution_count": 3,
     "metadata": {},
     "output_type": "execute_result"
    },
    {
     "data": {
      "image/png": "[encoded data removed]",
      "text/plain": [
       "<Figure size 432x288 with 1 Axes>"
      ]
     },
     "metadata": {
      "needs_background": "light"
     },
     "output_type": "display_data"
    }
   ],
   "source": [
    "df_geo['geometry'].plot()"
   ]
  },
  {
   "cell_type": "code",
   "execution_count": 4,
   "metadata": {},
   "outputs": [],
   "source": [
    "preds = pd.read_csv('results/malawi/ridge_phone_density/predictions.csv')"
   ]
  },
  {
   "cell_type": "code",
   "execution_count": 5,
   "metadata": {},
   "outputs": [],
   "source": [
    "df_geo['centroid'] = df_geo['geometry'].centroid"
   ]
  },
  {
   "cell_type": "code",
   "execution_count": 6,
   "metadata": {},
   "outputs": [],
   "source": [
    "df_geo['centroid_lat'] = df_geo['centroid'].apply(lambda point: point.y)\n",
    "df_geo['centroid_lon'] = df_geo['centroid'].apply(lambda point: point.x)"
   ]
  },
  {
   "cell_type": "code",
   "execution_count": 7,
   "metadata": {},
   "outputs": [],
   "source": [
    "preds['centroid_lon'] = preds['centroid_lon'].astype(np.float64)"
   ]
  },
  {
   "cell_type": "code",
   "execution_count": 8,
   "metadata": {},
   "outputs": [],
   "source": [
    "df_geo['centroid_lat'] = df_geo['centroid_lat'].astype(np.float64)\n",
    "df_geo['centroid_lon'] = df_geo['centroid_lon'].astype(np.float64)"
   ]
  },
  {
   "cell_type": "code",
   "execution_count": 9,
   "metadata": {},
   "outputs": [],
   "source": [
    "# must use ints for merging\n",
    "df_geo['merge_lat'] = (10000 * df_geo['centroid_lat']).astype(int)\n",
    "df_geo['merge_lon'] = (10000 * df_geo['centroid_lon']).astype(int)\n",
    "\n",
    "preds['merge_lat'] = (10000 * preds['centroid_lat']).astype(int)\n",
    "preds['merge_lon'] = (10000 * preds['centroid_lon']).astype(int)"
   ]
  },
  {
   "cell_type": "code",
   "execution_count": 10,
   "metadata": {},
   "outputs": [
    {
     "data": {
      "text/plain": [
       "((1203, 16), (1203, 5))"
      ]
     },
     "execution_count": 10,
     "metadata": {},
     "output_type": "execute_result"
    }
   ],
   "source": [
    "df_geo.shape, preds.shape"
   ]
  },
  {
   "cell_type": "code",
   "execution_count": 11,
   "metadata": {},
   "outputs": [],
   "source": [
    "merged = pd.merge(df_geo, preds.drop(['centroid_lat', 'centroid_lon'], axis=1), on=['merge_lat', 'merge_lon'])"
   ]
  },
  {
   "cell_type": "code",
   "execution_count": 12,
   "metadata": {},
   "outputs": [
    {
     "data": {
      "text/plain": [
       "(1203, 17)"
      ]
     },
     "execution_count": 12,
     "metadata": {},
     "output_type": "execute_result"
    }
   ],
   "source": [
    "merged.shape"
   ]
  },
  {
   "cell_type": "code",
   "execution_count": 13,
   "metadata": {},
   "outputs": [
    {
     "data": {
      "text/html": [
       "<div>\n",
       "<style scoped>\n",
       "    .dataframe tbody tr th:only-of-type {\n",
       "        vertical-align: middle;\n",
       "    }\n",
       "\n",
       "    .dataframe tbody tr th {\n",
       "        vertical-align: top;\n",
       "    }\n",
       "\n",
       "    .dataframe thead th {\n",
       "        text-align: right;\n",
       "    }\n",
       "</style>\n",
       "<table border=\"1\" class=\"dataframe\">\n",
       "  <thead>\n",
       "    <tr style=\"text-align: right;\">\n",
       "      <th></th>\n",
       "      <th>Shape_Leng</th>\n",
       "      <th>Shape_Area</th>\n",
       "      <th>ADM0_EN</th>\n",
       "      <th>ADM0_PCODE</th>\n",
       "      <th>ADM0_REF</th>\n",
       "      <th>ADM0ALT1EN</th>\n",
       "      <th>ADM0ALT2EN</th>\n",
       "      <th>date</th>\n",
       "      <th>validOn</th>\n",
       "      <th>validTo</th>\n",
       "      <th>geometry</th>\n",
       "      <th>centroid</th>\n",
       "      <th>centroid_lat</th>\n",
       "      <th>centroid_lon</th>\n",
       "      <th>merge_lat</th>\n",
       "      <th>merge_lon</th>\n",
       "      <th>predicted_phone_density</th>\n",
       "    </tr>\n",
       "  </thead>\n",
       "  <tbody>\n",
       "    <tr>\n",
       "      <th>0</th>\n",
       "      <td>31.909743</td>\n",
       "      <td>8.001588</td>\n",
       "      <td>Malawi</td>\n",
       "      <td>MW</td>\n",
       "      <td>None</td>\n",
       "      <td>None</td>\n",
       "      <td>None</td>\n",
       "      <td>2018-09-03</td>\n",
       "      <td>2018-10-16</td>\n",
       "      <td>None</td>\n",
       "      <td>MULTIPOLYGON (((32.76144 -13.56848, 32.76144 -...</td>\n",
       "      <td>POINT (32.71033 -13.57114)</td>\n",
       "      <td>-13.571136</td>\n",
       "      <td>32.710327</td>\n",
       "      <td>-135711</td>\n",
       "      <td>327103</td>\n",
       "      <td>0.422026</td>\n",
       "    </tr>\n",
       "    <tr>\n",
       "      <th>1</th>\n",
       "      <td>31.909743</td>\n",
       "      <td>8.001588</td>\n",
       "      <td>Malawi</td>\n",
       "      <td>MW</td>\n",
       "      <td>None</td>\n",
       "      <td>None</td>\n",
       "      <td>None</td>\n",
       "      <td>2018-09-03</td>\n",
       "      <td>2018-10-16</td>\n",
       "      <td>None</td>\n",
       "      <td>POLYGON ((32.69409 -13.57524, 32.72029 -13.575...</td>\n",
       "      <td>POINT (32.72372 -13.60814)</td>\n",
       "      <td>-13.608144</td>\n",
       "      <td>32.723719</td>\n",
       "      <td>-136081</td>\n",
       "      <td>327237</td>\n",
       "      <td>0.642331</td>\n",
       "    </tr>\n",
       "    <tr>\n",
       "      <th>2</th>\n",
       "      <td>31.909743</td>\n",
       "      <td>8.001588</td>\n",
       "      <td>Malawi</td>\n",
       "      <td>MW</td>\n",
       "      <td>None</td>\n",
       "      <td>None</td>\n",
       "      <td>None</td>\n",
       "      <td>2018-09-03</td>\n",
       "      <td>2018-10-16</td>\n",
       "      <td>None</td>\n",
       "      <td>POLYGON ((32.85127 -13.45789, 32.85127 -13.487...</td>\n",
       "      <td>POINT (32.84735 -13.47177)</td>\n",
       "      <td>-13.471766</td>\n",
       "      <td>32.847355</td>\n",
       "      <td>-134717</td>\n",
       "      <td>328473</td>\n",
       "      <td>0.475031</td>\n",
       "    </tr>\n",
       "    <tr>\n",
       "      <th>3</th>\n",
       "      <td>31.909743</td>\n",
       "      <td>8.001588</td>\n",
       "      <td>Malawi</td>\n",
       "      <td>MW</td>\n",
       "      <td>None</td>\n",
       "      <td>None</td>\n",
       "      <td>None</td>\n",
       "      <td>2018-09-03</td>\n",
       "      <td>2018-10-16</td>\n",
       "      <td>None</td>\n",
       "      <td>POLYGON ((32.84497 -13.48791, 32.85127 -13.487...</td>\n",
       "      <td>POINT (32.81763 -13.55146)</td>\n",
       "      <td>-13.551465</td>\n",
       "      <td>32.817625</td>\n",
       "      <td>-135514</td>\n",
       "      <td>328176</td>\n",
       "      <td>0.075656</td>\n",
       "    </tr>\n",
       "    <tr>\n",
       "      <th>4</th>\n",
       "      <td>31.909743</td>\n",
       "      <td>8.001588</td>\n",
       "      <td>Malawi</td>\n",
       "      <td>MW</td>\n",
       "      <td>None</td>\n",
       "      <td>None</td>\n",
       "      <td>None</td>\n",
       "      <td>2018-09-03</td>\n",
       "      <td>2018-10-16</td>\n",
       "      <td>None</td>\n",
       "      <td>POLYGON ((32.76144 -13.57524, 32.85127 -13.575...</td>\n",
       "      <td>POINT (32.80909 -13.61563)</td>\n",
       "      <td>-13.615633</td>\n",
       "      <td>32.809090</td>\n",
       "      <td>-136156</td>\n",
       "      <td>328090</td>\n",
       "      <td>0.676284</td>\n",
       "    </tr>\n",
       "  </tbody>\n",
       "</table>\n",
       "</div>"
      ],
      "text/plain": [
       "   Shape_Leng  Shape_Area ADM0_EN ADM0_PCODE ADM0_REF ADM0ALT1EN ADM0ALT2EN  \\\n",
       "0   31.909743    8.001588  Malawi         MW     None       None       None   \n",
       "1   31.909743    8.001588  Malawi         MW     None       None       None   \n",
       "2   31.909743    8.001588  Malawi         MW     None       None       None   \n",
       "3   31.909743    8.001588  Malawi         MW     None       None       None   \n",
       "4   31.909743    8.001588  Malawi         MW     None       None       None   \n",
       "\n",
       "         date     validOn validTo  \\\n",
       "0  2018-09-03  2018-10-16    None   \n",
       "1  2018-09-03  2018-10-16    None   \n",
       "2  2018-09-03  2018-10-16    None   \n",
       "3  2018-09-03  2018-10-16    None   \n",
       "4  2018-09-03  2018-10-16    None   \n",
       "\n",
       "                                            geometry  \\\n",
       "0  MULTIPOLYGON (((32.76144 -13.56848, 32.76144 -...   \n",
       "1  POLYGON ((32.69409 -13.57524, 32.72029 -13.575...   \n",
       "2  POLYGON ((32.85127 -13.45789, 32.85127 -13.487...   \n",
       "3  POLYGON ((32.84497 -13.48791, 32.85127 -13.487...   \n",
       "4  POLYGON ((32.76144 -13.57524, 32.85127 -13.575...   \n",
       "\n",
       "                     centroid  centroid_lat  centroid_lon  merge_lat  \\\n",
       "0  POINT (32.71033 -13.57114)    -13.571136     32.710327    -135711   \n",
       "1  POINT (32.72372 -13.60814)    -13.608144     32.723719    -136081   \n",
       "2  POINT (32.84735 -13.47177)    -13.471766     32.847355    -134717   \n",
       "3  POINT (32.81763 -13.55146)    -13.551465     32.817625    -135514   \n",
       "4  POINT (32.80909 -13.61563)    -13.615633     32.809090    -136156   \n",
       "\n",
       "   merge_lon  predicted_phone_density  \n",
       "0     327103                 0.422026  \n",
       "1     327237                 0.642331  \n",
       "2     328473                 0.475031  \n",
       "3     328176                 0.075656  \n",
       "4     328090                 0.676284  "
      ]
     },
     "execution_count": 13,
     "metadata": {},
     "output_type": "execute_result"
    }
   ],
   "source": [
    "merged.head()"
   ]
  },
  {
   "cell_type": "code",
   "execution_count": null,
   "metadata": {},
   "outputs": [],
   "source": []
  },
  {
   "cell_type": "code",
   "execution_count": null,
   "metadata": {},
   "outputs": [],
   "source": []
  },
  {
   "cell_type": "code",
   "execution_count": 15,
   "metadata": {},
   "outputs": [],
   "source": [
    "geometry = merged['geometry']\n",
    "coloring_guide = merged['predicted_phone_density']\n",
    "cmap = 'inferno'\n",
    "vmin = coloring_guide.min()\n",
    "vmax = coloring_guide.max()\n",
    "\n",
    "kwargs = {'vmin': vmin,\n",
    "         'vmax': vmax,\n",
    "         'cmap': cmap}\n"
   ]
  },
  {
   "cell_type": "code",
   "execution_count": 16,
   "metadata": {},
   "outputs": [
    {
     "data": {
      "image/png": "[encoded data removed]",
      "text/plain": [
       "<Figure size 720x720 with 2 Axes>"
      ]
     },
     "metadata": {
      "needs_background": "light"
     },
     "output_type": "display_data"
    }
   ],
   "source": [
    "import matplotlib.cm as cm\n",
    "import matplotlib.colors as colors\n",
    "\n",
    "fig, ax = plt.subplots(figsize=(10,10))\n",
    "ax.set_aspect(\"equal\")\n",
    "norm = colors.Normalize(vmin, vmax)\n",
    "fig.colorbar(cm.ScalarMappable(norm=norm, cmap=cmap), ax=ax)\n",
    "gpd.plotting.plot_polygon_collection(ax, geometry, values=coloring_guide, **kwargs)\n",
    "ax.set_title('Malawi Predicted Phone Density Map', fontsize=20)\n",
    "\n",
    "plt.show()"
   ]
  },
  {
   "cell_type": "code",
   "execution_count": null,
   "metadata": {},
   "outputs": [],
   "source": []
  },
  {
   "cell_type": "code",
   "execution_count": null,
   "metadata": {},
   "outputs": [],
   "source": []
  },
  {
   "cell_type": "code",
   "execution_count": null,
   "metadata": {},
   "outputs": [],
   "source": []
  }
 ],
 "metadata": {
  "kernelspec": {
   "display_name": "taddle",
   "language": "python",
   "name": "taddle"
  },
  "language_info": {
   "codemirror_mode": {
    "name": "ipython",
    "version": 3
   },
   "file_extension": ".py",
   "mimetype": "text/x-python",
   "name": "python",
   "nbconvert_exporter": "python",
   "pygments_lexer": "ipython3",
   "version": "3.6.7"
  }
 },
 "nbformat": 4,
 "nbformat_minor": 2
}
