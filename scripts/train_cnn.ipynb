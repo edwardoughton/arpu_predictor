{
 "cells": [
  {
   "cell_type": "markdown",
   "metadata": {},
   "source": [
    "This file does two things: training a CNN per country, or training a CNN on a subset of countries to predict another. Ideally, we would do a 5-fold cross-validation and train the CNN per fold. But for 2 countries, 5 folds, and 2 metrics this leads to 40 CNN training runs. Furthermore, there are different types of cross-validation (randomized or spatial with regard to clusters). That would mean 40 CNN training runs. And this doesn't even count training the CNN again for cross-country generalization tests. The approach taken by the paper and in this file reduces the runs to (2 per country using 70/30 train/valid + 2 holding one country out) * 2 metrics = 8 CNN runs. This is far more manageable and less prone to error.\n",
    "<br> <br>\n",
    "Written by Jatin Mathur\n",
    "<br>\n",
    "5/2020"
   ]
  },
  {
   "cell_type": "code",
   "execution_count": 1,
   "metadata": {},
   "outputs": [],
   "source": [
    "import pandas as pd\n",
    "import numpy as np\n",
    "import os\n",
    "from tqdm.notebook import tqdm\n",
    "BASE_DIR = '..'\n",
    "import sys\n",
    "sys.path.append(BASE_DIR)\n",
    "from utils import merge_on_lat_lon\n",
    "from config import TRAINING_CONFIG, RANDOM_SEED"
   ]
  },
  {
   "cell_type": "code",
   "execution_count": 2,
   "metadata": {},
   "outputs": [],
   "source": [
    "COUNTRIES_DIR = os.path.join(BASE_DIR, 'data', 'countries')\n",
    "PROCESSED_DIR = os.path.join(BASE_DIR, 'data', 'processed')\n",
    "# can try using the google downloader, in which case change this to be your google api token\n",
    "ACCESS_TOKEN_DIR = os.path.join(BASE_DIR, 'planet_api_key.txt')\n",
    "\n",
    "TYPE = TRAINING_CONFIG['TYPE']\n",
    "COUNTRY = TRAINING_CONFIG['COUNTRY']\n",
    "METRIC = TRAINING_CONFIG['METRIC']\n",
    "\n",
    "CNN_TRAIN_IMAGE_DIR = os.path.join(BASE_DIR, 'data', 'cnn_images', TYPE, COUNTRY, METRIC)\n",
    "CNN_SAVE_DIR = os.path.join(BASE_DIR, 'models', TYPE, COUNTRY, METRIC)\n",
    "\n",
    "# groups to cut distribution into\n",
    "NUMBER_OF_BINS = 4 \n",
    "\n",
    "# reduce if memory errors on CUDA\n",
    "BATCH_SIZE = 8\n",
    "\n",
    "# Number of epochs to train for\n",
    "# after epoch 5, the model will update the entire network (not just the newly initialized ones)\n",
    "TOTAL_EPOCHS = 30\n",
    "# if script notices existing models at earlier epochs, it will load that and set this variable\n",
    "CURRENT_EPOCH = 0"
   ]
  },
  {
   "cell_type": "code",
   "execution_count": 3,
   "metadata": {},
   "outputs": [],
   "source": [
    "assert TYPE in ['single_country', 'country_held_out']\n",
    "assert COUNTRY in ['malawi_2016', 'ethiopia_2015']\n",
    "assert METRIC in ['house_has_cellphone', 'est_monthly_phone_cost_pc']"
   ]
  },
  {
   "cell_type": "code",
   "execution_count": 4,
   "metadata": {},
   "outputs": [],
   "source": [
    "os.makedirs(CNN_TRAIN_IMAGE_DIR, exist_ok=True)\n",
    "os.makedirs(CNN_SAVE_DIR, exist_ok=True)\n",
    "os.makedirs(os.path.join(PROCESSED_DIR, TYPE, COUNTRY), exist_ok=True)"
   ]
  },
  {
   "cell_type": "markdown",
   "metadata": {},
   "source": [
    "# Preprocess"
   ]
  },
  {
   "cell_type": "code",
   "execution_count": 5,
   "metadata": {},
   "outputs": [
    {
     "name": "stdout",
     "output_type": "stream",
     "text": [
      "expected: 26200 actually downloaded: 26177\n"
     ]
    }
   ],
   "source": [
    "DF_DOWNLOAD = pd.read_csv(os.path.join(PROCESSED_DIR, 'image_download_locs.csv'))\n",
    "downloaded = os.listdir(os.path.join(COUNTRIES_DIR, 'malawi_2016', 'cnn_images')) + \\\n",
    "            os.listdir(os.path.join(COUNTRIES_DIR, 'ethiopia_2015', 'cnn_images'))\n",
    "\n",
    "print(\"expected:\", len(DF_DOWNLOAD), \"actually downloaded:\", len(downloaded))\n",
    "\n",
    "# it's not that bad if some don't download, we just drop them from consideration\n",
    "DF_DOWNLOAD['row'] = np.arange(len(DF_DOWNLOAD))\n",
    "idx_not_download = DF_DOWNLOAD.set_index('image_name').drop(downloaded)['row'].values.tolist()\n",
    "DF_DOWNLOAD.drop(idx_not_download, inplace=True)\n",
    "DF_DOWNLOAD.drop('row', axis=1, inplace=True)\n",
    "DF_DOWNLOAD.reset_index(drop=True, inplace=True)"
   ]
  },
  {
   "cell_type": "code",
   "execution_count": 8,
   "metadata": {},
   "outputs": [],
   "source": [
    "def assign_bin(cutoffs):\n",
    "    '''\n",
    "    Returns a function that takes a scalar value x and assigns it to a bin based on \n",
    "    the cutoffs given to the \"parent\" function\n",
    "    '''\n",
    "    def binning_function(x):\n",
    "        # inner_function is still aware of variable cutoffs\n",
    "        for i in range(len(cutoffs) - 1):\n",
    "            if (x >= cutoffs[i]).any() and (x < cutoffs[i + 1]).any():\n",
    "                return i\n",
    "        raise ValueError(f'Given value {x} is outside the cutoffs')\n",
    "    return binning_function\n",
    "\n",
    "def create_bin_eth_house_has_cellphone(df, metric):\n",
    "    '''\n",
    "    This is a hacky fix for the odd case that doesn't work:\n",
    "    when the country is ethiopia and metric is house_has_cellphone\n",
    "    \n",
    "    pd.qcut will not work because 28% of the data is all 1's, meaning no range that\n",
    "    includes '1' can have only 25% of the data.\n",
    "    I choose hand-determined cutoffs that work for this country and this metric\n",
    "    \n",
    "    In general pd.qcut will fail whenever a single value dominates the distribution. This may lead to\n",
    "    more preprocessing steps for this method to generalize to other countries in a consistent way\n",
    "    '''\n",
    "    hand_cutoffs = np.array([0, 0.3, 0.6, 0.9, 1.01])\n",
    "    binning_function = assign_bin(hand_cutoffs)\n",
    "    bins = np.apply_along_axis(binning_function, 0, df[metric].values)\n",
    "    return bins, hand_cutoffs\n",
    "\n",
    "def create_bin(df, metric):\n",
    "    '''\n",
    "    df: dataframe with column metric\n",
    "    \n",
    "    Uses a quantile cut to bin the metric of interest into four equally-represented categories\n",
    "    Also identifies the images that are near the lower and upper cutoffs\n",
    "    \n",
    "    Adds columns 'bin', 'near_upper', and 'near_lower' to df\n",
    "    '''\n",
    "    np.random.seed(RANDOM_SEED)\n",
    "    frac_lower = 0.1 # lower 10% of a bin's range will count as being \"near\"\n",
    "    frac_upper = 0.1 # upper 10% of a bin's range will count as being \"near\"\n",
    "    df['bin'] = 0\n",
    "    bin_cutoffs = None\n",
    "    if TYPE == 'single_country' and COUNTRY == 'ethiopia_2015' and metric == 'house_has_cellphone':\n",
    "        # special case, function explains why\n",
    "        df['bin'], bin_cutoffs = create_bin_eth_house_has_cellphone(df, metric)\n",
    "    else: \n",
    "        bins, bin_cutoffs = pd.qcut(df[metric], NUMBER_OF_BINS, retbins=True)\n",
    "        df['bin'] = bins.cat.codes\n",
    "    df['bin'] = df['bin'].astype(np.int64)\n",
    "    df['near_lower'] = False\n",
    "    df['near_upper'] = False\n",
    "    for i in range(1, len(bin_cutoffs) - 1):\n",
    "        span = bin_cutoffs[i + 1] - bin_cutoffs[i]\n",
    "        if i != 0:\n",
    "            # we take the minimum of the current bin and the bin \n",
    "            # we want to join to as the effective span\n",
    "            # this prevents a bin with very large span from dominating\n",
    "            span = min(span, bin_cutoffs[i] - bin_cutoffs[i - 1])\n",
    "        lower_c = bin_cutoffs[i] + frac_lower * span\n",
    "        df['near_lower'].loc[(df['bin'] == i) & (df[metric] < lower_c)] = True\n",
    "    for i in range(0, len(bin_cutoffs) - 2):\n",
    "        span = bin_cutoffs[i + 1] - bin_cutoffs[i]\n",
    "        if i != len(bin_cutoffs) - 2:\n",
    "            # we take the minimum of the current bin and the bin \n",
    "            # we want to join to as the effective span\n",
    "            # this prevents a bin with very large span from dominating\n",
    "            span = min(span, bin_cutoffs[i + 2] - bin_cutoffs[i + 1])\n",
    "        upper_c = bin_cutoffs[i + 1] - frac_upper * span\n",
    "        df['near_upper'].loc[(df['bin'] == i) & (df[metric] > upper_c)] = True\n",
    "    \n",
    "\n",
    "def preprocess_single_country(frac=0.7):\n",
    "    '''\n",
    "    uses DF_DOWNLOAD and given country to hold out\n",
    "    frac represents the percent of clusters to use for training\n",
    "    \n",
    "    saves the images (symlinked) to data/cnn_images/TYPE/COUNTRY/\n",
    "    saves the dataframe to data/processed/TYPE/COUNTRY/METRIC.csv\n",
    "    '''\n",
    "    savedir = os.path.join(PROCESSED_DIR, TYPE, COUNTRY)\n",
    "    os.makedirs(savedir, exist_ok=True)\n",
    "    savepath = os.path.join(savedir, f'{METRIC}.csv')\n",
    "    if os.path.exists(savepath):\n",
    "        print(\"already processed this country\")\n",
    "        df_images = pd.read_csv(savepath)\n",
    "        return df_images\n",
    "    np.random.seed(RANDOM_SEED)\n",
    "    df_images = DF_DOWNLOAD[DF_DOWNLOAD['country'] == COUNTRY].copy()\n",
    "    unique_clusters = df_images[['cluster_lat', 'cluster_lon']].drop_duplicates()\n",
    "    shuffled_clusters = unique_clusters.sample(frac=1)\n",
    "    num_train = int(frac * len(shuffled_clusters))\n",
    "    train_clusters = shuffled_clusters[:num_train]\n",
    "    train_clusters['is_train'] = True\n",
    "    df_images = merge_on_lat_lon(df_images, train_clusters, how='left')\n",
    "    # if not marked as true, will be NA (aka a validation cluster)\n",
    "    df_images['is_train'].fillna(False, inplace=True)\n",
    "    create_bin(df_images, METRIC)\n",
    "    \n",
    "    os.makedirs(os.path.join(CNN_TRAIN_IMAGE_DIR, 'train'), exist_ok=False)\n",
    "    os.makedirs(os.path.join(CNN_TRAIN_IMAGE_DIR, 'valid'), exist_ok=False)\n",
    "\n",
    "    symlink_images(df_images)\n",
    "    \n",
    "    # save to disk\n",
    "    df_images.to_csv(savepath, index=False)\n",
    "    return df_images\n",
    "\n",
    "def preprocess_country_held_out():\n",
    "    '''\n",
    "    uses DF_DOWNLOAD and holds given country out\n",
    "    '''\n",
    "    savepath = os.path.join(PROCESSED_DIR, TYPE, COUNTRY, f'{METRIC}.csv')\n",
    "#     if os.path.exists(savepath):\n",
    "#         print(\"already processed this country held out\")\n",
    "#         df_images = pd.read_csv(savepath)\n",
    "#         return df_images\n",
    "    df_images = DF_DOWNLOAD.copy()\n",
    "    df_images['is_train'] = True\n",
    "    # these belong to the country held out\n",
    "    df_images['is_train'].loc[df_images['country'] == COUNTRY] = False\n",
    "    create_bin(df_images, METRIC)\n",
    "    \n",
    "    os.makedirs(os.path.join(CNN_TRAIN_IMAGE_DIR, 'train'), exist_ok=False)\n",
    "    os.makedirs(os.path.join(CNN_TRAIN_IMAGE_DIR, 'valid'), exist_ok=False)\n",
    "    \n",
    "    symlink_images(df_images)\n",
    "    \n",
    "    # save to disk\n",
    "    df_images.to_csv(savepath, index=False)\n",
    "    return df_images\n",
    "    \n",
    "def symlink_images(df_images):\n",
    "    '''\n",
    "    df_images: dataframe with 'image_name', 'country', 'is_train' columns\n",
    "    \n",
    "    This function will symlink (a type of link that takes very little space and points to another link)\n",
    "    the images into \"train\" and \"valid\" folders in CNN_TRAIN_IMAGE_DIR\n",
    "    Symlinking prevents us from having to copy the images, which saves disk space and time. From a user's\n",
    "    perspective, opening the symlinked file opens the actual hard link file elsewhere. This means\n",
    "    our CNN training can operate on a directory of symlinked images without any problem/knowledge of\n",
    "    symlinks because this function is supported natively by the filesystem. \n",
    "    In this case, the original hard link is in the original download directory at COUNTRIES_DIR/<country>/cnn_images.\n",
    "    THAT DIRECTORY CANNOT BE MOVED OR MODIFIED OR SCRIPTS WILL BREAK\n",
    "    '''\n",
    "    train = df_images[df_images['is_train']]\n",
    "    valid = df_images[~df_images['is_train']]\n",
    "    \n",
    "    # uses symlinking to save disk space\n",
    "    print('symlinking train images')\n",
    "    for im_name, country in tqdm(zip(train['image_name'], train['country']), total=len(train)):\n",
    "        src = os.path.abspath(os.path.join(COUNTRIES_DIR, country, 'cnn_images', im_name))\n",
    "        dest = os.path.join(CNN_TRAIN_IMAGE_DIR, 'train', im_name)\n",
    "        if os.system(f\"ln -s {src} {dest}\") != 0:\n",
    "            print(\"error creating symlink\")\n",
    "            raise ValueError()\n",
    "\n",
    "    print('symlinking valid images')\n",
    "    for im_name, country in tqdm(zip(valid['image_name'], valid['country']), total=len(valid)):\n",
    "        src = os.path.abspath(os.path.join(COUNTRIES_DIR, country, 'cnn_images', im_name))\n",
    "        dest = os.path.join(CNN_TRAIN_IMAGE_DIR, 'valid', im_name)\n",
    "        if os.system(f\"ln -s {src} {dest}\") != 0:\n",
    "            print(\"error creating symlink\")\n",
    "            raise ValueError()\n",
    "    return"
   ]
  },
  {
   "cell_type": "code",
   "execution_count": 9,
   "metadata": {},
   "outputs": [
    {
     "name": "stderr",
     "output_type": "stream",
     "text": [
      "/opt/conda/envs/taddle/lib/python3.6/site-packages/pandas/core/indexing.py:671: SettingWithCopyWarning: \n",
      "A value is trying to be set on a copy of a slice from a DataFrame\n",
      "\n",
      "See the caveats in the documentation: https://pandas.pydata.org/pandas-docs/stable/user_guide/indexing.html#returning-a-view-versus-a-copy\n",
      "  self._setitem_with_indexer(indexer, value)\n"
     ]
    },
    {
     "name": "stdout",
     "output_type": "stream",
     "text": [
      "symlinking train images\n"
     ]
    },
    {
     "data": {
      "application/vnd.jupyter.widget-view+json": {
       "model_id": "6e8ca8a8ea3047fca27434d56d6a3b16",
       "version_major": 2,
       "version_minor": 0
      },
      "text/plain": [
       "HBox(children=(FloatProgress(value=0.0, max=15600.0), HTML(value='')))"
      ]
     },
     "metadata": {},
     "output_type": "display_data"
    },
    {
     "name": "stdout",
     "output_type": "stream",
     "text": [
      "\n",
      "symlinking valid images\n"
     ]
    },
    {
     "data": {
      "application/vnd.jupyter.widget-view+json": {
       "model_id": "724e78e19a1542c4b2611f18382b6bfa",
       "version_major": 2,
       "version_minor": 0
      },
      "text/plain": [
       "HBox(children=(FloatProgress(value=0.0, max=10577.0), HTML(value='')))"
      ]
     },
     "metadata": {},
     "output_type": "display_data"
    },
    {
     "name": "stdout",
     "output_type": "stream",
     "text": [
      "\n"
     ]
    }
   ],
   "source": [
    "df_images = None\n",
    "if TYPE == 'single_country':\n",
    "    df_images = preprocess_single_country(frac=0.7)\n",
    "else:\n",
    "    df_images = preprocess_country_held_out()"
   ]
  },
  {
   "cell_type": "code",
   "execution_count": 10,
   "metadata": {},
   "outputs": [
    {
     "data": {
      "text/html": [
       "<div>\n",
       "<style scoped>\n",
       "    .dataframe tbody tr th:only-of-type {\n",
       "        vertical-align: middle;\n",
       "    }\n",
       "\n",
       "    .dataframe tbody tr th {\n",
       "        vertical-align: top;\n",
       "    }\n",
       "\n",
       "    .dataframe thead th {\n",
       "        text-align: right;\n",
       "    }\n",
       "</style>\n",
       "<table border=\"1\" class=\"dataframe\">\n",
       "  <thead>\n",
       "    <tr style=\"text-align: right;\">\n",
       "      <th></th>\n",
       "      <th>image_name</th>\n",
       "      <th>image_lat</th>\n",
       "      <th>image_lon</th>\n",
       "      <th>cluster_lat</th>\n",
       "      <th>cluster_lon</th>\n",
       "      <th>house_has_cellphone</th>\n",
       "      <th>est_monthly_phone_cost_pc</th>\n",
       "      <th>country</th>\n",
       "      <th>nightlights</th>\n",
       "      <th>is_train</th>\n",
       "      <th>bin</th>\n",
       "      <th>near_lower</th>\n",
       "      <th>near_upper</th>\n",
       "    </tr>\n",
       "  </thead>\n",
       "  <tbody>\n",
       "    <tr>\n",
       "      <th>0</th>\n",
       "      <td>-17.140065764205975_35.17229723579403_-17.0951...</td>\n",
       "      <td>-17.140066</td>\n",
       "      <td>35.172297</td>\n",
       "      <td>-17.09515</td>\n",
       "      <td>35.217213</td>\n",
       "      <td>0.5</td>\n",
       "      <td>0.819316</td>\n",
       "      <td>malawi_2016</td>\n",
       "      <td>0.025206</td>\n",
       "      <td>True</td>\n",
       "      <td>2</td>\n",
       "      <td>False</td>\n",
       "      <td>False</td>\n",
       "    </tr>\n",
       "    <tr>\n",
       "      <th>1</th>\n",
       "      <td>-17.11012192140199_35.17229723579403_-17.09515...</td>\n",
       "      <td>-17.110122</td>\n",
       "      <td>35.172297</td>\n",
       "      <td>-17.09515</td>\n",
       "      <td>35.217213</td>\n",
       "      <td>0.5</td>\n",
       "      <td>0.819316</td>\n",
       "      <td>malawi_2016</td>\n",
       "      <td>0.025206</td>\n",
       "      <td>True</td>\n",
       "      <td>2</td>\n",
       "      <td>False</td>\n",
       "      <td>False</td>\n",
       "    </tr>\n",
       "    <tr>\n",
       "      <th>2</th>\n",
       "      <td>-17.08017807859801_35.17229723579403_-17.09515...</td>\n",
       "      <td>-17.080178</td>\n",
       "      <td>35.172297</td>\n",
       "      <td>-17.09515</td>\n",
       "      <td>35.217213</td>\n",
       "      <td>0.5</td>\n",
       "      <td>0.819316</td>\n",
       "      <td>malawi_2016</td>\n",
       "      <td>0.025206</td>\n",
       "      <td>True</td>\n",
       "      <td>2</td>\n",
       "      <td>False</td>\n",
       "      <td>False</td>\n",
       "    </tr>\n",
       "    <tr>\n",
       "      <th>3</th>\n",
       "      <td>-17.050234235794026_35.17229723579403_-17.0951...</td>\n",
       "      <td>-17.050234</td>\n",
       "      <td>35.172297</td>\n",
       "      <td>-17.09515</td>\n",
       "      <td>35.217213</td>\n",
       "      <td>0.5</td>\n",
       "      <td>0.819316</td>\n",
       "      <td>malawi_2016</td>\n",
       "      <td>0.025206</td>\n",
       "      <td>True</td>\n",
       "      <td>2</td>\n",
       "      <td>False</td>\n",
       "      <td>False</td>\n",
       "    </tr>\n",
       "    <tr>\n",
       "      <th>4</th>\n",
       "      <td>-17.140065764205975_35.20224107859801_-17.0951...</td>\n",
       "      <td>-17.140066</td>\n",
       "      <td>35.202241</td>\n",
       "      <td>-17.09515</td>\n",
       "      <td>35.217213</td>\n",
       "      <td>0.5</td>\n",
       "      <td>0.819316</td>\n",
       "      <td>malawi_2016</td>\n",
       "      <td>0.025206</td>\n",
       "      <td>True</td>\n",
       "      <td>2</td>\n",
       "      <td>False</td>\n",
       "      <td>False</td>\n",
       "    </tr>\n",
       "  </tbody>\n",
       "</table>\n",
       "</div>"
      ],
      "text/plain": [
       "                                          image_name  image_lat  image_lon  \\\n",
       "0  -17.140065764205975_35.17229723579403_-17.0951... -17.140066  35.172297   \n",
       "1  -17.11012192140199_35.17229723579403_-17.09515... -17.110122  35.172297   \n",
       "2  -17.08017807859801_35.17229723579403_-17.09515... -17.080178  35.172297   \n",
       "3  -17.050234235794026_35.17229723579403_-17.0951... -17.050234  35.172297   \n",
       "4  -17.140065764205975_35.20224107859801_-17.0951... -17.140066  35.202241   \n",
       "\n",
       "   cluster_lat  cluster_lon  house_has_cellphone  est_monthly_phone_cost_pc  \\\n",
       "0    -17.09515    35.217213                  0.5                   0.819316   \n",
       "1    -17.09515    35.217213                  0.5                   0.819316   \n",
       "2    -17.09515    35.217213                  0.5                   0.819316   \n",
       "3    -17.09515    35.217213                  0.5                   0.819316   \n",
       "4    -17.09515    35.217213                  0.5                   0.819316   \n",
       "\n",
       "       country  nightlights  is_train  bin  near_lower  near_upper  \n",
       "0  malawi_2016     0.025206      True    2       False       False  \n",
       "1  malawi_2016     0.025206      True    2       False       False  \n",
       "2  malawi_2016     0.025206      True    2       False       False  \n",
       "3  malawi_2016     0.025206      True    2       False       False  \n",
       "4  malawi_2016     0.025206      True    2       False       False  "
      ]
     },
     "execution_count": 10,
     "metadata": {},
     "output_type": "execute_result"
    }
   ],
   "source": [
    "df_images.head()"
   ]
  },
  {
   "cell_type": "markdown",
   "metadata": {},
   "source": [
    "# Train CNN"
   ]
  },
  {
   "cell_type": "code",
   "execution_count": 11,
   "metadata": {},
   "outputs": [],
   "source": [
    "import torch\n",
    "import torch.nn as nn\n",
    "import torch.optim as optim\n",
    "import numpy as np\n",
    "import torchvision\n",
    "from torchvision import datasets, models, transforms\n",
    "import matplotlib.pyplot as plt\n",
    "from PIL import Image\n",
    "import time\n",
    "import os\n",
    "import copy"
   ]
  },
  {
   "cell_type": "code",
   "execution_count": 12,
   "metadata": {},
   "outputs": [
    {
     "data": {
      "text/plain": [
       "device(type='cuda', index=0)"
      ]
     },
     "execution_count": 12,
     "metadata": {},
     "output_type": "execute_result"
    }
   ],
   "source": [
    "DEVICE = torch.device(\"cuda:0\" if torch.cuda.is_available() else \"cpu\")\n",
    "DEVICE"
   ]
  },
  {
   "cell_type": "code",
   "execution_count": 13,
   "metadata": {},
   "outputs": [],
   "source": [
    "def initialize_model():\n",
    "    global CURRENT_EPOCH\n",
    "    model = None\n",
    "    input_size = 224 # hardcoded for VGG, our network\n",
    "    existing = os.listdir(CNN_SAVE_DIR)\n",
    "    found = False\n",
    "    if len(existing) != 0:\n",
    "        largest_epoch = 0\n",
    "        prefix = 'trained_model_'\n",
    "        for f in existing:\n",
    "            if f[:len(prefix)] != prefix:\n",
    "                continue\n",
    "            found = True\n",
    "            string = f.split('.')[0] # remove extension\n",
    "            epoch = int(string[len(prefix):]) # parse out the epoch\n",
    "            if epoch > largest_epoch:\n",
    "                largest_epoch = epoch\n",
    "        if found:\n",
    "            CURRENT_EPOCH = largest_epoch + 1\n",
    "            path = os.path.join(CNN_SAVE_DIR, prefix + str(largest_epoch) + '.pt')\n",
    "            model = torch.load(path, map_location=DEVICE)\n",
    "            print(f'using existing model at epoch {largest_epoch}')\n",
    "    if not found:\n",
    "        torch.manual_seed(RANDOM_SEED)\n",
    "        model = models.vgg11_bn(pretrained=True)\n",
    "        # turn off training for all existing paramaters (for now)\n",
    "        for param in model.parameters():\n",
    "            param.requires_grad = False\n",
    "        num_ftrs = model.classifier[6].in_features\n",
    "        model.classifier[6] = nn.Linear(num_ftrs, NUMBER_OF_BINS)\n",
    "        model = model.to(DEVICE)\n",
    "    return model, input_size\n",
    "\n",
    "model, input_size = initialize_model()\n",
    "optimizer = optim.Adam(model.parameters(), lr=3e-6)"
   ]
  },
  {
   "cell_type": "code",
   "execution_count": 14,
   "metadata": {},
   "outputs": [],
   "source": [
    "# we will query this to figure out the correct label\n",
    "DF_LOOKUP = df_images.set_index('image_name')"
   ]
  },
  {
   "cell_type": "code",
   "execution_count": 15,
   "metadata": {},
   "outputs": [
    {
     "name": "stdout",
     "output_type": "stream",
     "text": [
      "Initializing Datasets and Dataloaders...\n"
     ]
    }
   ],
   "source": [
    "data_transforms = {\n",
    "    'train': transforms.Compose([\n",
    "        transforms.RandomResizedCrop(input_size),\n",
    "        transforms.RandomHorizontalFlip(),\n",
    "        transforms.ToTensor(),\n",
    "        transforms.Normalize([0.485, 0.456, 0.406], [0.229, 0.224, 0.225])\n",
    "    ]),\n",
    "    'valid': transforms.Compose([\n",
    "        transforms.Resize(input_size),\n",
    "        transforms.CenterCrop(input_size),\n",
    "        transforms.ToTensor(),\n",
    "        transforms.Normalize([0.485, 0.456, 0.406], [0.229, 0.224, 0.225])\n",
    "    ]),\n",
    "}\n",
    "print(\"Initializing Datasets and Dataloaders...\")\n",
    "\n",
    "class ForwardPassDataset(torch.utils.data.Dataset):\n",
    "    def __init__(self, image_dir, transformer):\n",
    "        self.image_dir = image_dir\n",
    "        self.image_list = os.listdir(self.image_dir)\n",
    "        self.transformer = transformer\n",
    "\n",
    "    def __len__(self):\n",
    "        return len(self.image_list)\n",
    "\n",
    "    def __getitem__(self, index):\n",
    "        image_name = self.image_list[index]\n",
    "\n",
    "        # Load image\n",
    "        X = self.filename_to_im_tensor(self.image_dir + '/' + image_name)\n",
    "        y = DF_LOOKUP.loc[image_name]['bin']\n",
    "        \n",
    "        return X, y, image_name\n",
    "    \n",
    "    def filename_to_im_tensor(self, file):\n",
    "        im = (plt.imread(file)[:,:,:3] * 256).astype(np.uint8)\n",
    "        im = Image.fromarray(im)\n",
    "        im = self.transformer(im)\n",
    "        return im\n",
    "\n",
    "# Create training and validation datasets\n",
    "image_datasets = {x: ForwardPassDataset(os.path.join(CNN_TRAIN_IMAGE_DIR, x), \n",
    "                                          data_transforms[x]) for x in ['train', 'valid']}\n",
    "# Create training and validation dataloaders\n",
    "dataloaders_dict = {x: torch.utils.data.DataLoader(image_datasets[x], \n",
    "                                                   batch_size=BATCH_SIZE, \n",
    "                                                   shuffle=True, \n",
    "                                                   num_workers=4) for x in ['train', 'valid']}"
   ]
  },
  {
   "cell_type": "code",
   "execution_count": 15,
   "metadata": {},
   "outputs": [],
   "source": [
    "class CustomCriterion:\n",
    "    '''\n",
    "    This custom criterion will allow images that are near the border of two bins\n",
    "    to calculate their loss partially based on the bin they are close to\n",
    "    '''\n",
    "    def __init__(self, alpha=0.75):\n",
    "        # alpha describes what percent should go to the correct class\n",
    "        # if the image is near_lower or near_upper\n",
    "        self.criterion = nn.CrossEntropyLoss()\n",
    "        self.alpha = alpha\n",
    "    \n",
    "    def __call__(self, outputs, labels, image_names):\n",
    "        ret = None\n",
    "        for i in range(len(image_names)):\n",
    "            lookup = DF_LOOKUP.loc[image_names[i]]\n",
    "            output = outputs[i].reshape(1, -1)\n",
    "            label = labels[i].reshape(1)\n",
    "           \n",
    "            if lookup['near_upper']:\n",
    "                # the +1 on the second line shifts the criteria to the upper bin\n",
    "                iret = self.alpha * self.criterion(output, label) + \\\n",
    "                        (1 - self.alpha) * self.criterion(output, label + 1)\n",
    "            elif lookup['near_lower']:\n",
    "                # the -1 on the second line shifts the criteria to the lower bin\n",
    "                iret = self.alpha * self.criterion(output, label) + \\\n",
    "                        (1 - self.alpha) * self.criterion(output, label - 1)\n",
    "            else:\n",
    "                iret = self.criterion(output, label) # regular cross entropy\n",
    "            if ret is None:\n",
    "                ret = iret\n",
    "            else:\n",
    "                ret += iret\n",
    "        return ret / len(image_names) # averaged"
   ]
  },
  {
   "cell_type": "code",
   "execution_count": 16,
   "metadata": {},
   "outputs": [],
   "source": [
    "def train_model(model, dataloaders, criterion, optimizer, num_epochs):\n",
    "    global CURRENT_EPOCH, DEVICE\n",
    "    since = time.time()\n",
    "    val_acc_history = []\n",
    "    best_model_wts = copy.deepcopy(model.state_dict())\n",
    "    best_acc = 0.0\n",
    "    \n",
    "    for epoch in range(CURRENT_EPOCH, num_epochs):\n",
    "        print('Epoch {}/{}'.format(epoch, num_epochs - 1))\n",
    "        print('-' * 10)\n",
    "        if epoch == 5:\n",
    "            # fine tune whole model now\n",
    "            for param in model.parameters():\n",
    "                param.requires_grad = True\n",
    "\n",
    "        for phase in ['train', 'valid']:\n",
    "            if phase == 'train':\n",
    "                model.train()\n",
    "            else:\n",
    "                model.eval()\n",
    "\n",
    "            running_loss = 0.0\n",
    "            running_corrects = 0\n",
    "\n",
    "            for inputs, labels, image_names in tqdm(dataloaders[phase]):\n",
    "                inputs = inputs.to(DEVICE)\n",
    "                labels = labels.to(DEVICE)\n",
    "\n",
    "                # zero the parameter gradients\n",
    "                optimizer.zero_grad()\n",
    "                # track gradients in train phase only\n",
    "                with torch.set_grad_enabled(phase == 'train'):\n",
    "                    outputs = model(inputs)\n",
    "                    loss = criterion(outputs, labels, image_names)\n",
    "                    _, preds = torch.max(outputs, 1)\n",
    "                    if phase == 'train':\n",
    "                        loss.backward()\n",
    "                        optimizer.step()\n",
    "\n",
    "                # statistics\n",
    "                running_loss += loss.item() * inputs.size(0)\n",
    "                running_corrects += torch.sum(preds == labels.data)\n",
    "\n",
    "            epoch_loss = running_loss / len(dataloaders[phase].dataset)\n",
    "            epoch_acc = running_corrects.double() / len(dataloaders[phase].dataset)\n",
    "\n",
    "            print('{} Loss: {:.4f} Acc: {:.4f}'.format(phase, epoch_loss, epoch_acc))\n",
    "            # deep copy the model if it is better\n",
    "            if phase == 'valid' and epoch_acc > best_acc:\n",
    "                best_acc = epoch_acc\n",
    "                best_model_wts = copy.deepcopy(model.state_dict())\n",
    "            if phase == 'valid':\n",
    "                val_acc_history.append(epoch_acc)\n",
    "\n",
    "        if epoch % 5 == 4:\n",
    "            # save intermediate results in case script breaks\n",
    "            savepath = os.path.join(CNN_SAVE_DIR, f'trained_model_{METRIC}_epoch_{epoch}.pt')\n",
    "            torch.save(model, savepath)\n",
    "        \n",
    "        # end one epoch\n",
    "        CURRENT_EPOCH += 1\n",
    "        print()\n",
    "\n",
    "    time_elapsed = time.time() - since\n",
    "    print('Training complete in {:.0f}m {:.0f}s'.format(time_elapsed // 60, time_elapsed % 60))\n",
    "    print('Best val Acc: {:4f}'.format(best_acc))\n",
    "    \n",
    "    # load best model\n",
    "    model.load_state_dict(best_model_wts)\n",
    "    return model, val_acc_history"
   ]
  },
  {
   "cell_type": "code",
   "execution_count": 17,
   "metadata": {
    "scrolled": false
   },
   "outputs": [
    {
     "name": "stdout",
     "output_type": "stream",
     "text": [
      "Epoch 0/29\n",
      "----------\n"
     ]
    },
    {
     "data": {
      "application/vnd.jupyter.widget-view+json": {
       "model_id": "2fbd652328c04af9be9e0ad311b40de6",
       "version_major": 2,
       "version_minor": 0
      },
      "text/plain": [
       "HBox(children=(FloatProgress(value=0.0, max=1323.0), HTML(value='')))"
      ]
     },
     "metadata": {},
     "output_type": "display_data"
    },
    {
     "name": "stdout",
     "output_type": "stream",
     "text": [
      "\n",
      "train Loss: 1.3596 Acc: 0.3399\n"
     ]
    },
    {
     "data": {
      "application/vnd.jupyter.widget-view+json": {
       "model_id": "abc0d9763bdf49c2820456a528e3ede6",
       "version_major": 2,
       "version_minor": 0
      },
      "text/plain": [
       "HBox(children=(FloatProgress(value=0.0, max=1950.0), HTML(value='')))"
      ]
     },
     "metadata": {},
     "output_type": "display_data"
    },
    {
     "name": "stdout",
     "output_type": "stream",
     "text": [
      "\n",
      "valid Loss: 1.4781 Acc: 0.1613\n",
      "\n",
      "Epoch 1/29\n",
      "----------\n"
     ]
    },
    {
     "data": {
      "application/vnd.jupyter.widget-view+json": {
       "model_id": "8bf19e203d3b410a9e6eea02fc94aa31",
       "version_major": 2,
       "version_minor": 0
      },
      "text/plain": [
       "HBox(children=(FloatProgress(value=0.0, max=1323.0), HTML(value='')))"
      ]
     },
     "metadata": {},
     "output_type": "display_data"
    },
    {
     "name": "stdout",
     "output_type": "stream",
     "text": [
      "\n",
      "train Loss: 1.3366 Acc: 0.3868\n"
     ]
    },
    {
     "data": {
      "application/vnd.jupyter.widget-view+json": {
       "model_id": "f22382b0446b4eb9824a3c9e26263af9",
       "version_major": 2,
       "version_minor": 0
      },
      "text/plain": [
       "HBox(children=(FloatProgress(value=0.0, max=1950.0), HTML(value='')))"
      ]
     },
     "metadata": {},
     "output_type": "display_data"
    },
    {
     "name": "stdout",
     "output_type": "stream",
     "text": [
      "\n",
      "valid Loss: 1.5074 Acc: 0.1591\n",
      "\n",
      "Epoch 2/29\n",
      "----------\n"
     ]
    },
    {
     "data": {
      "application/vnd.jupyter.widget-view+json": {
       "model_id": "c8cd15f5cf86496e83b1681109928fd5",
       "version_major": 2,
       "version_minor": 0
      },
      "text/plain": [
       "HBox(children=(FloatProgress(value=0.0, max=1323.0), HTML(value='')))"
      ]
     },
     "metadata": {},
     "output_type": "display_data"
    },
    {
     "name": "stdout",
     "output_type": "stream",
     "text": [
      "\n",
      "train Loss: 1.3201 Acc: 0.3981\n"
     ]
    },
    {
     "data": {
      "application/vnd.jupyter.widget-view+json": {
       "model_id": "0d86dc39a6744a4c9959118cec6c7282",
       "version_major": 2,
       "version_minor": 0
      },
      "text/plain": [
       "HBox(children=(FloatProgress(value=0.0, max=1950.0), HTML(value='')))"
      ]
     },
     "metadata": {},
     "output_type": "display_data"
    },
    {
     "name": "stdout",
     "output_type": "stream",
     "text": [
      "\n",
      "valid Loss: 1.5030 Acc: 0.1538\n",
      "\n",
      "Epoch 3/29\n",
      "----------\n"
     ]
    },
    {
     "data": {
      "application/vnd.jupyter.widget-view+json": {
       "model_id": "eaeec9dc84164b94bc5f858700d985bf",
       "version_major": 2,
       "version_minor": 0
      },
      "text/plain": [
       "HBox(children=(FloatProgress(value=0.0, max=1323.0), HTML(value='')))"
      ]
     },
     "metadata": {},
     "output_type": "display_data"
    },
    {
     "name": "stdout",
     "output_type": "stream",
     "text": [
      "\n",
      "train Loss: 1.3163 Acc: 0.4018\n"
     ]
    },
    {
     "data": {
      "application/vnd.jupyter.widget-view+json": {
       "model_id": "18c7e4c0a3274878841ab3024206f02e",
       "version_major": 2,
       "version_minor": 0
      },
      "text/plain": [
       "HBox(children=(FloatProgress(value=0.0, max=1950.0), HTML(value='')))"
      ]
     },
     "metadata": {},
     "output_type": "display_data"
    },
    {
     "name": "stdout",
     "output_type": "stream",
     "text": [
      "\n",
      "valid Loss: 1.4958 Acc: 0.1668\n",
      "\n",
      "Epoch 4/29\n",
      "----------\n"
     ]
    },
    {
     "data": {
      "application/vnd.jupyter.widget-view+json": {
       "model_id": "9ed7c48f03f447e5b9a8e53049e10184",
       "version_major": 2,
       "version_minor": 0
      },
      "text/plain": [
       "HBox(children=(FloatProgress(value=0.0, max=1323.0), HTML(value='')))"
      ]
     },
     "metadata": {},
     "output_type": "display_data"
    },
    {
     "name": "stdout",
     "output_type": "stream",
     "text": [
      "\n",
      "train Loss: 1.3090 Acc: 0.4020\n"
     ]
    },
    {
     "data": {
      "application/vnd.jupyter.widget-view+json": {
       "model_id": "631fac04d1264b9b9a734b102d19edf2",
       "version_major": 2,
       "version_minor": 0
      },
      "text/plain": [
       "HBox(children=(FloatProgress(value=0.0, max=1950.0), HTML(value='')))"
      ]
     },
     "metadata": {},
     "output_type": "display_data"
    },
    {
     "name": "stdout",
     "output_type": "stream",
     "text": [
      "\n",
      "valid Loss: 1.4937 Acc: 0.1779\n",
      "\n",
      "Epoch 5/29\n",
      "----------\n"
     ]
    },
    {
     "data": {
      "application/vnd.jupyter.widget-view+json": {
       "model_id": "a2360ba297ca4f33bd23fba48f576603",
       "version_major": 2,
       "version_minor": 0
      },
      "text/plain": [
       "HBox(children=(FloatProgress(value=0.0, max=1323.0), HTML(value='')))"
      ]
     },
     "metadata": {},
     "output_type": "display_data"
    },
    {
     "name": "stdout",
     "output_type": "stream",
     "text": [
      "\n",
      "train Loss: 1.2795 Acc: 0.4204\n"
     ]
    },
    {
     "data": {
      "application/vnd.jupyter.widget-view+json": {
       "model_id": "870a7c7fa6d546b3b97e1e11e7592726",
       "version_major": 2,
       "version_minor": 0
      },
      "text/plain": [
       "HBox(children=(FloatProgress(value=0.0, max=1950.0), HTML(value='')))"
      ]
     },
     "metadata": {},
     "output_type": "display_data"
    },
    {
     "name": "stdout",
     "output_type": "stream",
     "text": [
      "\n",
      "valid Loss: 1.4338 Acc: 0.2641\n",
      "\n",
      "Epoch 6/29\n",
      "----------\n"
     ]
    },
    {
     "data": {
      "application/vnd.jupyter.widget-view+json": {
       "model_id": "729b7932092049ac83ebae121fd1fdc3",
       "version_major": 2,
       "version_minor": 0
      },
      "text/plain": [
       "HBox(children=(FloatProgress(value=0.0, max=1323.0), HTML(value='')))"
      ]
     },
     "metadata": {},
     "output_type": "display_data"
    },
    {
     "name": "stdout",
     "output_type": "stream",
     "text": [
      "\n",
      "train Loss: 1.2490 Acc: 0.4331\n"
     ]
    },
    {
     "data": {
      "application/vnd.jupyter.widget-view+json": {
       "model_id": "12874ca3dd6e445eb83b71151a6fa0c3",
       "version_major": 2,
       "version_minor": 0
      },
      "text/plain": [
       "HBox(children=(FloatProgress(value=0.0, max=1950.0), HTML(value='')))"
      ]
     },
     "metadata": {},
     "output_type": "display_data"
    },
    {
     "name": "stdout",
     "output_type": "stream",
     "text": [
      "\n",
      "valid Loss: 1.4575 Acc: 0.2653\n",
      "\n",
      "Epoch 7/29\n",
      "----------\n"
     ]
    },
    {
     "data": {
      "application/vnd.jupyter.widget-view+json": {
       "model_id": "36bfa3f7a82c4807926d74c9e4479c3a",
       "version_major": 2,
       "version_minor": 0
      },
      "text/plain": [
       "HBox(children=(FloatProgress(value=0.0, max=1323.0), HTML(value='')))"
      ]
     },
     "metadata": {},
     "output_type": "display_data"
    },
    {
     "name": "stdout",
     "output_type": "stream",
     "text": [
      "\n",
      "train Loss: 1.2316 Acc: 0.4426\n"
     ]
    },
    {
     "data": {
      "application/vnd.jupyter.widget-view+json": {
       "model_id": "bed6569117354e0998e6626d59aa87d5",
       "version_major": 2,
       "version_minor": 0
      },
      "text/plain": [
       "HBox(children=(FloatProgress(value=0.0, max=1950.0), HTML(value='')))"
      ]
     },
     "metadata": {},
     "output_type": "display_data"
    },
    {
     "name": "stdout",
     "output_type": "stream",
     "text": [
      "\n",
      "valid Loss: 1.4471 Acc: 0.2807\n",
      "\n",
      "Epoch 8/29\n",
      "----------\n"
     ]
    },
    {
     "data": {
      "application/vnd.jupyter.widget-view+json": {
       "model_id": "207468d152f44ee2ba549c4a6e040a86",
       "version_major": 2,
       "version_minor": 0
      },
      "text/plain": [
       "HBox(children=(FloatProgress(value=0.0, max=1323.0), HTML(value='')))"
      ]
     },
     "metadata": {},
     "output_type": "display_data"
    },
    {
     "name": "stdout",
     "output_type": "stream",
     "text": [
      "\n",
      "train Loss: 1.2178 Acc: 0.4511\n"
     ]
    },
    {
     "data": {
      "application/vnd.jupyter.widget-view+json": {
       "model_id": "a3a63492eddf434ca473f86a81c3f863",
       "version_major": 2,
       "version_minor": 0
      },
      "text/plain": [
       "HBox(children=(FloatProgress(value=0.0, max=1950.0), HTML(value='')))"
      ]
     },
     "metadata": {},
     "output_type": "display_data"
    },
    {
     "name": "stdout",
     "output_type": "stream",
     "text": [
      "\n",
      "valid Loss: 1.4557 Acc: 0.2865\n",
      "\n",
      "Epoch 9/29\n",
      "----------\n"
     ]
    },
    {
     "data": {
      "application/vnd.jupyter.widget-view+json": {
       "model_id": "dca5c388cc2a44b9a573c78e89bea344",
       "version_major": 2,
       "version_minor": 0
      },
      "text/plain": [
       "HBox(children=(FloatProgress(value=0.0, max=1323.0), HTML(value='')))"
      ]
     },
     "metadata": {},
     "output_type": "display_data"
    },
    {
     "name": "stdout",
     "output_type": "stream",
     "text": [
      "\n",
      "train Loss: 1.2048 Acc: 0.4582\n"
     ]
    },
    {
     "data": {
      "application/vnd.jupyter.widget-view+json": {
       "model_id": "a829e61e19d84a0c81ebd2676f32cec0",
       "version_major": 2,
       "version_minor": 0
      },
      "text/plain": [
       "HBox(children=(FloatProgress(value=0.0, max=1950.0), HTML(value='')))"
      ]
     },
     "metadata": {},
     "output_type": "display_data"
    },
    {
     "name": "stdout",
     "output_type": "stream",
     "text": [
      "\n",
      "valid Loss: 1.4920 Acc: 0.2772\n",
      "\n",
      "Epoch 10/29\n",
      "----------\n"
     ]
    },
    {
     "data": {
      "application/vnd.jupyter.widget-view+json": {
       "model_id": "df88f655bc394abd91d19d0ca56a9936",
       "version_major": 2,
       "version_minor": 0
      },
      "text/plain": [
       "HBox(children=(FloatProgress(value=0.0, max=1323.0), HTML(value='')))"
      ]
     },
     "metadata": {},
     "output_type": "display_data"
    },
    {
     "name": "stdout",
     "output_type": "stream",
     "text": [
      "\n",
      "train Loss: 1.1951 Acc: 0.4664\n"
     ]
    },
    {
     "data": {
      "application/vnd.jupyter.widget-view+json": {
       "model_id": "90779d54aa0b4b51836f3ac4a08e1f33",
       "version_major": 2,
       "version_minor": 0
      },
      "text/plain": [
       "HBox(children=(FloatProgress(value=0.0, max=1950.0), HTML(value='')))"
      ]
     },
     "metadata": {},
     "output_type": "display_data"
    },
    {
     "name": "stdout",
     "output_type": "stream",
     "text": [
      "\n",
      "valid Loss: 1.4663 Acc: 0.2825\n",
      "\n",
      "Epoch 11/29\n",
      "----------\n"
     ]
    },
    {
     "data": {
      "application/vnd.jupyter.widget-view+json": {
       "model_id": "4f5bb8851a5e43f8bb68adc657069eda",
       "version_major": 2,
       "version_minor": 0
      },
      "text/plain": [
       "HBox(children=(FloatProgress(value=0.0, max=1323.0), HTML(value='')))"
      ]
     },
     "metadata": {},
     "output_type": "display_data"
    },
    {
     "name": "stdout",
     "output_type": "stream",
     "text": [
      "\n",
      "train Loss: 1.1861 Acc: 0.4683\n"
     ]
    },
    {
     "data": {
      "application/vnd.jupyter.widget-view+json": {
       "model_id": "9ead138528c847bd9d4345746e22cf49",
       "version_major": 2,
       "version_minor": 0
      },
      "text/plain": [
       "HBox(children=(FloatProgress(value=0.0, max=1950.0), HTML(value='')))"
      ]
     },
     "metadata": {},
     "output_type": "display_data"
    },
    {
     "name": "stdout",
     "output_type": "stream",
     "text": [
      "\n",
      "valid Loss: 1.5015 Acc: 0.2805\n",
      "\n",
      "Epoch 12/29\n",
      "----------\n"
     ]
    },
    {
     "data": {
      "application/vnd.jupyter.widget-view+json": {
       "model_id": "d2171c64c51a4520a159d33caf24d425",
       "version_major": 2,
       "version_minor": 0
      },
      "text/plain": [
       "HBox(children=(FloatProgress(value=0.0, max=1323.0), HTML(value='')))"
      ]
     },
     "metadata": {},
     "output_type": "display_data"
    },
    {
     "name": "stdout",
     "output_type": "stream",
     "text": [
      "\n",
      "train Loss: 1.1789 Acc: 0.4779\n"
     ]
    },
    {
     "data": {
      "application/vnd.jupyter.widget-view+json": {
       "model_id": "f6d560b2a7364103975e9d66f194e617",
       "version_major": 2,
       "version_minor": 0
      },
      "text/plain": [
       "HBox(children=(FloatProgress(value=0.0, max=1950.0), HTML(value='')))"
      ]
     },
     "metadata": {},
     "output_type": "display_data"
    },
    {
     "name": "stdout",
     "output_type": "stream",
     "text": [
      "\n",
      "valid Loss: 1.4889 Acc: 0.2890\n",
      "\n",
      "Epoch 13/29\n",
      "----------\n"
     ]
    },
    {
     "data": {
      "application/vnd.jupyter.widget-view+json": {
       "model_id": "45996c1e180e46b3a9d72770bf71a25f",
       "version_major": 2,
       "version_minor": 0
      },
      "text/plain": [
       "HBox(children=(FloatProgress(value=0.0, max=1323.0), HTML(value='')))"
      ]
     },
     "metadata": {},
     "output_type": "display_data"
    },
    {
     "name": "stdout",
     "output_type": "stream",
     "text": [
      "\n",
      "train Loss: 1.1696 Acc: 0.4787\n"
     ]
    },
    {
     "data": {
      "application/vnd.jupyter.widget-view+json": {
       "model_id": "db4a500bcb4f4bc09bfb3ad40fb1f605",
       "version_major": 2,
       "version_minor": 0
      },
      "text/plain": [
       "HBox(children=(FloatProgress(value=0.0, max=1950.0), HTML(value='')))"
      ]
     },
     "metadata": {},
     "output_type": "display_data"
    },
    {
     "name": "stdout",
     "output_type": "stream",
     "text": [
      "\n",
      "valid Loss: 1.5152 Acc: 0.2849\n",
      "\n",
      "Epoch 14/29\n",
      "----------\n"
     ]
    },
    {
     "data": {
      "application/vnd.jupyter.widget-view+json": {
       "model_id": "dfde84b99c444d0e80a9902749bfdf18",
       "version_major": 2,
       "version_minor": 0
      },
      "text/plain": [
       "HBox(children=(FloatProgress(value=0.0, max=1323.0), HTML(value='')))"
      ]
     },
     "metadata": {},
     "output_type": "display_data"
    },
    {
     "name": "stdout",
     "output_type": "stream",
     "text": [
      "\n",
      "train Loss: 1.1644 Acc: 0.4790\n"
     ]
    },
    {
     "data": {
      "application/vnd.jupyter.widget-view+json": {
       "model_id": "7c65d71f914d48e4841081ce268ca376",
       "version_major": 2,
       "version_minor": 0
      },
      "text/plain": [
       "HBox(children=(FloatProgress(value=0.0, max=1950.0), HTML(value='')))"
      ]
     },
     "metadata": {},
     "output_type": "display_data"
    },
    {
     "name": "stdout",
     "output_type": "stream",
     "text": [
      "\n",
      "valid Loss: 1.5367 Acc: 0.2680\n",
      "\n",
      "Epoch 15/29\n",
      "----------\n"
     ]
    },
    {
     "data": {
      "application/vnd.jupyter.widget-view+json": {
       "model_id": "a1fada8383be404590c67bdac75a5569",
       "version_major": 2,
       "version_minor": 0
      },
      "text/plain": [
       "HBox(children=(FloatProgress(value=0.0, max=1323.0), HTML(value='')))"
      ]
     },
     "metadata": {},
     "output_type": "display_data"
    },
    {
     "name": "stdout",
     "output_type": "stream",
     "text": [
      "\n",
      "train Loss: 1.1627 Acc: 0.4803\n"
     ]
    },
    {
     "data": {
      "application/vnd.jupyter.widget-view+json": {
       "model_id": "5baf118871ce4137a8f44f39b2808596",
       "version_major": 2,
       "version_minor": 0
      },
      "text/plain": [
       "HBox(children=(FloatProgress(value=0.0, max=1950.0), HTML(value='')))"
      ]
     },
     "metadata": {},
     "output_type": "display_data"
    },
    {
     "name": "stdout",
     "output_type": "stream",
     "text": [
      "\n",
      "valid Loss: 1.5587 Acc: 0.2428\n",
      "\n",
      "Epoch 16/29\n",
      "----------\n"
     ]
    },
    {
     "data": {
      "application/vnd.jupyter.widget-view+json": {
       "model_id": "8ce4f97627504c98a4238ebc58265a6f",
       "version_major": 2,
       "version_minor": 0
      },
      "text/plain": [
       "HBox(children=(FloatProgress(value=0.0, max=1323.0), HTML(value='')))"
      ]
     },
     "metadata": {},
     "output_type": "display_data"
    },
    {
     "name": "stdout",
     "output_type": "stream",
     "text": [
      "\n",
      "train Loss: 1.1539 Acc: 0.4923\n"
     ]
    },
    {
     "data": {
      "application/vnd.jupyter.widget-view+json": {
       "model_id": "d1e3ad8b37154aecbf45d3cd4d037524",
       "version_major": 2,
       "version_minor": 0
      },
      "text/plain": [
       "HBox(children=(FloatProgress(value=0.0, max=1950.0), HTML(value='')))"
      ]
     },
     "metadata": {},
     "output_type": "display_data"
    },
    {
     "name": "stdout",
     "output_type": "stream",
     "text": [
      "\n",
      "valid Loss: 1.5827 Acc: 0.2575\n",
      "\n",
      "Epoch 17/29\n",
      "----------\n"
     ]
    },
    {
     "data": {
      "application/vnd.jupyter.widget-view+json": {
       "model_id": "9ec3da1589ae4dd48caf8150572999cb",
       "version_major": 2,
       "version_minor": 0
      },
      "text/plain": [
       "HBox(children=(FloatProgress(value=0.0, max=1323.0), HTML(value='')))"
      ]
     },
     "metadata": {},
     "output_type": "display_data"
    },
    {
     "name": "stdout",
     "output_type": "stream",
     "text": [
      "\n",
      "train Loss: 1.1411 Acc: 0.4995\n"
     ]
    },
    {
     "data": {
      "application/vnd.jupyter.widget-view+json": {
       "model_id": "ef5df878cdbe4949a0f0cd35524a148d",
       "version_major": 2,
       "version_minor": 0
      },
      "text/plain": [
       "HBox(children=(FloatProgress(value=0.0, max=1950.0), HTML(value='')))"
      ]
     },
     "metadata": {},
     "output_type": "display_data"
    },
    {
     "name": "stdout",
     "output_type": "stream",
     "text": [
      "\n",
      "valid Loss: 1.5009 Acc: 0.2679\n",
      "\n",
      "Epoch 18/29\n",
      "----------\n"
     ]
    },
    {
     "data": {
      "application/vnd.jupyter.widget-view+json": {
       "model_id": "eb267c5f0a7e489a9b1a7e68a9d5e4a1",
       "version_major": 2,
       "version_minor": 0
      },
      "text/plain": [
       "HBox(children=(FloatProgress(value=0.0, max=1323.0), HTML(value='')))"
      ]
     },
     "metadata": {},
     "output_type": "display_data"
    },
    {
     "name": "stdout",
     "output_type": "stream",
     "text": [
      "\n",
      "train Loss: 1.1344 Acc: 0.5041\n"
     ]
    },
    {
     "data": {
      "application/vnd.jupyter.widget-view+json": {
       "model_id": "731f09560bd64581a271fed4cb5ee427",
       "version_major": 2,
       "version_minor": 0
      },
      "text/plain": [
       "HBox(children=(FloatProgress(value=0.0, max=1950.0), HTML(value='')))"
      ]
     },
     "metadata": {},
     "output_type": "display_data"
    },
    {
     "name": "stdout",
     "output_type": "stream",
     "text": [
      "\n",
      "valid Loss: 1.5763 Acc: 0.2592\n",
      "\n",
      "Epoch 19/29\n",
      "----------\n"
     ]
    },
    {
     "data": {
      "application/vnd.jupyter.widget-view+json": {
       "model_id": "ef63ccc55be6455e8abec55c55e779df",
       "version_major": 2,
       "version_minor": 0
      },
      "text/plain": [
       "HBox(children=(FloatProgress(value=0.0, max=1323.0), HTML(value='')))"
      ]
     },
     "metadata": {},
     "output_type": "display_data"
    },
    {
     "name": "stdout",
     "output_type": "stream",
     "text": [
      "\n",
      "train Loss: 1.1242 Acc: 0.5081\n"
     ]
    },
    {
     "data": {
      "application/vnd.jupyter.widget-view+json": {
       "model_id": "a13df9e57c1448458feb155b75ba9ae7",
       "version_major": 2,
       "version_minor": 0
      },
      "text/plain": [
       "HBox(children=(FloatProgress(value=0.0, max=1950.0), HTML(value='')))"
      ]
     },
     "metadata": {},
     "output_type": "display_data"
    },
    {
     "name": "stdout",
     "output_type": "stream",
     "text": [
      "\n",
      "valid Loss: 1.6380 Acc: 0.2594\n",
      "\n",
      "Epoch 20/29\n",
      "----------\n"
     ]
    },
    {
     "data": {
      "application/vnd.jupyter.widget-view+json": {
       "model_id": "887b2b437e3f4dc48078aacf2553eb24",
       "version_major": 2,
       "version_minor": 0
      },
      "text/plain": [
       "HBox(children=(FloatProgress(value=0.0, max=1323.0), HTML(value='')))"
      ]
     },
     "metadata": {},
     "output_type": "display_data"
    },
    {
     "name": "stdout",
     "output_type": "stream",
     "text": [
      "\n",
      "train Loss: 1.1221 Acc: 0.5117\n"
     ]
    },
    {
     "data": {
      "application/vnd.jupyter.widget-view+json": {
       "model_id": "31d51dbf985a4f16b14dfabc77ba49ba",
       "version_major": 2,
       "version_minor": 0
      },
      "text/plain": [
       "HBox(children=(FloatProgress(value=0.0, max=1950.0), HTML(value='')))"
      ]
     },
     "metadata": {},
     "output_type": "display_data"
    },
    {
     "name": "stdout",
     "output_type": "stream",
     "text": [
      "\n",
      "valid Loss: 1.5875 Acc: 0.2548\n",
      "\n",
      "Epoch 21/29\n",
      "----------\n"
     ]
    },
    {
     "data": {
      "application/vnd.jupyter.widget-view+json": {
       "model_id": "a368e4b303654d96abfda7a4c89b973b",
       "version_major": 2,
       "version_minor": 0
      },
      "text/plain": [
       "HBox(children=(FloatProgress(value=0.0, max=1323.0), HTML(value='')))"
      ]
     },
     "metadata": {},
     "output_type": "display_data"
    },
    {
     "name": "stdout",
     "output_type": "stream",
     "text": [
      "\n",
      "train Loss: 1.1162 Acc: 0.5078\n"
     ]
    },
    {
     "data": {
      "application/vnd.jupyter.widget-view+json": {
       "model_id": "8f0dd5d1818c4a9a90595fba52f6d84e",
       "version_major": 2,
       "version_minor": 0
      },
      "text/plain": [
       "HBox(children=(FloatProgress(value=0.0, max=1950.0), HTML(value='')))"
      ]
     },
     "metadata": {},
     "output_type": "display_data"
    },
    {
     "name": "stdout",
     "output_type": "stream",
     "text": [
      "\n",
      "valid Loss: 1.5595 Acc: 0.2594\n",
      "\n",
      "Epoch 22/29\n",
      "----------\n"
     ]
    },
    {
     "data": {
      "application/vnd.jupyter.widget-view+json": {
       "model_id": "ce959a8dfcdd4adf8f2b0960827eaa8d",
       "version_major": 2,
       "version_minor": 0
      },
      "text/plain": [
       "HBox(children=(FloatProgress(value=0.0, max=1323.0), HTML(value='')))"
      ]
     },
     "metadata": {},
     "output_type": "display_data"
    },
    {
     "name": "stdout",
     "output_type": "stream",
     "text": [
      "\n",
      "train Loss: 1.1033 Acc: 0.5174\n"
     ]
    },
    {
     "data": {
      "application/vnd.jupyter.widget-view+json": {
       "model_id": "3b515577ac654e1da7ada12037437cfd",
       "version_major": 2,
       "version_minor": 0
      },
      "text/plain": [
       "HBox(children=(FloatProgress(value=0.0, max=1950.0), HTML(value='')))"
      ]
     },
     "metadata": {},
     "output_type": "display_data"
    },
    {
     "name": "stdout",
     "output_type": "stream",
     "text": [
      "\n",
      "valid Loss: 1.5607 Acc: 0.2625\n",
      "\n",
      "Epoch 23/29\n",
      "----------\n"
     ]
    },
    {
     "data": {
      "application/vnd.jupyter.widget-view+json": {
       "model_id": "a108d205ee434d0c96ac78ecb0d6d5ac",
       "version_major": 2,
       "version_minor": 0
      },
      "text/plain": [
       "HBox(children=(FloatProgress(value=0.0, max=1323.0), HTML(value='')))"
      ]
     },
     "metadata": {},
     "output_type": "display_data"
    },
    {
     "name": "stdout",
     "output_type": "stream",
     "text": [
      "\n",
      "train Loss: 1.0938 Acc: 0.5208\n"
     ]
    },
    {
     "data": {
      "application/vnd.jupyter.widget-view+json": {
       "model_id": "66654798232a4d86841be7906804a948",
       "version_major": 2,
       "version_minor": 0
      },
      "text/plain": [
       "HBox(children=(FloatProgress(value=0.0, max=1950.0), HTML(value='')))"
      ]
     },
     "metadata": {},
     "output_type": "display_data"
    },
    {
     "name": "stdout",
     "output_type": "stream",
     "text": [
      "\n",
      "valid Loss: 1.7594 Acc: 0.2281\n",
      "\n",
      "Epoch 24/29\n",
      "----------\n"
     ]
    },
    {
     "data": {
      "application/vnd.jupyter.widget-view+json": {
       "model_id": "f74808418fdf4a3187fc7f9bcd2bb159",
       "version_major": 2,
       "version_minor": 0
      },
      "text/plain": [
       "HBox(children=(FloatProgress(value=0.0, max=1323.0), HTML(value='')))"
      ]
     },
     "metadata": {},
     "output_type": "display_data"
    },
    {
     "name": "stdout",
     "output_type": "stream",
     "text": [
      "\n",
      "train Loss: 1.0903 Acc: 0.5335\n"
     ]
    },
    {
     "data": {
      "application/vnd.jupyter.widget-view+json": {
       "model_id": "d62d2fa54e9f4ab5bd780adf21a899f7",
       "version_major": 2,
       "version_minor": 0
      },
      "text/plain": [
       "HBox(children=(FloatProgress(value=0.0, max=1950.0), HTML(value='')))"
      ]
     },
     "metadata": {},
     "output_type": "display_data"
    },
    {
     "name": "stdout",
     "output_type": "stream",
     "text": [
      "\n",
      "valid Loss: 1.6065 Acc: 0.2544\n",
      "\n",
      "Epoch 25/29\n",
      "----------\n"
     ]
    },
    {
     "data": {
      "application/vnd.jupyter.widget-view+json": {
       "model_id": "767415007ef94e9ca00c5c195b137c25",
       "version_major": 2,
       "version_minor": 0
      },
      "text/plain": [
       "HBox(children=(FloatProgress(value=0.0, max=1323.0), HTML(value='')))"
      ]
     },
     "metadata": {},
     "output_type": "display_data"
    },
    {
     "name": "stdout",
     "output_type": "stream",
     "text": [
      "\n",
      "train Loss: 1.0880 Acc: 0.5286\n"
     ]
    },
    {
     "data": {
      "application/vnd.jupyter.widget-view+json": {
       "model_id": "b4241929ed1043588d3ef42bce18d681",
       "version_major": 2,
       "version_minor": 0
      },
      "text/plain": [
       "HBox(children=(FloatProgress(value=0.0, max=1950.0), HTML(value='')))"
      ]
     },
     "metadata": {},
     "output_type": "display_data"
    },
    {
     "name": "stdout",
     "output_type": "stream",
     "text": [
      "\n",
      "valid Loss: 1.5849 Acc: 0.2674\n",
      "\n",
      "Epoch 26/29\n",
      "----------\n"
     ]
    },
    {
     "data": {
      "application/vnd.jupyter.widget-view+json": {
       "model_id": "9cfa8f4966134cc4bf68f0e61a3c9f1a",
       "version_major": 2,
       "version_minor": 0
      },
      "text/plain": [
       "HBox(children=(FloatProgress(value=0.0, max=1323.0), HTML(value='')))"
      ]
     },
     "metadata": {},
     "output_type": "display_data"
    },
    {
     "name": "stdout",
     "output_type": "stream",
     "text": [
      "\n",
      "train Loss: 1.0771 Acc: 0.5293\n"
     ]
    },
    {
     "data": {
      "application/vnd.jupyter.widget-view+json": {
       "model_id": "4e0eec84516140d0bbd5a5673d1ab765",
       "version_major": 2,
       "version_minor": 0
      },
      "text/plain": [
       "HBox(children=(FloatProgress(value=0.0, max=1950.0), HTML(value='')))"
      ]
     },
     "metadata": {},
     "output_type": "display_data"
    },
    {
     "name": "stdout",
     "output_type": "stream",
     "text": [
      "\n",
      "valid Loss: 1.6453 Acc: 0.2535\n",
      "\n",
      "Epoch 27/29\n",
      "----------\n"
     ]
    },
    {
     "data": {
      "application/vnd.jupyter.widget-view+json": {
       "model_id": "6d7c431edbf94b3c9e00bdf7db5f376d",
       "version_major": 2,
       "version_minor": 0
      },
      "text/plain": [
       "HBox(children=(FloatProgress(value=0.0, max=1323.0), HTML(value='')))"
      ]
     },
     "metadata": {},
     "output_type": "display_data"
    },
    {
     "name": "stdout",
     "output_type": "stream",
     "text": [
      "\n",
      "train Loss: 1.0690 Acc: 0.5364\n"
     ]
    },
    {
     "data": {
      "application/vnd.jupyter.widget-view+json": {
       "model_id": "2ea8f4cf56dd46198f5615622741b7cb",
       "version_major": 2,
       "version_minor": 0
      },
      "text/plain": [
       "HBox(children=(FloatProgress(value=0.0, max=1950.0), HTML(value='')))"
      ]
     },
     "metadata": {},
     "output_type": "display_data"
    },
    {
     "name": "stdout",
     "output_type": "stream",
     "text": [
      "\n",
      "valid Loss: 1.7756 Acc: 0.2235\n",
      "\n",
      "Epoch 28/29\n",
      "----------\n"
     ]
    },
    {
     "data": {
      "application/vnd.jupyter.widget-view+json": {
       "model_id": "0caea484ce5f4780996f7e9650698a16",
       "version_major": 2,
       "version_minor": 0
      },
      "text/plain": [
       "HBox(children=(FloatProgress(value=0.0, max=1323.0), HTML(value='')))"
      ]
     },
     "metadata": {},
     "output_type": "display_data"
    },
    {
     "name": "stdout",
     "output_type": "stream",
     "text": [
      "\n",
      "train Loss: 1.0631 Acc: 0.5430\n"
     ]
    },
    {
     "data": {
      "application/vnd.jupyter.widget-view+json": {
       "model_id": "9dc9abe0366841399d8a4bb01697251b",
       "version_major": 2,
       "version_minor": 0
      },
      "text/plain": [
       "HBox(children=(FloatProgress(value=0.0, max=1950.0), HTML(value='')))"
      ]
     },
     "metadata": {},
     "output_type": "display_data"
    },
    {
     "name": "stdout",
     "output_type": "stream",
     "text": [
      "\n",
      "valid Loss: 1.6906 Acc: 0.2461\n",
      "\n",
      "Epoch 29/29\n",
      "----------\n"
     ]
    },
    {
     "data": {
      "application/vnd.jupyter.widget-view+json": {
       "model_id": "a994c87d8f87440b87d155fae89bb41f",
       "version_major": 2,
       "version_minor": 0
      },
      "text/plain": [
       "HBox(children=(FloatProgress(value=0.0, max=1323.0), HTML(value='')))"
      ]
     },
     "metadata": {},
     "output_type": "display_data"
    },
    {
     "name": "stdout",
     "output_type": "stream",
     "text": [
      "\n",
      "train Loss: 1.0575 Acc: 0.5441\n"
     ]
    },
    {
     "data": {
      "application/vnd.jupyter.widget-view+json": {
       "model_id": "80d1ef8fcdd3427180897e535182921b",
       "version_major": 2,
       "version_minor": 0
      },
      "text/plain": [
       "HBox(children=(FloatProgress(value=0.0, max=1950.0), HTML(value='')))"
      ]
     },
     "metadata": {},
     "output_type": "display_data"
    },
    {
     "name": "stdout",
     "output_type": "stream",
     "text": [
      "\n",
      "valid Loss: 1.6950 Acc: 0.2607\n",
      "\n",
      "Training complete in 219m 58s\n",
      "Best val Acc: 0.288974\n"
     ]
    }
   ],
   "source": [
    "criterion = CustomCriterion()\n",
    "model, hist = train_model(model, dataloaders_dict, criterion, optimizer, TOTAL_EPOCHS)"
   ]
  },
  {
   "cell_type": "code",
   "execution_count": 18,
   "metadata": {
    "scrolled": true
   },
   "outputs": [
    {
     "name": "stdout",
     "output_type": "stream",
     "text": [
      "Saving model to ../models/country_held_out/malawi_2016/house_has_cellphone/trained_model_house_has_cellphone.pt\n"
     ]
    }
   ],
   "source": [
    "savepath = os.path.join(CNN_SAVE_DIR, f'trained_model_{METRIC}.pt')\n",
    "if os.path.isfile(savepath):\n",
    "    print('A model is already saved at this location')\n",
    "else:\n",
    "    print(f'Saving model to {savepath}')\n",
    "    torch.save(model, savepath)"
   ]
  },
  {
   "cell_type": "code",
   "execution_count": 17,
   "metadata": {},
   "outputs": [
    {
     "data": {
      "application/vnd.jupyter.widget-view+json": {
       "model_id": "5fb953d87ee44449b88738feaa0663b7",
       "version_major": 2,
       "version_minor": 0
      },
      "text/plain": [
       "HBox(children=(FloatProgress(value=0.0, max=1323.0), HTML(value='')))"
      ]
     },
     "metadata": {},
     "output_type": "display_data"
    },
    {
     "name": "stdout",
     "output_type": "stream",
     "text": [
      "\n",
      "Acc: 0.2889\n"
     ]
    }
   ],
   "source": [
    "# use this to see the validation accuracy\n",
    "model.eval()\n",
    "running_corrects = 0\n",
    "for inputs, labels, _ in tqdm(dataloaders_dict['valid']):\n",
    "    inputs = inputs.to(DEVICE)\n",
    "    labels = labels.to(DEVICE)\n",
    "    with torch.set_grad_enabled(False):\n",
    "        outputs = model(inputs)\n",
    "        _, preds = torch.max(outputs, 1)\n",
    "\n",
    "    # statistics\n",
    "    running_corrects += torch.sum(preds == labels.data)\n",
    "\n",
    "epoch_acc = running_corrects.double() / len(dataloaders_dict['valid'].dataset)\n",
    "\n",
    "print('Acc: {:.4f}'.format(epoch_acc))"
   ]
  },
  {
   "cell_type": "code",
   "execution_count": null,
   "metadata": {},
   "outputs": [],
   "source": []
  }
 ],
 "metadata": {
  "environment": {
   "name": "pytorch-gpu.1-4.m46",
   "type": "gcloud",
   "uri": "gcr.io/deeplearning-platform-release/pytorch-gpu.1-4:m46"
  },
  "kernelspec": {
   "display_name": "taddle",
   "language": "python",
   "name": "taddle"
  },
  "language_info": {
   "codemirror_mode": {
    "name": "ipython",
    "version": 3
   },
   "file_extension": ".py",
   "mimetype": "text/x-python",
   "name": "python",
   "nbconvert_exporter": "python",
   "pygments_lexer": "ipython3",
   "version": "3.6.10"
  }
 },
 "nbformat": 4,
 "nbformat_minor": 2
}
